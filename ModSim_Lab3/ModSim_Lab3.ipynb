{
  "cells": [
    {
      "cell_type": "markdown",
      "metadata": {
        "id": "Im2Mmg04EkJB"
      },
      "source": [
        "<figure>\n",
        "  <IMG src=\"figures/logo-esi-sba.png\" WIDTH=300 height=\"100\" ALIGN=\"right\">\n",
        "</figure>\n",
        "\n",
        "# Practical Trainining Series on Modeling And Simulation   \n",
        "*By Dr. Belkacem KHALDI (b.khaldi@esi-sba.dz)*"
      ]
    },
    {
      "cell_type": "markdown",
      "metadata": {
        "id": "VCoTk4fMEkJB"
      },
      "source": [
        "## Notebook 3: Probabilities and Random Number Simulation\n",
        "In this Notebook you learn how to deal with Probabilities and Random Number Simulation. Many of the functions we will use are included in the `random` subpackage of `numpy`. We will import this package and call it `rnd` so that we don't have to type `np.random`. all the time."
      ]
    },
    {
      "cell_type": "code",
      "execution_count": 1,
      "metadata": {
        "id": "lTjkPDt4EkJR"
      },
      "outputs": [],
      "source": [
        "%matplotlib inline\n",
        "import numpy as np\n",
        "import matplotlib.pyplot as plt\n",
        "import numpy.random as rnd"
      ]
    },
    {
      "cell_type": "markdown",
      "metadata": {
        "id": "TGXTqwsQEkJR"
      },
      "source": [
        "### 1- Introduction to Probability\n",
        "Probability is a means of determining and describing the likelihood of an event occurring or the truth of a situation. It's a helpful mathematical tool for coping with unpredictability and uncertainty.\n",
        "\n",
        "### Exemple 1: Tossing a coin\n",
        "Currency coins are often said to have two sides: a \"head\" and a \"tail\"\n",
        "\n",
        "<figure>\n",
        "  <IMG src=\"figures/coin-100dz.jpeg\" WIDTH=300 height=\"100\" ALIGN=\"right\">\n",
        "</figure>\n",
        "\n",
        "A fair coin is one that is equally likely to land on either side when tossed or flipped. The side that shows up on top once the coin lands is referred to as the result of a coin toss/flip.\n",
        "    \n",
        "If we have precise measurements of the physical environment and the forces used to toss the coin, we may be able to predict the outcome. However, we rarely have access to this information, making it difficult (if not impossible) to execute all of these measurements with adequate precision.\n",
        "    \n",
        "The assumption of randomness allows you to deal with limited data and unpredictable outcomes. Tossing a coin is described as an experiment that can yield one of two outcomes at random. Probability is a metric for determining how likely each outcome is.\n",
        "\n",
        "> **Question**: If you flip a fair coin, what is the **probability** of **getting heads**?\n",
        "\n",
        "When we have several equally likely possible outcomes, the probability of a condition (also called event) is defined as:\n",
        "\n",
        "> $$P(\\textrm{condition}) = \\frac{\\textrm{ No. of outcomes satisfying the condition }} {\\textrm{Number of equally likely outcomes}}$$\n",
        "\n",
        "**The probability of a condition/event is a number between 0 and 1.**\n",
        "\n",
        "\n",
        "We can define a function `probability` to perform this calculation."
      ]
    },
    {
      "cell_type": "code",
      "execution_count": 2,
      "metadata": {
        "id": "ZmnEokrmEkJR"
      },
      "outputs": [],
      "source": [
        "def probability(matching_outcomes, total_outcomes):\n",
        "    return matching_outcomes/total_outcomes"
      ]
    },
    {
      "cell_type": "markdown",
      "metadata": {
        "id": "lCRJ-Q22EkJR"
      },
      "source": [
        "When we toss a fair coin, there are just two conceivable outcomes: \"head\" or \"tail,\" both equally likely. One of the outcomes matches the condition \"getting a head\".\n",
        "\n",
        "With this information, we can now use the formula to compute the probability of a getting a head."
      ]
    },
    {
      "cell_type": "code",
      "execution_count": 3,
      "metadata": {
        "colab": {
          "base_uri": "https://localhost:8080/"
        },
        "id": "PgMWjYYZEkJR",
        "outputId": "087bfccf-4185-42e8-927f-f6c444d0685a"
      },
      "outputs": [
        {
          "name": "stdout",
          "output_type": "stream",
          "text": [
            "The probability of getting a head: 0.5\n"
          ]
        }
      ],
      "source": [
        "p_head = probability(matching_outcomes=1, total_outcomes=2)\n",
        "print(\"The probability of getting a head:\", p_head)"
      ]
    },
    {
      "cell_type": "markdown",
      "metadata": {
        "id": "2IBIlND2EkJR"
      },
      "source": [
        "### Challenge 1\n",
        "Using the `probability` function mention above, compute the probability of the following queries when you flip a fair coin:\n",
        "<ol>\n",
        "  <li>What is the probability  of getting a tail ? </li>\n",
        "  <li>What is the probability of getting a head or a tail?</li>\n",
        "  <li>What is the probability of receiving neither a head nor a tail?</li>\n",
        "</ol>\n",
        "   "
      ]
    },
    {
      "cell_type": "code",
      "execution_count": 4,
      "metadata": {
        "id": "38_KOfY2EkJR"
      },
      "outputs": [
        {
          "name": "stdout",
          "output_type": "stream",
          "text": [
            "probability of getting a tail: 0.5\n",
            "probability of getting tail or head: 1.0\n",
            "probabilty of getting neither head nor tail: 0\n"
          ]
        }
      ],
      "source": [
        "#Your solutions here\n",
        "print(\"probability of getting a tail:\", probability(1, 2))\n",
        "print(\"probability of getting tail or head:\", probability(1, 2) + probability(1, 2))\n",
        "print(\"probabilty of getting neither head nor tail:\", 0)"
      ]
    },
    {
      "cell_type": "markdown",
      "metadata": {
        "id": "7dDKn8QCEkJR"
      },
      "source": [
        "### Exemple 2: Rolling dice\n",
        "\n",
        "A die (plural dice) is a 6-sided cube with a varied number of dots on each face (one to six). The number of dots that appear on the top face of a die after it has been rolled or thrown is known as the result of the roll/throw. As a result, a die throw can result in one of the following outcomes: 1, 2, 3, 4, 5, or 6.\n",
        "\n",
        "<img src=\"figures/one-dice.jpg\" width=\"100\">\n",
        "\n",
        "> **Question**: What is the probability of getting a four when a fair die is rolled?\n",
        "\n",
        "All outcomes are equally likely for a fair die, and the only the outcome 4 satisfies the condition \"getting a 4\". Thus, we can calculate the probability of the condition as follows:"
      ]
    },
    {
      "cell_type": "code",
      "execution_count": 5,
      "metadata": {
        "colab": {
          "base_uri": "https://localhost:8080/"
        },
        "id": "W8jK3IioEkJR",
        "outputId": "bbd95e6f-1400-4cef-a9be-354c90cc3f7f"
      },
      "outputs": [
        {
          "name": "stdout",
          "output_type": "stream",
          "text": [
            "The probability of getting a 4: 0.16666666666666666\n"
          ]
        }
      ],
      "source": [
        "p_die_4=probability(matching_outcomes=1, total_outcomes=6)\n",
        "print(\"The probability of getting a 4:\", p_die_4)"
      ]
    },
    {
      "cell_type": "markdown",
      "metadata": {
        "id": "clasSQUDEkJR"
      },
      "source": [
        "### Challenge 2\n",
        "Compute the probability of the following queries when rolling a die:\n",
        "\n",
        "<ol>\n",
        "  <li>What is the probability of getting <b> an even number </b>? </li>\n",
        "  <li>What is the probability of getting <b>a three or a six </b>?</li>\n",
        "  <li>What is the probability of getting <b>a three and a six</b>?</li>\n",
        "   <li> What is the probability of getting <b> a three or a seven</b>?</li>\n",
        "</ol>"
      ]
    },
    {
      "cell_type": "code",
      "execution_count": 6,
      "metadata": {
        "id": "EzA-k4ujEkJR"
      },
      "outputs": [
        {
          "name": "stdout",
          "output_type": "stream",
          "text": [
            "the probability of getting an even number: 0.5\n",
            "the probability of getting a 3 or 6: 0.3333333333333333\n",
            "the probability of getting a 3 and a 6: 0.0\n",
            "the probability of getting a 3 or a 7: 0.3333333333333333\n"
          ]
        }
      ],
      "source": [
        "#Your Solutions Here\n",
        "print(\"the probability of getting an even number:\", probability(3, 6))\n",
        "print(\"the probability of getting a 3 or 6:\", probability(2, 6))\n",
        "print(\"the probability of getting a 3 and a 6:\", probability(0, 6))\n",
        "print(\"the probability of getting a 3 or a 7:\", probability(2, 6))"
      ]
    },
    {
      "cell_type": "markdown",
      "metadata": {
        "id": "XLZt7SKYEkJR"
      },
      "source": [
        "### Exemple 3: Playing Cards\n",
        "\n",
        "<img src=\"figures/deck_cards.jpg\" width=\"200\">\n",
        "\n",
        "There are 52 cards in a deck of playing cards. Each card is assigned to one of four suits: Spade ♠️, Clubs ♣️, Hearts ♥️ or Diamonds ♦️. Each suit consists of 13 cards: *Ace, 2, 3, 4, 5, 6, 7, 8, 9, 10, Jack, Queen*, and *King*. Hearts and diamonds are red, but spades and clubs are black.\n",
        "\n",
        "<img src=\"figures/playing_cards_deck.svg.png\" >\n",
        "\n",
        "\n",
        "\n",
        "\n",
        "In a well-shuffled deck of cards, any card is equally likely to end up at any position in the deck.\n",
        "\n",
        "<img src=\"figures/giphy.gif\" >\n",
        "\n",
        "\n",
        "> **Question**: What is the probability of **drawing a King of Hearts** from a well-shuffled deck of cards?\n",
        "\n",
        "There are 52 equally likely outcomes of the card being drawn, and just one outcome matches this condition."
      ]
    },
    {
      "cell_type": "code",
      "execution_count": 7,
      "metadata": {
        "colab": {
          "base_uri": "https://localhost:8080/"
        },
        "id": "FVWEsCxmEkJR",
        "outputId": "0ac40093-5b43-4888-ab55-4b8537849768"
      },
      "outputs": [
        {
          "name": "stdout",
          "output_type": "stream",
          "text": [
            "The probability of getting a King of Hearts: 0.019230769230769232\n"
          ]
        }
      ],
      "source": [
        "p_king_of_hearts=probability(matching_outcomes=1, total_outcomes=52)\n",
        "print(\"The probability of getting a King of Hearts:\", p_king_of_hearts)"
      ]
    },
    {
      "cell_type": "markdown",
      "metadata": {
        "id": "eOZRRP5jEkJR"
      },
      "source": [
        "### Challenge 3\n",
        "What is the probability of **drawing a red card** from a well-shuffled deck of cards.\n",
        "\n",
        "> *Hint*: Count the number of red cards.\n",
        "\n",
        "What is the probability of **drawing a spade ♠️** from a well-shuffled deck of cards.\n",
        "\n",
        "What is the probability of **drawing a 7** from a well-shuffled deck of cards.\n",
        "\n",
        "What is the probability of **drawing a card that's a spade and a jack** from a well-shuffled deck of cards?"
      ]
    },
    {
      "cell_type": "code",
      "execution_count": 8,
      "metadata": {
        "id": "ser-NIvZEkJR"
      },
      "outputs": [
        {
          "name": "stdout",
          "output_type": "stream",
          "text": [
            "the probability of drawing a red card: 0.5\n",
            "the probability of drawing a spade: 0.25\n",
            "the probability of drawing a 7: 0.07692307692307693\n",
            "the probability of drawing a spade and a jack: 0.019230769230769232\n"
          ]
        }
      ],
      "source": [
        "print(\"the probability of drawing a red card:\", probability(26, 52))\n",
        "print(\"the probability of drawing a spade:\", probability(13, 52))\n",
        "print(\"the probability of drawing a 7:\", probability(4, 52))\n",
        "print(\"the probability of drawing a spade and a jack:\", probability(1, 52))"
      ]
    },
    {
      "cell_type": "markdown",
      "metadata": {
        "id": "kN80WERmEkJR"
      },
      "source": [
        "### Bayes's Theorem\n",
        "\n",
        "There are two ways to think about Bayes's Theorem:\n",
        "\n",
        "* It is a divide-and conquer strategy for computing conditional probabilities.  If it's hard to compute $P(A|B)$ directly, sometimes it is easier to compute the terms on the other side of the equation: $P(A)$, $P(B|A)$, and $P(B)$.\n",
        "\n",
        "* It is also a recipe for updating beliefs in the light of new data.\n",
        "\n",
        "When we are working with the second interpretation, we often write Bayes's Theorem with different variables.  Instead of $A$ and $B$, we use $H$ and $D$, where\n",
        "\n",
        "* $H$ stands for \"hypothesis\", and\n",
        "\n",
        "* $D$ stands for \"data\".\n",
        "\n",
        "So we write Bayes's Theorem like this:\n",
        "\n",
        "$P(A|B) =\\frac{P(A) ~ P(B|A)}{P(B)}$\n",
        "\n",
        "$P(H|D) =\\frac{P(H) ~ P(D|H)}{P(D)}$\n",
        "\n",
        "In this context, each term has a name:\n",
        "\n",
        "* $P(H)$ is the \"prior probability\" of the hypothesis, which represents how confident you are that $H$ is true prior to seeing the data,\n",
        "\n",
        "* $P(D|H)$ is the \"likelihood\" of the data, which is the probability of seeing $D$ if the hypothesis is true,\n",
        "\n",
        "* $P(D)$ is the \"total probability of the data\", that is, the chance of seeing $D$ regardless of whether $H$ is true or not.\n",
        "\n",
        "* $P(H|D)$ is the \"posterior probability\" of the hypothesis, which indicates how confident you should be that $H$ is true after taking the data into account.\n",
        "\n",
        "An example will make all of this clearer."
      ]
    },
    {
      "cell_type": "markdown",
      "metadata": {
        "id": "gI32GW57EkJR"
      },
      "source": [
        "### The cookie problem\n",
        "\n",
        "\n",
        "> Suppose you have two bowls of cookies.  Bowl 1 contains 30 vanilla and 10 chocolate cookies.  Bowl 2 contains 20 of each kind.\n",
        ">\n",
        "> You choose one of the bowls at random and, without looking into the bowl, choose one of the cookies at random.  It turns out to be a vanilla cookie.\n",
        ">\n",
        "> What is the chance that you chose Bowl 1?\n",
        "\n",
        "We'll assume that there was an equal chance of choosing either bowl and an equal chance of choosing any cookie in the bowl."
      ]
    },
    {
      "cell_type": "markdown",
      "metadata": {
        "id": "B1C7l8vWEkJR"
      },
      "source": [
        "We can solve this problem using Bayes's Theorem. First, I'll define  $H$  and  $D$ :\n",
        "\n",
        "$H$  is the hypothesis that the bowl you chose is Bowl 1.\n",
        "\n",
        "$D$  is the data that the cookie is vanilla.\n",
        "\n",
        "What we want is the posterior probability of  $H$ , which is  $P(H|D)$ . It is not obvious how to compute it directly, but if we can figure out the terms on the right-hand side of Bayes's Theorem, we can get to it indirectly.\n",
        "\n",
        "$P(H)$ is the prior probability of $H$, which is the probability of choosing Bowl 1 before we see the data. If there was an equal chance of choosing either bowl, $P(H)$ is 1/2.\n",
        "\n",
        "$P(D|H)$ is the likelihood of the data, which is the chance of getting a vanilla cookie if $H$ is true, in other words, the chance of getting a vanilla cookie from Bowl 1, which is 30/40.\n",
        "\n",
        "$P(D)$ is the total probability of the data, which is the chance of getting a vanilla cookie whether $𝐻$ is true or not. In this example, we can figure out $P(D)$ directly: because the bowls are equally likely, and they contain the same number of cookies, you were equally likely to choose any cookie. Combining the two bowls, there are 50 vanilla and 30 chocolate cookies, so the probability of choosing a vanilla cookie is 50/80.\n",
        "\n",
        "Now that we have the terms on the right-hand side, we can use Bayes's Theorem to combine them."
      ]
    },
    {
      "cell_type": "code",
      "execution_count": 9,
      "metadata": {
        "colab": {
          "base_uri": "https://localhost:8080/"
        },
        "id": "SuQB3sM8EkJR",
        "outputId": "da229b50-03db-423f-a681-d95e72215620"
      },
      "outputs": [
        {
          "name": "stdout",
          "output_type": "stream",
          "text": [
            "The probability of choosing Bowl 1: 0.6\n"
          ]
        }
      ],
      "source": [
        "#𝑃(𝐻)\n",
        "prior = probability(matching_outcomes=1, total_outcomes=2)\n",
        "#𝑃(𝐷|𝐻)\n",
        "likelihood =probability(matching_outcomes=30, total_outcomes=40)\n",
        "#𝑃(𝐷)\n",
        "prob_data = probability(matching_outcomes=50, total_outcomes=80)\n",
        "#computing 𝑃(𝐻|𝐷)\n",
        "posterior = prior * likelihood / prob_data\n",
        "print(\"The probability of choosing Bowl 1:\", posterior)"
      ]
    },
    {
      "cell_type": "markdown",
      "metadata": {
        "id": "rbOP8-UjEkJR"
      },
      "source": [
        "The posterior probability is  0.6 , a little higher than the prior, which was  0.5 .\n",
        "\n",
        "So the vanilla cookie makes us a little more certain that we chose Bowl 1.\n",
        "\n",
        "### Challenge 4\n",
        "What if we had chosen a chocolate cookie instead; what would be the posterior probability of Bowl 1?"
      ]
    },
    {
      "cell_type": "markdown",
      "metadata": {},
      "source": [
        "Just like the problem above We can solve this problem using Bayes's Theorem. First, I'll define  $H$  and  $D$ :\n",
        "\n",
        "$H$  is the hypothesis that the bowl you chose is Bowl 1.\n",
        "\n",
        "$D$  is the data that the cookie is **chocolate**.\n",
        "\n",
        "What we want is the posterior probability of  $H$ , which is  $P(H|D)$ .\n",
        "\n",
        "$P(H)$ is the prior probability of $H$, which is the probability of choosing Bowl 1 before we see the data. If there was an equal chance of choosing either bowl, $P(H)$ is 1/2.\n",
        "\n",
        "$P(D|H)$ is the likelihood of the data, which is the chance of getting a **chocolate** cookie if $H$ is true, in other words, the chance of getting a **chocolate** cookie from Bowl 1, which is 10/40.\n",
        "\n",
        "$P(D)$ is the total probability of the data, which is the chance of getting a **chocolate** cookie whether $𝐻$ is true or not. In this example, we can figure out $P(D)$ directly. Combining the two bowls, there are 50 vanilla and 30 chocolate cookies, so the probability of choosing a **chocolate** cookie is 30/80."
      ]
    },
    {
      "cell_type": "code",
      "execution_count": 10,
      "metadata": {
        "id": "zc1D49qwEkJR"
      },
      "outputs": [
        {
          "name": "stdout",
          "output_type": "stream",
          "text": [
            "The probability of choosing Bowl 1: 0.3333333333333333\n"
          ]
        }
      ],
      "source": [
        "#𝑃(𝐻)\n",
        "prior = probability(matching_outcomes=1, total_outcomes=2)\n",
        "#𝑃(𝐷|𝐻)\n",
        "likelihood =probability(matching_outcomes=10, total_outcomes=40)\n",
        "#𝑃(𝐷)\n",
        "prob_data = probability(matching_outcomes=30, total_outcomes=80)\n",
        "#computing 𝑃(𝐻|𝐷)\n",
        "posterior = prior * likelihood / prob_data\n",
        "print(\"The probability of choosing Bowl 1:\", posterior)"
      ]
    },
    {
      "cell_type": "markdown",
      "metadata": {},
      "source": [
        "The posterior probability is  0.3333 , lower than the prior, which was  0.5 .\n",
        "\n",
        "So the **chocolate** cookie makes us a little more certain that we chose Bowl 2."
      ]
    },
    {
      "cell_type": "markdown",
      "metadata": {
        "id": "QTzuWUR_EkJR"
      },
      "source": [
        "### 2- Random Numbers Generation\n",
        "A random number generator lets you draw, at random, a number from a specified distribution. Several random number generators are included in the `random` subpackage of `numpy`.\n",
        "\n",
        "#### The random.random() function\n",
        " The `random.random()` function returns the next nearest  foating-point value from the generated sequence. All return values are enclosed between 0 and 1.0. Let's explore a practical example that uses this function:"
      ]
    },
    {
      "cell_type": "code",
      "execution_count": 12,
      "metadata": {
        "colab": {
          "base_uri": "https://localhost:8080/"
        },
        "id": "AlEYCiHpEkJR",
        "outputId": "e40f07b0-970a-4fdb-bfcb-4d864de3501e",
        "scrolled": true
      },
      "outputs": [
        {
          "name": "stdout",
          "output_type": "stream",
          "text": [
            "0.0891 0.9631 0.8199 0.6754 0.3024 0.6274 0.3831 0.6702 0.0308 0.6892 0.8569 0.4041 0.5752 0.0091 0.1351 0.6157 0.7287 0.5416 0.9364 0.2734 "
          ]
        }
      ],
      "source": [
        "for i in range(20):\n",
        "    print('%05.4f' % rnd.random(), end=' ')"
      ]
    },
    {
      "cell_type": "markdown",
      "metadata": {
        "id": "nOqkhUJeEkJR"
      },
      "source": [
        "In the above example, 20 pseudorandom numbers are generated. Each number is printed in a format that includes 5 digits, including 4 decimal places.\n",
        "If we call the random() function again, we get a different sequence numbers:"
      ]
    },
    {
      "cell_type": "code",
      "execution_count": 13,
      "metadata": {
        "colab": {
          "base_uri": "https://localhost:8080/"
        },
        "id": "NW7xelo4EkJR",
        "outputId": "90ff253e-5597-4536-a130-82461f71001f"
      },
      "outputs": [
        {
          "name": "stdout",
          "output_type": "stream",
          "text": [
            "0.1738 0.1336 0.4007 0.4696 0.0815 0.7147 0.2388 0.6063 0.2446 0.8207 0.2495 0.9118 0.6218 0.9184 0.3332 0.4126 0.4835 0.9758 0.1255 0.2401 "
          ]
        }
      ],
      "source": [
        "for i in range(20):\n",
        "    print('%05.4f' % rnd.random(), end=' ')"
      ]
    },
    {
      "cell_type": "markdown",
      "metadata": {
        "id": "PiTlJwyeEkJR"
      },
      "source": [
        "#### The random.seed() function\n",
        "Internally, the random number generator starts with what is called a `seed`. The `seed` is a number and is generated automatically (and supposedly at random) when you call the random number generator. The value of the seed exactly defines the sequence of random numbers that you get. For example, let's set seed equal to 1:"
      ]
    },
    {
      "cell_type": "code",
      "execution_count": 14,
      "metadata": {
        "colab": {
          "base_uri": "https://localhost:8080/"
        },
        "id": "u8mY60EBEkJR",
        "outputId": "1607666a-8012-48da-9a69-2795b81be06b"
      },
      "outputs": [
        {
          "name": "stdout",
          "output_type": "stream",
          "text": [
            "0.4170 0.7203 0.0001 0.3023 0.1468 0.0923 0.1863 0.3456 0.3968 0.5388 0.4192 0.6852 0.2045 0.8781 0.0274 0.6705 0.4173 0.5587 0.1404 0.1981 "
          ]
        }
      ],
      "source": [
        "rnd.seed(1)\n",
        "for i in range(20):\n",
        "    print('%05.4f' % rnd.random(), end=' ')"
      ]
    },
    {
      "cell_type": "markdown",
      "metadata": {
        "id": "ToDwkYKVEkJR"
      },
      "source": [
        "If we now specify the `seed` again as 1, the exact same sequence is generated again."
      ]
    },
    {
      "cell_type": "code",
      "execution_count": 15,
      "metadata": {
        "colab": {
          "base_uri": "https://localhost:8080/"
        },
        "id": "sVuy9XquEkJR",
        "outputId": "7cf910ad-5898-44c9-f2e8-e6f9ded83e2b"
      },
      "outputs": [
        {
          "name": "stdout",
          "output_type": "stream",
          "text": [
            "0.4170 0.7203 0.0001 0.3023 0.1468 0.0923 0.1863 0.3456 0.3968 0.5388 0.4192 0.6852 0.2045 0.8781 0.0274 0.6705 0.4173 0.5587 0.1404 0.1981 "
          ]
        }
      ],
      "source": [
        "rnd.seed(1)\n",
        "for i in range(20):\n",
        "    print('%05.4f' % rnd.random(), end=' ')"
      ]
    },
    {
      "cell_type": "markdown",
      "metadata": {
        "id": "_eRdaKjmEkJR"
      },
      "source": [
        "#### The random.uniform() function\n",
        "The `random.uniform()` function generates numbers within a defined numeric range. Let's look at an example:"
      ]
    },
    {
      "cell_type": "code",
      "execution_count": 16,
      "metadata": {
        "colab": {
          "base_uri": "https://localhost:8080/"
        },
        "id": "QRpkfbvfEkJR",
        "outputId": "3af26e96-94dd-40e8-c996-a2c31efeb7b7"
      },
      "outputs": [
        {
          "name": "stdout",
          "output_type": "stream",
          "text": [
            "80.2737 96.8579 32.0290 69.5399 87.7625 89.5661 9.4194 4.8664 17.8132 87.9361 10.7363 42.6897 95.8311 53.7834 69.4958 32.2360 68.9636 83.6279 2.8105 75.2643 "
          ]
        }
      ],
      "source": [
        "for i in range(20):\n",
        "    print('%6.4f' % rnd.uniform(1, 100), end=' ')"
      ]
    },
    {
      "cell_type": "markdown",
      "metadata": {
        "id": "V_cONPrvEkJR"
      },
      "source": [
        "In the above example, 20 random numbers are generated in the range of [1,100)\n",
        "\n",
        "#### The random.randint() function\n",
        "This function generates random integers.  The arguments for `randint()` are the values of the range, including the extremes.  The numbers may be negative or positive, but the  1st value should be less than the second. Let's look at an example:"
      ]
    },
    {
      "cell_type": "code",
      "execution_count": 19,
      "metadata": {
        "colab": {
          "base_uri": "https://localhost:8080/"
        },
        "id": "L2-Mpp_uEkJR",
        "outputId": "d1bbe712-1aea-427a-af1d-d70c8c7cfb90"
      },
      "outputs": [
        {
          "name": "stdout",
          "output_type": "stream",
          "text": [
            "-97 28 -94 -48 98 -98 -24 49 -93 -23 -25 -24 -57 -80 -70 -64 3 -93 -55 96 "
          ]
        }
      ],
      "source": [
        "for i in range(20):\n",
        "    print(rnd.randint(-100, 100), end=' ')"
      ]
    },
    {
      "cell_type": "markdown",
      "metadata": {
        "id": "2tVKJscREkJR"
      },
      "source": [
        "In the above example, 20 random integer numbers are generated in the range of [-100,100]\n",
        "\n",
        "#### The random.choice() function\n",
        "A common use for random number generators is to select a random element from a sequence of enumerated values, even if these values are not numbers.  The `choice()` function returns a random element of the non-empty sequence passed as an argument. This function is suitable to use in extracting values from a predetermined list:"
      ]
    },
    {
      "cell_type": "code",
      "execution_count": 22,
      "metadata": {
        "colab": {
          "base_uri": "https://localhost:8080/"
        },
        "id": "0M2s3n0XEkJR",
        "outputId": "bbbbd9c4-f642-4a1e-b775-03355f2d9031"
      },
      "outputs": [
        {
          "name": "stdout",
          "output_type": "stream",
          "text": [
            "Randomly selected item from Cities list is -  Toronto\n",
            "Randomly selected item from Cities list is -  Berlin\n",
            "Randomly selected item from Cities list is -  Rome\n",
            "Randomly selected item from Cities list is -  New York\n",
            "Randomly selected item from Cities list is -  Tokio\n"
          ]
        }
      ],
      "source": [
        "CitiesList = ['Rome','New York','Algiers','London','Berlin','Moskov',\n",
        "'Los Angeles','Paris','Madrid','Tokio','Toronto']\n",
        "for i in range(5):\n",
        "    CitiesItem = rnd.choice(CitiesList)\n",
        "    print (\"Randomly selected item from Cities list is - \",CitiesItem)"
      ]
    },
    {
      "cell_type": "markdown",
      "metadata": {
        "id": "JjYAsLSwEkJR"
      },
      "source": [
        "In the above example, 5 random elements are selected from the sequence list CitiesList. At each iteration of the cycle, a new element is extracted from the list containingthe names of the cities.\n",
        "\n",
        "#### Selecting n random values from an array\n",
        "Many simulations require random samples from a population of input values.  The `size` option in the `choice()` function is for that purpose. Let's look at an example:"
      ]
    },
    {
      "cell_type": "code",
      "execution_count": 23,
      "metadata": {
        "colab": {
          "base_uri": "https://localhost:8080/"
        },
        "id": "vmkaLPLiEkJR",
        "outputId": "b79ecea0-5830-4be1-82be-f35dcd89b49e"
      },
      "outputs": [
        {
          "name": "stdout",
          "output_type": "stream",
          "text": [
            "Initial Data List =  range(10, 100, 10)\n",
            "Sample Data List =  [90 30 40 20 30]\n"
          ]
        }
      ],
      "source": [
        "DataList = range(10,100,10)\n",
        "print(\"Initial Data List = \",DataList)\n",
        "DataSample = rnd.choice(DataList,size=5)\n",
        "print(\"Sample Data List = \",DataSample)"
      ]
    },
    {
      "cell_type": "markdown",
      "metadata": {
        "id": "0XN2aODIEkJh"
      },
      "source": [
        "In the above example, only 5 elements of the initial list were selected, and this selection was completely random.\n",
        "### 2- Exploring Probability Distributions\n",
        "#### Uniform Distribution\n",
        "This distribution generates random values uniformly distributed over the half-open interval [a,b).\n",
        "Any value within the given interval is equally likely to be drawn by uniform distribution. Let's look at an example:"
      ]
    },
    {
      "cell_type": "code",
      "execution_count": 27,
      "metadata": {
        "colab": {
          "base_uri": "https://localhost:8080/",
          "height": 430
        },
        "id": "-zwIQOvTEkJh",
        "outputId": "51bad96d-1000-4776-d829-32a224b40d8a"
      },
      "outputs": [
        {
          "data": {
            "image/png": "[encoded data removed]",
            "text/plain": [
              "<Figure size 640x480 with 1 Axes>"
            ]
          },
          "metadata": {},
          "output_type": "display_data"
        }
      ],
      "source": [
        "#Initializing uniform distribution parameters\n",
        "a=1\n",
        "b=100\n",
        "N=100\n",
        "#Randomly generate 100 numbers between a and b\n",
        "#using uniform distribution\n",
        "X1=rnd.uniform(a,b,N)\n",
        "#Ploting X1 using matplotlib.pyplot library\n",
        "plt.plot(X1)\n",
        "plt.show()"
      ]
    },
    {
      "cell_type": "markdown",
      "metadata": {
        "id": "DQI5KuxuEkJh"
      },
      "source": [
        "Lets now analyze how the generated values are distributed in the interval considered. We draw a graph of the probability density function as follows:"
      ]
    },
    {
      "cell_type": "code",
      "execution_count": 28,
      "metadata": {
        "colab": {
          "base_uri": "https://localhost:8080/",
          "height": 430
        },
        "id": "l8Yng-4WEkJh",
        "outputId": "8094722b-7a53-4dc7-a608-2ce6520813c1"
      },
      "outputs": [
        {
          "data": {
            "image/png": "[encoded data removed]",
            "text/plain": [
              "<Figure size 640x480 with 1 Axes>"
            ]
          },
          "metadata": {},
          "output_type": "display_data"
        }
      ],
      "source": [
        "plt.figure()\n",
        "plt.hist(X1, density=True, histtype='stepfilled',\n",
        "alpha=0.2)\n",
        "plt.show()"
      ]
    },
    {
      "cell_type": "markdown",
      "metadata": {
        "id": "XOQIXtrDEkJh"
      },
      "source": [
        "Here, we can see that the generated values are distributed almost evenly throughout the range.\n",
        "Let's now see What happens if we increase the number of generated values?\n",
        "Then, we repeat the commands to generate up to 10000 random numbers uniformly distributed between 1 and 100."
      ]
    },
    {
      "cell_type": "code",
      "execution_count": 29,
      "metadata": {
        "colab": {
          "base_uri": "https://localhost:8080/",
          "height": 843
        },
        "id": "_M6WXcahEkJh",
        "outputId": "1b69ae6d-a41b-4196-d893-19eaa1ec292a"
      },
      "outputs": [
        {
          "data": {
            "image/png": "[encoded data removed]",
            "text/plain": [
              "<Figure size 640x480 with 1 Axes>"
            ]
          },
          "metadata": {},
          "output_type": "display_data"
        },
        {
          "data": {
            "image/png": "[encoded data removed]",
            "text/plain": [
              "<Figure size 640x480 with 1 Axes>"
            ]
          },
          "metadata": {},
          "output_type": "display_data"
        }
      ],
      "source": [
        "a=1\n",
        "b=100\n",
        "N=10000\n",
        "\n",
        "X2=rnd.uniform(a,b,N)\n",
        "plt.figure()\n",
        "plt.plot(X2)\n",
        "plt.show()\n",
        "\n",
        "plt.figure()\n",
        "plt.hist(X2, density=True, histtype='stepfilled',\n",
        "alpha=0.2)\n",
        "plt.show()"
      ]
    },
    {
      "cell_type": "markdown",
      "metadata": {
        "id": "yrgNJisbEkJh"
      },
      "source": [
        "Analyzing the previous histogram and comparing it with what we obtained in the case of N=100, we can see that this time, the distribution appears to be  flatter.  The distribution becomes more and more  flat as N increases.\n",
        "#### Binomial distribution\n",
        "The binomial distribution is the probability of obtaining $x$ successes in $t$ independent trials and is computed as follows:\n",
        "\n",
        "$p(x) =  \\binom{t}{x} p^t(1-p)^{t-x}, 0\\leq x \\leq t $\n",
        "where: $\\binom{t}{x}=\\frac{t!}{(t-p)!p!}$\n",
        "\n",
        "\n",
        "##### Example:\n",
        "<figure>\n",
        "  <IMG src=\"figures/one-dice.jpg\" WIDTH=100  ALIGN=\"right\">\n",
        "</figure>\n",
        "We throw a dice $10$ times and we want to study the binomial variable $x$= {number of times a number<= 3 cames out}.  The parameters of the problem are:\n",
        "<ol>\n",
        "   <li>  $t=10$ </li>\n",
        "   <li>  $p=3*\\frac{1}{6}=0.5$ </li>\n",
        "   <li> $q=1-p=0.5$ </li>\n",
        "</ol>\n",
        "\n",
        "Let's now simulate this experiment:"
      ]
    },
    {
      "cell_type": "code",
      "execution_count": 30,
      "metadata": {
        "colab": {
          "base_uri": "https://localhost:8080/",
          "height": 430
        },
        "id": "0jkQ-VHeEkJh",
        "outputId": "881c49ce-a6a0-4279-d274-a90e847eee37"
      },
      "outputs": [
        {
          "data": {
            "image/png": "[encoded data removed]",
            "text/plain": [
              "<Figure size 640x480 with 1 Axes>"
            ]
          },
          "metadata": {},
          "output_type": "display_data"
        }
      ],
      "source": [
        "#Initializing Binomial distribution parameters\n",
        "N = 1000\n",
        "t = 10\n",
        "p = 0.5\n",
        "#Generate the Binomial probability distribution\n",
        "#Then Plot\n",
        "P1 = rnd.binomial(t,p,N)\n",
        "plt.plot(P1)\n",
        "plt.show()"
      ]
    },
    {
      "cell_type": "markdown",
      "metadata": {
        "id": "CzJ0o7NaEkJh"
      },
      "source": [
        "We now evaluate the probability density function as follows:"
      ]
    },
    {
      "cell_type": "code",
      "execution_count": 31,
      "metadata": {
        "colab": {
          "base_uri": "https://localhost:8080/",
          "height": 430
        },
        "id": "O1NBu-GoEkJh",
        "outputId": "62cb3727-f56c-49c6-a462-d34021c3c323"
      },
      "outputs": [
        {
          "data": {
            "image/png": "[encoded data removed]",
            "text/plain": [
              "<Figure size 640x480 with 1 Axes>"
            ]
          },
          "metadata": {},
          "output_type": "display_data"
        }
      ],
      "source": [
        "plt.figure()\n",
        "plt.hist(P1, density=True, alpha=0.8, histtype='bar',\n",
        "color = 'green', ec='black')\n",
        "plt.show()"
      ]
    },
    {
      "cell_type": "markdown",
      "metadata": {
        "id": "fCS6IwLiEkJh"
      },
      "source": [
        "We can see that all the areas of the binomial distributions, that is, the sum of the rectangles, being the sum of probability, are worth 1.\n",
        "\n",
        "#### Normal distribution\n",
        "The normal distribution is the most used continuous distribution in statistics. Recall that the probability density distribution of the normal distribution is given as follows:\n",
        "\n",
        "$f(x)=\\frac{1}{\\sqrt{2\\pi\\sigma^2}}e^{-(x-\\mu)^2/2\\sigma^2}$\n",
        "\n",
        "##### Example:\n",
        "The average height of $18$-year old boys of $1000$ boys is normally distributed with a mean of $180$ cm and a standard deviation of $7$ cm. The parameters of the problem are:\n",
        "<ol>\n",
        "   <li>  $\\mu=180$ </li>\n",
        "   <li>  $\\sigma=7$ </li>\n",
        "</ol>\n",
        "\n",
        "Now, let’s generate a normal distribution and evaluate the probability density function with Python code as follows"
      ]
    },
    {
      "cell_type": "code",
      "execution_count": 43,
      "metadata": {
        "colab": {
          "base_uri": "https://localhost:8080/",
          "height": 673
        },
        "id": "o5LxgSYqEkJh",
        "outputId": "48d47fc7-fda5-41e5-aeec-2744349597f9"
      },
      "outputs": [
        {
          "data": {
            "image/png": "[encoded data removed]",
            "text/plain": [
              "<Figure size 640x480 with 1 Axes>"
            ]
          },
          "metadata": {},
          "output_type": "display_data"
        }
      ],
      "source": [
        "import numpy as np\n",
        "import matplotlib.pyplot as plt\n",
        "import seaborn as sns\n",
        "#Initializing Normal distribution parameters \n",
        "mu = 180\n",
        "sigma =7\n",
        "N=1000\n",
        "#Generate the Normal probability distribution\n",
        "P1 = rnd.normal(mu, sigma, N)\n",
        "#Then Plot\n",
        "plt.figure()\n",
        "\n",
        "sns.histplot(P1, kde=True)\n",
        "plt.show()"
      ]
    },
    {
      "cell_type": "markdown",
      "metadata": {
        "id": "tCLVgpqnEkJh"
      },
      "source": [
        "We can see that the distribution of the 1000 samples populations follow a normal distribution as ploted by `sns.distplot()` function"
      ]
    },
    {
      "cell_type": "markdown",
      "metadata": {
        "id": "ytORZuPEEkJh"
      },
      "source": [
        "## Approximating Probability throught Simulation\n",
        "### Flipping a coin\n",
        " Let's flip a coin $n$ times and computes the probability via simulation by counting the number of heads (0) and the number of tails (1). Note that the theoritical probability of getting a head or tail when flipping a coin is $p(x=0)=p(x=1)=0.5$.To compute the probability via simulation, we apply the relative frequency and probability concept seen in the course:\n",
        " $f(E)=\\frac{v}{n}\\cong P(E)$.\n",
        " Where $v$ is number of the times the event $E$ occurred and $n$ the number of tests carried out"
      ]
    },
    {
      "cell_type": "code",
      "execution_count": 45,
      "metadata": {
        "colab": {
          "base_uri": "https://localhost:8080/",
          "height": 486
        },
        "id": "utXAePwEEkJh",
        "outputId": "c386ff56-8160-425d-b88b-3a0629863f87"
      },
      "outputs": [
        {
          "name": "stdout",
          "output_type": "stream",
          "text": [
            "outcome 0 is 55 with probability=0.55\n",
            "outcome 1 is 45 with probability=0.45\n"
          ]
        },
        {
          "data": {
            "image/png": "[encoded data removed]",
            "text/plain": [
              "<Figure size 640x480 with 1 Axes>"
            ]
          },
          "metadata": {},
          "output_type": "display_data"
        }
      ],
      "source": [
        "rnd.seed(10)\n",
        "n=100\n",
        "flip = rnd.randint(0, 2, n)\n",
        "\n",
        "outcomes = np.zeros(2, dtype='int') # Two outcomes. heads are stored in outcome[0], tails in outcome[1]\n",
        "for i in range (2):\n",
        "    outcomes[i] = np.count_nonzero(flip == i)\n",
        "    print(f'outcome {i} is {outcomes[i]} with probability={outcomes[i]/n}')\n",
        "\n",
        "plt.bar(range(0, 2), outcomes/n)\n",
        "plt.xticks(range(0, 2))\n",
        "plt.xlabel('Probability of Head/tails')\n",
        "plt.ylabel('occurence in '+str(n)+' trials')\n",
        "plt.show()"
      ]
    },
    {
      "cell_type": "markdown",
      "metadata": {
        "id": "pAho_30rEkJh"
      },
      "source": [
        "Now let's increase the numner of experiments and plot the probability simulation results"
      ]
    },
    {
      "cell_type": "code",
      "execution_count": 49,
      "metadata": {
        "colab": {
          "base_uri": "https://localhost:8080/",
          "height": 468
        },
        "id": "T4Qji7voEkJh",
        "outputId": "daa9218a-d86b-42ce-e218-8a8a4036e825"
      },
      "outputs": [
        {
          "data": {
            "image/png": "[encoded data removed]",
            "text/plain": [
              "<Figure size 640x480 with 1 Axes>"
            ]
          },
          "metadata": {},
          "output_type": "display_data"
        }
      ],
      "source": [
        "experiments=np.arange(100, 100001, 100)\n",
        "\n",
        "outcomes_head=np.zeros(len(experiments))\n",
        "outcomes_tail=np.zeros(len(experiments))\n",
        "\n",
        "\n",
        "\n",
        "\n",
        "rnd.seed(10)\n",
        "i=0\n",
        "for n in experiments:\n",
        "    flip = rnd.randint(0, 2, n)\n",
        "    outcomes_head[i] = np.count_nonzero(flip == 0)/n\n",
        "    outcomes_tail[i] = np.count_nonzero(flip == 1)/n\n",
        "    i=i+1\n",
        "\n",
        "\n",
        "plt.plot(experiments, outcomes_head,label='Simulation (Head)')\n",
        "plt.plot(experiments, outcomes_tail,label='Simulation (Tail)')\n",
        "plt.hlines(y = 0.5, xmin = experiments[0], xmax = experiments[-1],colors=\"black\",label='Theoritical')\n",
        "plt.xlabel('Itteration $n$')\n",
        "plt.ylabel('Probability')\n",
        "plt.legend()\n",
        "plt.show()"
      ]
    },
    {
      "cell_type": "markdown",
      "metadata": {
        "id": "3cjOrrtKEkJn"
      },
      "source": [
        "We can see that the probability computed by simulation eventually converges to the true value as more experiments are conducted."
      ]
    },
    {
      "cell_type": "markdown",
      "metadata": {
        "id": "WJK2vdFYEkJn"
      },
      "source": [
        "## Challenges\n",
        "### Challenge 5: Birth Weight of New Born Babies\n",
        "The birth weight (in kilograms) of the $3.226$ new born babies is normally distributed with a mean of $3.39$ klg and a standard deviation of $0.55$ klg.\n",
        "Define your problem parameters.\n",
        "Generate the normal distribution and evaluate the probability density function."
      ]
    },
    {
      "cell_type": "code",
      "execution_count": 50,
      "metadata": {
        "id": "NC8mg3OUEkJn"
      },
      "outputs": [
        {
          "data": {
            "image/png": "[encoded data removed]",
            "text/plain": [
              "<Figure size 640x480 with 1 Axes>"
            ]
          },
          "metadata": {},
          "output_type": "display_data"
        }
      ],
      "source": [
        "mu = 3.39\n",
        "sigma =0.55\n",
        "N=3226\n",
        "\n",
        "P1 = rnd.normal(mu, sigma, N)\n",
        "#Then Plot\n",
        "plt.figure()\n",
        "\n",
        "sns.histplot(P1, kde=True)\n",
        "plt.show()"
      ]
    },
    {
      "cell_type": "markdown",
      "metadata": {
        "id": "xyc_1HV0EkJn"
      },
      "source": [
        "### Challenge 6: Crime Survey\n",
        "An FBI survey of 1000 reports shows that about 80% of all property crimes go unsolved. Suppose that in your town 3 such crimes are committed and they are each deemed independent of each other.\n",
        "<ol>\n",
        "  <li>Simulate this experiement and evaluate the probability density function</li>\n",
        "  <li>Compute the probability that 1 of 3 of these crimes will be solved?</li>\n",
        "</ol>\n",
        "\n",
        "#### Hint\n",
        "The problem above follows a binomial distribution since the following conditions are satisfied:\n",
        "<ul>\n",
        "  <li>Does it satisfy a fixed number of trials? YES the number of trials is fixed at 3 </li>\n",
        "  <li>Does it have only 2 outcomes? YES (Solved and unsolved)</li>\n",
        "  <li>Do all the trials have the same probability of success? YES (p = (100%-80%)=0.2)</li>\n",
        "</ul>\n"
      ]
    },
    {
      "cell_type": "markdown",
      "metadata": {},
      "source": [
        "Question 1"
      ]
    },
    {
      "cell_type": "code",
      "execution_count": 55,
      "metadata": {
        "id": "xgaFrga0EkJn"
      },
      "outputs": [
        {
          "data": {
            "image/png": "[encoded data removed]",
            "text/plain": [
              "<Figure size 640x480 with 1 Axes>"
            ]
          },
          "metadata": {},
          "output_type": "display_data"
        },
        {
          "data": {
            "image/png": "[encoded data removed]",
            "text/plain": [
              "<Figure size 640x480 with 1 Axes>"
            ]
          },
          "metadata": {},
          "output_type": "display_data"
        }
      ],
      "source": [
        "n = 3\n",
        "p = 0.8\n",
        "\n",
        "dist = np.random.binomial(n, p, size=10000)\n",
        "\n",
        "outcomes = np.arange(n+1)\n",
        "pmf = [np.mean(dist == i) for i in outcomes]\n",
        "plt.bar(outcomes, pmf)\n",
        "plt.xticks(outcomes)\n",
        "plt.xlabel('Number of crimes unsolved')\n",
        "plt.ylabel('Probability')\n",
        "plt.title('Binomial distribution of property crimes')\n",
        "plt.figure()\n",
        "plt.hist(dist, density=True, alpha=0.8, histtype='bar',\n",
        "color = 'green', ec='black')\n",
        "plt.show()"
      ]
    },
    {
      "cell_type": "markdown",
      "metadata": {},
      "source": [
        "Question 2\n"
      ]
    },
    {
      "cell_type": "code",
      "execution_count": 57,
      "metadata": {},
      "outputs": [
        {
          "name": "stdout",
          "output_type": "stream",
          "text": [
            "probability that 1 of 3 of the crimes will be solved: 0.3840000000000001\n"
          ]
        }
      ],
      "source": [
        "import math \n",
        "n = 3\n",
        "p = 0.2\n",
        "\n",
        "combination = math.comb(n, 1)\n",
        "probability = combination * np.power(p, 1) * np.power(1-p, n-1)\n",
        "\n",
        "print(\"probability that 1 of 3 of the crimes will be solved:\", probability)\n"
      ]
    },
    {
      "cell_type": "markdown",
      "metadata": {
        "id": "p-LOxNmgEkJn"
      },
      "source": [
        " ### Challenge 7: Throwing a dice\n",
        "Using the 1st code in the above experiment (Flipping a coin),  throw a dice with $n=100$ times and report how many times you throw $1, 2, 3, 4, 5,$ and $6$. Use a seed of $33$. Make sure that the reported values add up to $100$. What is the theoritical probability of each event."
      ]
    },
    {
      "cell_type": "code",
      "execution_count": 58,
      "metadata": {
        "id": "UEzBUmM9EkJn"
      },
      "outputs": [
        {
          "name": "stdout",
          "output_type": "stream",
          "text": [
            "Number 1 was rolled [17, 10, 21, 17, 16, 19] times.\n",
            "Number 2 was rolled [17, 10, 21, 17, 16, 19] times.\n",
            "Number 3 was rolled [17, 10, 21, 17, 16, 19] times.\n",
            "Number 4 was rolled [17, 10, 21, 17, 16, 19] times.\n",
            "Number 5 was rolled [17, 10, 21, 17, 16, 19] times.\n",
            "Number 6 was rolled [17, 10, 21, 17, 16, 19] times.\n",
            "Theoretical probability of rolling 1: 0.16666666666666666\n",
            "Theoretical probability of rolling 2: 0.16666666666666666\n",
            "Theoretical probability of rolling 3: 0.16666666666666666\n",
            "Theoretical probability of rolling 4: 0.16666666666666666\n",
            "Theoretical probability of rolling 5: 0.16666666666666666\n",
            "Theoretical probability of rolling 6: 0.16666666666666666\n"
          ]
        }
      ],
      "source": [
        "import random\n",
        "\n",
        "random.seed(33)\n",
        "n = 100\n",
        "\n",
        "dice_numbers_counter = [0, 0, 0, 0, 0, 0]\n",
        "\n",
        "for i in range(n):\n",
        "    roll = random.randint(1, 6)\n",
        "    dice_numbers_counter[roll-1] += 1\n",
        "\n",
        "for i, count in enumerate(dice_numbers_counter):\n",
        "    print(f\"Number {i+1} was rolled {dice_numbers_counter} times.\")\n",
        "\n",
        "for i in range(6):\n",
        "    print(f\"Theoretical probability of rolling {i+1}: {1/6}\")"
      ]
    },
    {
      "cell_type": "markdown",
      "metadata": {
        "id": "KInH4IfVEkJn"
      },
      "source": [
        "Now Using the 2nd code in the Flipping a coin experiment, plot the probability simulation results and compare it with the theoritical probability."
      ]
    },
    {
      "cell_type": "code",
      "execution_count": 59,
      "metadata": {
        "id": "L4gD81IYEkJn"
      },
      "outputs": [
        {
          "data": {
            "image/png": "[encoded data removed]",
            "text/plain": [
              "<Figure size 640x480 with 1 Axes>"
            ]
          },
          "metadata": {},
          "output_type": "display_data"
        }
      ],
      "source": [
        "theoretical_probabilities = [1/6, 1/6, 1/6, 1/6, 1/6, 1/6]\n",
        "\n",
        "x = range(1, 7)\n",
        "plt.bar(x, dice_numbers_counter)\n",
        "plt.plot(x, theoretical_probabilities, 'red', label='Theoretical')\n",
        "plt.xlabel('Number')\n",
        "plt.ylabel('Count')\n",
        "plt.title('Rolling a Dice Simulation Results')\n",
        "plt.legend()\n",
        "plt.show()"
      ]
    },
    {
      "cell_type": "markdown",
      "metadata": {
        "id": "rbN-Gb8bEkJn"
      },
      "source": [
        "### Challenge 8: Drawing balls from a box\n",
        "Suppose there are 12 balls in a box: 4 black, 4 red, and 4 blue. We want to make a program that draws n balls at random from the box. It is natural to represent the collection of balls as a list. Each list element can be an integer 1, 2, or 3, since we have 3 different types of balls, but it would be easier to work with the program if the balls could have a color instead of an integer number. This is easily accomplished by defining color names (See `new_box()` function below). Drawing a ball at random is performed by the `draw_ball()` function. Similarly, drawing n balls can be performed using the `draw_n_balls()` function."
      ]
    },
    {
      "cell_type": "code",
      "execution_count": 60,
      "metadata": {
        "id": "5oktHSVEEkJn"
      },
      "outputs": [],
      "source": [
        "import numpy.random as rnd\n",
        "\n",
        "def new_box():\n",
        "    colors = 'black', 'red', 'blue'   # (tuple of strings)\n",
        "    box = []\n",
        "    for color in colors:\n",
        "        for i in range(4):\n",
        "            box.append(color)\n",
        "    return box\n",
        "\n",
        "def draw_ball(box):\n",
        "    color = rnd.choice(box)\n",
        "    box.remove(color)\n",
        "    return color, box\n",
        "\n",
        "def draw_n_balls(box,n):\n",
        "# Draw n balls from the box\n",
        "    balls = []\n",
        "    for i in range(n):\n",
        "        color, box = draw_ball(box)\n",
        "        balls.append(color)\n",
        "    return balls\n"
      ]
    },
    {
      "cell_type": "markdown",
      "metadata": {
        "id": "V1fvSxEbEkJn"
      },
      "source": [
        "#### Question\n",
        "Now, we ask you to compute the probability of drawing 2 or more black balls from that box via experiemntal simulation. To do so, perform `N` experiments, count how many times `M` you get 2 or more black balls, and estimate the probability as `M/N`. Each experiment consists of making the box list, drawing a number of balls, and counting how many black balls we got. The latter task is easy with the count method in list objects: `box.count('black')` counts how many elements with value 'black' we have in the list box.\n",
        "Given:\n",
        "<ul>\n",
        "  <li>n as how  many balls are to be drawn? </li>\n",
        "  <li>N as how many experiments?</li>\n",
        "</ul>\n",
        " Write a python program using the functions defined just above to compute the required probability.\n",
        " Run your program with n=5 (drawing 5 balls each time) and N=4000 and reports the probability result.\n",
        " Try with other n values and report what differs from the obtained results."
      ]
    },
    {
      "cell_type": "code",
      "execution_count": 62,
      "metadata": {
        "colab": {
          "base_uri": "https://localhost:8080/"
        },
        "id": "RwNf4RAcEkJn",
        "outputId": "951602b3-bf28-497a-bd5f-23ae932aaa0e"
      },
      "outputs": [
        {
          "name": "stdout",
          "output_type": "stream",
          "text": [
            "Drawing 2 balls each time -> Probability: 0.00\n"
          ]
        }
      ],
      "source": [
        "n = 2\n",
        "N = 4000\n",
        "\n",
        "prob=0\n",
        "M = 0\n",
        "\n",
        "#complete your code here to compute and print the prob\n",
        "for i in range(5):\n",
        "    box = new_box()\n",
        "    balls = draw_n_balls(box,n)\n",
        "    num = balls.count(\"black\")\n",
        "    if num >= 2:\n",
        "        M = M + 1\n",
        "prob = M/N\n",
        "print (f'Drawing {n} balls each time -> Probability: ' \"{:.2f}\".format(prob))\n",
        "    \n"
      ]
    },
    {
      "cell_type": "markdown",
      "metadata": {
        "id": "9Ha-yzrzEkJn"
      },
      "source": [
        "## Simulating Synthetic Data using Probability Distributions\n",
        "Synthetic data is computer-generated data that is similar to real-world data. The primary purpose of synthetics data is to increase the privacy and integrity of systems. For example, to protect the Personally Identifiable Information (PII) or Personal Health Information (PHI) of the users, companies have to implement data protection strategies. Using synthetic data can help companies test new applications and protect user privacy.\n",
        "\n",
        "For this purpose, We will use the Python Faker library. Faker is an open-source Python package used to simulate a fake dataset for application testing, bootstrapping the database, and maintaining user anonymity.\n",
        "To learn about more advanced functions, check out the Faker documentation (https://faker.readthedocs.io/en/master/fakerclass.html)."
      ]
    },
    {
      "cell_type": "code",
      "execution_count": 3,
      "metadata": {
        "colab": {
          "base_uri": "https://localhost:8080/"
        },
        "id": "MBkAI_ZVEkJn",
        "outputId": "c98723f9-77a8-4cfc-fc30-2f93e478f2af"
      },
      "outputs": [
        {
          "name": "stdout",
          "output_type": "stream",
          "text": [
            "Collecting Faker\n",
            "  Downloading Faker-36.1.1-py3-none-any.whl (1.9 MB)\n",
            "Collecting tzdata\n",
            "  Downloading tzdata-2025.1-py2.py3-none-any.whl (346 kB)\n",
            "Installing collected packages: tzdata, Faker\n",
            "Successfully installed Faker-36.1.1 tzdata-2025.1\n",
            "Note: you may need to restart the kernel to use updated packages.\n"
          ]
        }
      ],
      "source": [
        "%pip install Faker"
      ]
    },
    {
      "cell_type": "code",
      "execution_count": 1,
      "metadata": {
        "colab": {
          "base_uri": "https://localhost:8080/"
        },
        "id": "mbvnT51HEkJn",
        "outputId": "cacfb176-e37e-4ed4-d73a-2547da360dc8"
      },
      "outputs": [
        {
          "name": "stdout",
          "output_type": "stream",
          "text": [
            "Requirement already satisfied: pandas in c:\\users\\user\\anaconda3\\lib\\site-packages (1.4.2)Note: you may need to restart the kernel to use updated packages.\n",
            "\n",
            "Requirement already satisfied: pytz>=2020.1 in c:\\users\\user\\anaconda3\\lib\\site-packages (from pandas) (2021.3)\n",
            "Requirement already satisfied: python-dateutil>=2.8.1 in c:\\users\\user\\anaconda3\\lib\\site-packages (from pandas) (2.8.2)\n",
            "Requirement already satisfied: numpy>=1.18.5 in c:\\users\\user\\anaconda3\\lib\\site-packages (from pandas) (1.21.5)\n",
            "Requirement already satisfied: six>=1.5 in c:\\users\\user\\anaconda3\\lib\\site-packages (from python-dateutil>=2.8.1->pandas) (1.16.0)\n"
          ]
        }
      ],
      "source": [
        "%pip install pandas"
      ]
    },
    {
      "cell_type": "markdown",
      "metadata": {
        "id": "3h-ZSOYEEkJn"
      },
      "source": [
        "Faker comes with command line support, Pytest fixtures, Localization (support different regions), reproducibility, and dynamic provider (customizing it to your needs).\n",
        "You can also use Faker's basic functionalities to create a quick dataset and customize it to your needs. In the table below, you can check various Faker functions and the purpose.\n",
        "\n",
        "| Faker Function  | Purpose                                       |\n",
        "|-----------------|-----------------------------------------------|\n",
        "| name()          | Generates fake full name                      |\n",
        "| credit_card_full() | Generates credit card number with expiry and CVV |\n",
        "| email()         | Generates fake email address                   |\n",
        "| url()           | Generate fake URL                              |\n",
        "| phone_number()  | Generates fake phone number with country code  |\n",
        "| address()       | Generates fake full address                    |\n",
        "| license_plate() | Generates fake license plate                   |\n",
        "| currency()      | Generate tuple of currency code and full form  |\n",
        "| color_name()    | Generate random color name                     |\n",
        "| local_latlng()  | Generate latitude, longitude, area, country, and states |\n",
        "| domain_name()   | Generate the fake website based on fake person name |\n",
        "| text()          | Generate the fake small text                   |\n",
        "| company()       | Generate fake company name                     |\n",
        "\n",
        "\n",
        "\n",
        "\n"
      ]
    },
    {
      "cell_type": "markdown",
      "metadata": {
        "id": "YNE5BR4XEkJn"
      },
      "source": [
        "### Synthetic Data Simulation Examples\n",
        "In this section, we will use Python Faker to simulate synthetics data. It consists of an example of how you can use `Faker` for various tasks. The main goal is to develop a privacy-centric approach for testing systems.\n",
        "\n",
        "First, we will initiate a fake generator using `Faker()`. By default, it is using the `en_US` locale."
      ]
    },
    {
      "cell_type": "code",
      "execution_count": 4,
      "metadata": {
        "id": "2JuwNuY_EkJn"
      },
      "outputs": [],
      "source": [
        "from faker import Faker\n",
        "fake = Faker()"
      ]
    },
    {
      "cell_type": "markdown",
      "metadata": {
        "id": "ecgZbVOWEkJn"
      },
      "source": [
        "#### Example:\n",
        "In this example, we will create a pandas dataframe that contains fake data.\n",
        "\n",
        "- Create empty pandas dataframe (data)\n",
        "- Pass it through x number of loops to create multiple rows\n",
        "- Use  prebuilt  functions such as `random_int()`, `name()`, `address()`, `latitude()`, and `longitude()`  to generate the columns accordingley.\n",
        "- Use `uniform()` prebult random function to generate the `Weight` feature.\n",
        "- Run the `input_data()` function with n_rows=50"
      ]
    },
    {
      "cell_type": "code",
      "execution_count": 4,
      "metadata": {
        "colab": {
          "base_uri": "https://localhost:8080/",
          "height": 1000
        },
        "id": "nVYrwm2SEkJn",
        "outputId": "7909945f-69cb-4daf-88c0-8610564a50f3"
      },
      "outputs": [
        {
          "data": {
            "text/html": [
              "<div>\n",
              "<style scoped>\n",
              "    .dataframe tbody tr th:only-of-type {\n",
              "        vertical-align: middle;\n",
              "    }\n",
              "\n",
              "    .dataframe tbody tr th {\n",
              "        vertical-align: top;\n",
              "    }\n",
              "\n",
              "    .dataframe thead th {\n",
              "        text-align: right;\n",
              "    }\n",
              "</style>\n",
              "<table border=\"1\" class=\"dataframe\">\n",
              "  <thead>\n",
              "    <tr style=\"text-align: right;\">\n",
              "      <th></th>\n",
              "      <th>name</th>\n",
              "      <th>age</th>\n",
              "      <th>Weight</th>\n",
              "      <th>address</th>\n",
              "      <th>latitude</th>\n",
              "      <th>longitude</th>\n",
              "    </tr>\n",
              "  </thead>\n",
              "  <tbody>\n",
              "    <tr>\n",
              "      <th>0</th>\n",
              "      <td>Steven Haney</td>\n",
              "      <td>67.0</td>\n",
              "      <td>62.718031</td>\n",
              "      <td>410 Michael Landing\\nEast Michael, AR 62362</td>\n",
              "      <td>45.9350815</td>\n",
              "      <td>19.864525</td>\n",
              "    </tr>\n",
              "    <tr>\n",
              "      <th>1</th>\n",
              "      <td>Christina Daniel</td>\n",
              "      <td>74.0</td>\n",
              "      <td>71.163701</td>\n",
              "      <td>44531 Erickson Hills\\nSouth Victoriafurt, DE 3...</td>\n",
              "      <td>42.5137725</td>\n",
              "      <td>6.812578</td>\n",
              "    </tr>\n",
              "    <tr>\n",
              "      <th>2</th>\n",
              "      <td>Kelly Stanley</td>\n",
              "      <td>69.0</td>\n",
              "      <td>68.283040</td>\n",
              "      <td>687 Smith Points Suite 184\\nDrewfort, DC 08760</td>\n",
              "      <td>13.591759</td>\n",
              "      <td>114.512497</td>\n",
              "    </tr>\n",
              "    <tr>\n",
              "      <th>3</th>\n",
              "      <td>Adrian Kennedy</td>\n",
              "      <td>25.0</td>\n",
              "      <td>95.695884</td>\n",
              "      <td>554 Wayne Squares\\nEast Andrewfort, AR 26856</td>\n",
              "      <td>8.3155195</td>\n",
              "      <td>79.218771</td>\n",
              "    </tr>\n",
              "    <tr>\n",
              "      <th>4</th>\n",
              "      <td>Jacob Crane</td>\n",
              "      <td>81.0</td>\n",
              "      <td>76.747900</td>\n",
              "      <td>3036 Jake Terrace Suite 995\\nPatrickmouth, TX ...</td>\n",
              "      <td>31.505499</td>\n",
              "      <td>-146.361201</td>\n",
              "    </tr>\n",
              "    <tr>\n",
              "      <th>5</th>\n",
              "      <td>Sarah Hart</td>\n",
              "      <td>70.0</td>\n",
              "      <td>67.494639</td>\n",
              "      <td>PSC 6282, Box 0143\\nAPO AP 21127</td>\n",
              "      <td>6.2890105</td>\n",
              "      <td>164.620755</td>\n",
              "    </tr>\n",
              "    <tr>\n",
              "      <th>6</th>\n",
              "      <td>Christopher Johnson</td>\n",
              "      <td>81.0</td>\n",
              "      <td>79.361853</td>\n",
              "      <td>64073 Norton Tunnel\\nWest Melissabury, NJ 55986</td>\n",
              "      <td>85.953901</td>\n",
              "      <td>132.975418</td>\n",
              "    </tr>\n",
              "    <tr>\n",
              "      <th>7</th>\n",
              "      <td>Cheyenne Melton DDS</td>\n",
              "      <td>22.0</td>\n",
              "      <td>92.471055</td>\n",
              "      <td>Unit 0352 Box 2032\\nDPO AE 79959</td>\n",
              "      <td>-26.1218855</td>\n",
              "      <td>106.396899</td>\n",
              "    </tr>\n",
              "    <tr>\n",
              "      <th>8</th>\n",
              "      <td>John Lamb</td>\n",
              "      <td>38.0</td>\n",
              "      <td>80.212680</td>\n",
              "      <td>9321 Barr Pine Apt. 821\\nJeremyberg, CT 99709</td>\n",
              "      <td>-8.7787295</td>\n",
              "      <td>113.245245</td>\n",
              "    </tr>\n",
              "    <tr>\n",
              "      <th>9</th>\n",
              "      <td>Tony Schultz DDS</td>\n",
              "      <td>91.0</td>\n",
              "      <td>84.733053</td>\n",
              "      <td>3769 Gamble Heights Apt. 985\\nWest Lisa, IL 31220</td>\n",
              "      <td>71.725161</td>\n",
              "      <td>-159.765457</td>\n",
              "    </tr>\n",
              "    <tr>\n",
              "      <th>10</th>\n",
              "      <td>David Wagner</td>\n",
              "      <td>54.0</td>\n",
              "      <td>81.045237</td>\n",
              "      <td>258 Martin Via\\nNorth Bethanyshire, NC 65414</td>\n",
              "      <td>49.045614</td>\n",
              "      <td>11.314340</td>\n",
              "    </tr>\n",
              "    <tr>\n",
              "      <th>11</th>\n",
              "      <td>Victoria Miller</td>\n",
              "      <td>59.0</td>\n",
              "      <td>98.239233</td>\n",
              "      <td>07778 Nicole Extension Apt. 781\\nEast Aaronfor...</td>\n",
              "      <td>-44.347084</td>\n",
              "      <td>113.614151</td>\n",
              "    </tr>\n",
              "    <tr>\n",
              "      <th>12</th>\n",
              "      <td>Cynthia Torres</td>\n",
              "      <td>42.0</td>\n",
              "      <td>68.800356</td>\n",
              "      <td>6471 Scott Forest Suite 676\\nAdamsport, SC 62469</td>\n",
              "      <td>49.8411605</td>\n",
              "      <td>0.650238</td>\n",
              "    </tr>\n",
              "    <tr>\n",
              "      <th>13</th>\n",
              "      <td>Darren Escobar</td>\n",
              "      <td>74.0</td>\n",
              "      <td>71.550998</td>\n",
              "      <td>3624 Butler Bridge\\nDixonchester, DE 29951</td>\n",
              "      <td>-69.765473</td>\n",
              "      <td>85.251018</td>\n",
              "    </tr>\n",
              "    <tr>\n",
              "      <th>14</th>\n",
              "      <td>Cody Green</td>\n",
              "      <td>91.0</td>\n",
              "      <td>84.464740</td>\n",
              "      <td>398 West Via\\nWest Michelle, CO 69899</td>\n",
              "      <td>-27.535653</td>\n",
              "      <td>-69.785558</td>\n",
              "    </tr>\n",
              "    <tr>\n",
              "      <th>15</th>\n",
              "      <td>Donald Sampson</td>\n",
              "      <td>32.0</td>\n",
              "      <td>96.844193</td>\n",
              "      <td>USCGC Good\\nFPO AA 61076</td>\n",
              "      <td>-39.233418</td>\n",
              "      <td>-170.053148</td>\n",
              "    </tr>\n",
              "    <tr>\n",
              "      <th>16</th>\n",
              "      <td>Kenneth Boone</td>\n",
              "      <td>88.0</td>\n",
              "      <td>65.185056</td>\n",
              "      <td>10203 Davis Extensions\\nPerezshire, NH 90276</td>\n",
              "      <td>-11.387957</td>\n",
              "      <td>113.768302</td>\n",
              "    </tr>\n",
              "    <tr>\n",
              "      <th>17</th>\n",
              "      <td>Brian Anderson</td>\n",
              "      <td>81.0</td>\n",
              "      <td>80.734525</td>\n",
              "      <td>1610 Cindy Lane Suite 199\\nEthanmouth, PR 84798</td>\n",
              "      <td>-53.8767725</td>\n",
              "      <td>45.640791</td>\n",
              "    </tr>\n",
              "    <tr>\n",
              "      <th>18</th>\n",
              "      <td>Christopher Herrera</td>\n",
              "      <td>25.0</td>\n",
              "      <td>91.141575</td>\n",
              "      <td>3474 Williams Wall\\nEllisonberg, LA 95085</td>\n",
              "      <td>6.1942665</td>\n",
              "      <td>-141.691633</td>\n",
              "    </tr>\n",
              "    <tr>\n",
              "      <th>19</th>\n",
              "      <td>Joshua Moody</td>\n",
              "      <td>51.0</td>\n",
              "      <td>77.773603</td>\n",
              "      <td>14125 Peter Cove\\nPort Jillfurt, GU 49781</td>\n",
              "      <td>-64.531031</td>\n",
              "      <td>49.818924</td>\n",
              "    </tr>\n",
              "    <tr>\n",
              "      <th>20</th>\n",
              "      <td>Todd Heath</td>\n",
              "      <td>78.0</td>\n",
              "      <td>87.956005</td>\n",
              "      <td>21721 Freeman Turnpike Suite 885\\nEast Shirley...</td>\n",
              "      <td>-23.6441535</td>\n",
              "      <td>137.621996</td>\n",
              "    </tr>\n",
              "    <tr>\n",
              "      <th>21</th>\n",
              "      <td>Sarah Jones</td>\n",
              "      <td>89.0</td>\n",
              "      <td>72.009272</td>\n",
              "      <td>11828 Sara Wall Apt. 346\\nPatelburgh, NM 94097</td>\n",
              "      <td>-86.5562645</td>\n",
              "      <td>-73.541194</td>\n",
              "    </tr>\n",
              "    <tr>\n",
              "      <th>22</th>\n",
              "      <td>John Gentry</td>\n",
              "      <td>20.0</td>\n",
              "      <td>78.890303</td>\n",
              "      <td>62521 Lindsey Branch\\nSouth Shirley, UT 33145</td>\n",
              "      <td>65.519422</td>\n",
              "      <td>33.509600</td>\n",
              "    </tr>\n",
              "    <tr>\n",
              "      <th>23</th>\n",
              "      <td>Crystal Bryant</td>\n",
              "      <td>60.0</td>\n",
              "      <td>67.074201</td>\n",
              "      <td>569 Friedman Ridge Apt. 293\\nNew Oliviaberg, A...</td>\n",
              "      <td>-69.9315775</td>\n",
              "      <td>-137.969273</td>\n",
              "    </tr>\n",
              "    <tr>\n",
              "      <th>24</th>\n",
              "      <td>Michael Hoffman</td>\n",
              "      <td>51.0</td>\n",
              "      <td>81.598673</td>\n",
              "      <td>653 Richard Lock Apt. 808\\nBennettfort, NJ 29550</td>\n",
              "      <td>75.784124</td>\n",
              "      <td>139.648660</td>\n",
              "    </tr>\n",
              "    <tr>\n",
              "      <th>25</th>\n",
              "      <td>Phillip Williams</td>\n",
              "      <td>69.0</td>\n",
              "      <td>79.113541</td>\n",
              "      <td>943 Jasmine Crossing Apt. 946\\nNorth Kathyside...</td>\n",
              "      <td>73.9458155</td>\n",
              "      <td>45.117834</td>\n",
              "    </tr>\n",
              "    <tr>\n",
              "      <th>26</th>\n",
              "      <td>Chad Roberts</td>\n",
              "      <td>39.0</td>\n",
              "      <td>90.050604</td>\n",
              "      <td>PSC 9072, Box 9091\\nAPO AA 99032</td>\n",
              "      <td>20.3081715</td>\n",
              "      <td>-129.732016</td>\n",
              "    </tr>\n",
              "    <tr>\n",
              "      <th>27</th>\n",
              "      <td>Jeff Klein</td>\n",
              "      <td>33.0</td>\n",
              "      <td>64.102049</td>\n",
              "      <td>Unit 6139 Box 8982\\nDPO AA 10941</td>\n",
              "      <td>-22.174278</td>\n",
              "      <td>155.775595</td>\n",
              "    </tr>\n",
              "    <tr>\n",
              "      <th>28</th>\n",
              "      <td>Peter Gardner</td>\n",
              "      <td>76.0</td>\n",
              "      <td>90.897597</td>\n",
              "      <td>66155 Richards Unions Suite 427\\nLake Evan, LA...</td>\n",
              "      <td>32.692823</td>\n",
              "      <td>46.337670</td>\n",
              "    </tr>\n",
              "    <tr>\n",
              "      <th>29</th>\n",
              "      <td>Cindy Thomas</td>\n",
              "      <td>87.0</td>\n",
              "      <td>90.214212</td>\n",
              "      <td>8367 Debbie Meadows Suite 282\\nLake Christineb...</td>\n",
              "      <td>22.454100</td>\n",
              "      <td>-149.581715</td>\n",
              "    </tr>\n",
              "    <tr>\n",
              "      <th>30</th>\n",
              "      <td>Alfred Gardner</td>\n",
              "      <td>81.0</td>\n",
              "      <td>66.853525</td>\n",
              "      <td>95265 Timothy Terrace Apt. 159\\nNew Thomasfort...</td>\n",
              "      <td>-24.320411</td>\n",
              "      <td>95.420431</td>\n",
              "    </tr>\n",
              "    <tr>\n",
              "      <th>31</th>\n",
              "      <td>Sharon Valdez</td>\n",
              "      <td>83.0</td>\n",
              "      <td>94.092451</td>\n",
              "      <td>526 Bullock Lodge Apt. 072\\nLake Jacobton, NJ ...</td>\n",
              "      <td>33.977002</td>\n",
              "      <td>-122.573211</td>\n",
              "    </tr>\n",
              "    <tr>\n",
              "      <th>32</th>\n",
              "      <td>Adam Moore</td>\n",
              "      <td>80.0</td>\n",
              "      <td>99.909955</td>\n",
              "      <td>23906 Michelle Junction Suite 556\\nTheodoreshi...</td>\n",
              "      <td>80.8507885</td>\n",
              "      <td>161.207740</td>\n",
              "    </tr>\n",
              "    <tr>\n",
              "      <th>33</th>\n",
              "      <td>Maxwell Brown</td>\n",
              "      <td>55.0</td>\n",
              "      <td>61.959224</td>\n",
              "      <td>0650 Davis Spring Suite 810\\nBrandonton, SD 45113</td>\n",
              "      <td>87.255535</td>\n",
              "      <td>103.890407</td>\n",
              "    </tr>\n",
              "    <tr>\n",
              "      <th>34</th>\n",
              "      <td>Shannon Brooks</td>\n",
              "      <td>30.0</td>\n",
              "      <td>69.435745</td>\n",
              "      <td>938 Camacho Vista\\nNew Jennyville, MO 41816</td>\n",
              "      <td>78.384311</td>\n",
              "      <td>48.719015</td>\n",
              "    </tr>\n",
              "    <tr>\n",
              "      <th>35</th>\n",
              "      <td>Kathryn Henry</td>\n",
              "      <td>35.0</td>\n",
              "      <td>69.746169</td>\n",
              "      <td>354 Myers Spring Suite 577\\nCarpenterfurt, AS ...</td>\n",
              "      <td>42.5048465</td>\n",
              "      <td>98.070491</td>\n",
              "    </tr>\n",
              "    <tr>\n",
              "      <th>36</th>\n",
              "      <td>Steven Morgan</td>\n",
              "      <td>30.0</td>\n",
              "      <td>72.741978</td>\n",
              "      <td>3855 Dana Village Suite 918\\nTonyaburgh, IN 99623</td>\n",
              "      <td>-77.188059</td>\n",
              "      <td>-116.900203</td>\n",
              "    </tr>\n",
              "    <tr>\n",
              "      <th>37</th>\n",
              "      <td>Donald Hill</td>\n",
              "      <td>69.0</td>\n",
              "      <td>63.941472</td>\n",
              "      <td>10127 Morris Turnpike\\nMayshire, ND 47185</td>\n",
              "      <td>-54.061911</td>\n",
              "      <td>8.947894</td>\n",
              "    </tr>\n",
              "    <tr>\n",
              "      <th>38</th>\n",
              "      <td>Ronald Mayo</td>\n",
              "      <td>76.0</td>\n",
              "      <td>86.826640</td>\n",
              "      <td>66391 Garrison Terrace Apt. 086\\nBensonside, P...</td>\n",
              "      <td>28.287796</td>\n",
              "      <td>-172.806628</td>\n",
              "    </tr>\n",
              "    <tr>\n",
              "      <th>39</th>\n",
              "      <td>Douglas Moore</td>\n",
              "      <td>87.0</td>\n",
              "      <td>98.836944</td>\n",
              "      <td>Unit 8800 Box 6787\\nDPO AP 12530</td>\n",
              "      <td>27.241634</td>\n",
              "      <td>-18.076347</td>\n",
              "    </tr>\n",
              "    <tr>\n",
              "      <th>40</th>\n",
              "      <td>Melinda Fitzgerald</td>\n",
              "      <td>32.0</td>\n",
              "      <td>83.569614</td>\n",
              "      <td>80034 Bailey Station\\nTuckershire, MS 60309</td>\n",
              "      <td>-64.9960895</td>\n",
              "      <td>10.809200</td>\n",
              "    </tr>\n",
              "    <tr>\n",
              "      <th>41</th>\n",
              "      <td>Wesley Martinez</td>\n",
              "      <td>22.0</td>\n",
              "      <td>86.197500</td>\n",
              "      <td>332 Nicholas Circles\\nMichaelville, PR 71185</td>\n",
              "      <td>-56.6794805</td>\n",
              "      <td>128.665756</td>\n",
              "    </tr>\n",
              "    <tr>\n",
              "      <th>42</th>\n",
              "      <td>Jesse Jones</td>\n",
              "      <td>40.0</td>\n",
              "      <td>66.503257</td>\n",
              "      <td>9794 Melissa Shoals\\nPattersonview, MI 68739</td>\n",
              "      <td>-19.8972495</td>\n",
              "      <td>95.853575</td>\n",
              "    </tr>\n",
              "    <tr>\n",
              "      <th>43</th>\n",
              "      <td>William Wright</td>\n",
              "      <td>58.0</td>\n",
              "      <td>62.641665</td>\n",
              "      <td>53760 Nancy Squares Apt. 516\\nNew Josephville,...</td>\n",
              "      <td>55.3558495</td>\n",
              "      <td>-31.942824</td>\n",
              "    </tr>\n",
              "    <tr>\n",
              "      <th>44</th>\n",
              "      <td>Lisa Hernandez</td>\n",
              "      <td>72.0</td>\n",
              "      <td>92.877071</td>\n",
              "      <td>6987 Baxter Fork Apt. 849\\nEast Craigside, NY ...</td>\n",
              "      <td>44.1399425</td>\n",
              "      <td>125.978242</td>\n",
              "    </tr>\n",
              "    <tr>\n",
              "      <th>45</th>\n",
              "      <td>George Anderson</td>\n",
              "      <td>46.0</td>\n",
              "      <td>67.617654</td>\n",
              "      <td>78288 Suzanne Avenue Apt. 246\\nLake Yvonne, DC...</td>\n",
              "      <td>-8.3026385</td>\n",
              "      <td>-153.954692</td>\n",
              "    </tr>\n",
              "    <tr>\n",
              "      <th>46</th>\n",
              "      <td>Aaron Wade</td>\n",
              "      <td>98.0</td>\n",
              "      <td>95.636430</td>\n",
              "      <td>331 Roberts Square Apt. 804\\nSouth Bruceboroug...</td>\n",
              "      <td>-63.531260</td>\n",
              "      <td>-64.205212</td>\n",
              "    </tr>\n",
              "    <tr>\n",
              "      <th>47</th>\n",
              "      <td>Nathan Williams PhD</td>\n",
              "      <td>27.0</td>\n",
              "      <td>73.739787</td>\n",
              "      <td>USCGC Cox\\nFPO AA 47390</td>\n",
              "      <td>33.076734</td>\n",
              "      <td>-49.972142</td>\n",
              "    </tr>\n",
              "    <tr>\n",
              "      <th>48</th>\n",
              "      <td>Stephen Evans</td>\n",
              "      <td>44.0</td>\n",
              "      <td>84.862333</td>\n",
              "      <td>00761 Robert Crossing Apt. 899\\nToddborough, M...</td>\n",
              "      <td>34.020881</td>\n",
              "      <td>19.124999</td>\n",
              "    </tr>\n",
              "    <tr>\n",
              "      <th>49</th>\n",
              "      <td>Daniel Young</td>\n",
              "      <td>83.0</td>\n",
              "      <td>80.207645</td>\n",
              "      <td>Unit 4806 Box 4164\\nDPO AE 69258</td>\n",
              "      <td>47.6444475</td>\n",
              "      <td>38.520633</td>\n",
              "    </tr>\n",
              "  </tbody>\n",
              "</table>\n",
              "</div>"
            ],
            "text/plain": [
              "                   name   age     Weight  \\\n",
              "0          Steven Haney  67.0  62.718031   \n",
              "1      Christina Daniel  74.0  71.163701   \n",
              "2         Kelly Stanley  69.0  68.283040   \n",
              "3        Adrian Kennedy  25.0  95.695884   \n",
              "4           Jacob Crane  81.0  76.747900   \n",
              "5            Sarah Hart  70.0  67.494639   \n",
              "6   Christopher Johnson  81.0  79.361853   \n",
              "7   Cheyenne Melton DDS  22.0  92.471055   \n",
              "8             John Lamb  38.0  80.212680   \n",
              "9      Tony Schultz DDS  91.0  84.733053   \n",
              "10         David Wagner  54.0  81.045237   \n",
              "11      Victoria Miller  59.0  98.239233   \n",
              "12       Cynthia Torres  42.0  68.800356   \n",
              "13       Darren Escobar  74.0  71.550998   \n",
              "14           Cody Green  91.0  84.464740   \n",
              "15       Donald Sampson  32.0  96.844193   \n",
              "16        Kenneth Boone  88.0  65.185056   \n",
              "17       Brian Anderson  81.0  80.734525   \n",
              "18  Christopher Herrera  25.0  91.141575   \n",
              "19         Joshua Moody  51.0  77.773603   \n",
              "20           Todd Heath  78.0  87.956005   \n",
              "21          Sarah Jones  89.0  72.009272   \n",
              "22          John Gentry  20.0  78.890303   \n",
              "23       Crystal Bryant  60.0  67.074201   \n",
              "24      Michael Hoffman  51.0  81.598673   \n",
              "25     Phillip Williams  69.0  79.113541   \n",
              "26         Chad Roberts  39.0  90.050604   \n",
              "27           Jeff Klein  33.0  64.102049   \n",
              "28        Peter Gardner  76.0  90.897597   \n",
              "29         Cindy Thomas  87.0  90.214212   \n",
              "30       Alfred Gardner  81.0  66.853525   \n",
              "31        Sharon Valdez  83.0  94.092451   \n",
              "32           Adam Moore  80.0  99.909955   \n",
              "33        Maxwell Brown  55.0  61.959224   \n",
              "34       Shannon Brooks  30.0  69.435745   \n",
              "35        Kathryn Henry  35.0  69.746169   \n",
              "36        Steven Morgan  30.0  72.741978   \n",
              "37          Donald Hill  69.0  63.941472   \n",
              "38          Ronald Mayo  76.0  86.826640   \n",
              "39        Douglas Moore  87.0  98.836944   \n",
              "40   Melinda Fitzgerald  32.0  83.569614   \n",
              "41      Wesley Martinez  22.0  86.197500   \n",
              "42          Jesse Jones  40.0  66.503257   \n",
              "43       William Wright  58.0  62.641665   \n",
              "44       Lisa Hernandez  72.0  92.877071   \n",
              "45      George Anderson  46.0  67.617654   \n",
              "46           Aaron Wade  98.0  95.636430   \n",
              "47  Nathan Williams PhD  27.0  73.739787   \n",
              "48        Stephen Evans  44.0  84.862333   \n",
              "49         Daniel Young  83.0  80.207645   \n",
              "\n",
              "                                              address     latitude  \\\n",
              "0         410 Michael Landing\\nEast Michael, AR 62362   45.9350815   \n",
              "1   44531 Erickson Hills\\nSouth Victoriafurt, DE 3...   42.5137725   \n",
              "2      687 Smith Points Suite 184\\nDrewfort, DC 08760    13.591759   \n",
              "3        554 Wayne Squares\\nEast Andrewfort, AR 26856    8.3155195   \n",
              "4   3036 Jake Terrace Suite 995\\nPatrickmouth, TX ...    31.505499   \n",
              "5                    PSC 6282, Box 0143\\nAPO AP 21127    6.2890105   \n",
              "6     64073 Norton Tunnel\\nWest Melissabury, NJ 55986    85.953901   \n",
              "7                    Unit 0352 Box 2032\\nDPO AE 79959  -26.1218855   \n",
              "8       9321 Barr Pine Apt. 821\\nJeremyberg, CT 99709   -8.7787295   \n",
              "9   3769 Gamble Heights Apt. 985\\nWest Lisa, IL 31220    71.725161   \n",
              "10       258 Martin Via\\nNorth Bethanyshire, NC 65414    49.045614   \n",
              "11  07778 Nicole Extension Apt. 781\\nEast Aaronfor...   -44.347084   \n",
              "12   6471 Scott Forest Suite 676\\nAdamsport, SC 62469   49.8411605   \n",
              "13         3624 Butler Bridge\\nDixonchester, DE 29951   -69.765473   \n",
              "14              398 West Via\\nWest Michelle, CO 69899   -27.535653   \n",
              "15                           USCGC Good\\nFPO AA 61076   -39.233418   \n",
              "16       10203 Davis Extensions\\nPerezshire, NH 90276   -11.387957   \n",
              "17    1610 Cindy Lane Suite 199\\nEthanmouth, PR 84798  -53.8767725   \n",
              "18          3474 Williams Wall\\nEllisonberg, LA 95085    6.1942665   \n",
              "19          14125 Peter Cove\\nPort Jillfurt, GU 49781   -64.531031   \n",
              "20  21721 Freeman Turnpike Suite 885\\nEast Shirley...  -23.6441535   \n",
              "21     11828 Sara Wall Apt. 346\\nPatelburgh, NM 94097  -86.5562645   \n",
              "22      62521 Lindsey Branch\\nSouth Shirley, UT 33145    65.519422   \n",
              "23  569 Friedman Ridge Apt. 293\\nNew Oliviaberg, A...  -69.9315775   \n",
              "24   653 Richard Lock Apt. 808\\nBennettfort, NJ 29550    75.784124   \n",
              "25  943 Jasmine Crossing Apt. 946\\nNorth Kathyside...   73.9458155   \n",
              "26                   PSC 9072, Box 9091\\nAPO AA 99032   20.3081715   \n",
              "27                   Unit 6139 Box 8982\\nDPO AA 10941   -22.174278   \n",
              "28  66155 Richards Unions Suite 427\\nLake Evan, LA...    32.692823   \n",
              "29  8367 Debbie Meadows Suite 282\\nLake Christineb...    22.454100   \n",
              "30  95265 Timothy Terrace Apt. 159\\nNew Thomasfort...   -24.320411   \n",
              "31  526 Bullock Lodge Apt. 072\\nLake Jacobton, NJ ...    33.977002   \n",
              "32  23906 Michelle Junction Suite 556\\nTheodoreshi...   80.8507885   \n",
              "33  0650 Davis Spring Suite 810\\nBrandonton, SD 45113    87.255535   \n",
              "34        938 Camacho Vista\\nNew Jennyville, MO 41816    78.384311   \n",
              "35  354 Myers Spring Suite 577\\nCarpenterfurt, AS ...   42.5048465   \n",
              "36  3855 Dana Village Suite 918\\nTonyaburgh, IN 99623   -77.188059   \n",
              "37          10127 Morris Turnpike\\nMayshire, ND 47185   -54.061911   \n",
              "38  66391 Garrison Terrace Apt. 086\\nBensonside, P...    28.287796   \n",
              "39                   Unit 8800 Box 6787\\nDPO AP 12530    27.241634   \n",
              "40        80034 Bailey Station\\nTuckershire, MS 60309  -64.9960895   \n",
              "41       332 Nicholas Circles\\nMichaelville, PR 71185  -56.6794805   \n",
              "42       9794 Melissa Shoals\\nPattersonview, MI 68739  -19.8972495   \n",
              "43  53760 Nancy Squares Apt. 516\\nNew Josephville,...   55.3558495   \n",
              "44  6987 Baxter Fork Apt. 849\\nEast Craigside, NY ...   44.1399425   \n",
              "45  78288 Suzanne Avenue Apt. 246\\nLake Yvonne, DC...   -8.3026385   \n",
              "46  331 Roberts Square Apt. 804\\nSouth Bruceboroug...   -63.531260   \n",
              "47                            USCGC Cox\\nFPO AA 47390    33.076734   \n",
              "48  00761 Robert Crossing Apt. 899\\nToddborough, M...    34.020881   \n",
              "49                   Unit 4806 Box 4164\\nDPO AE 69258   47.6444475   \n",
              "\n",
              "      longitude  \n",
              "0     19.864525  \n",
              "1      6.812578  \n",
              "2    114.512497  \n",
              "3     79.218771  \n",
              "4   -146.361201  \n",
              "5    164.620755  \n",
              "6    132.975418  \n",
              "7    106.396899  \n",
              "8    113.245245  \n",
              "9   -159.765457  \n",
              "10    11.314340  \n",
              "11   113.614151  \n",
              "12     0.650238  \n",
              "13    85.251018  \n",
              "14   -69.785558  \n",
              "15  -170.053148  \n",
              "16   113.768302  \n",
              "17    45.640791  \n",
              "18  -141.691633  \n",
              "19    49.818924  \n",
              "20   137.621996  \n",
              "21   -73.541194  \n",
              "22    33.509600  \n",
              "23  -137.969273  \n",
              "24   139.648660  \n",
              "25    45.117834  \n",
              "26  -129.732016  \n",
              "27   155.775595  \n",
              "28    46.337670  \n",
              "29  -149.581715  \n",
              "30    95.420431  \n",
              "31  -122.573211  \n",
              "32   161.207740  \n",
              "33   103.890407  \n",
              "34    48.719015  \n",
              "35    98.070491  \n",
              "36  -116.900203  \n",
              "37     8.947894  \n",
              "38  -172.806628  \n",
              "39   -18.076347  \n",
              "40    10.809200  \n",
              "41   128.665756  \n",
              "42    95.853575  \n",
              "43   -31.942824  \n",
              "44   125.978242  \n",
              "45  -153.954692  \n",
              "46   -64.205212  \n",
              "47   -49.972142  \n",
              "48    19.124999  \n",
              "49    38.520633  "
            ]
          },
          "execution_count": 4,
          "metadata": {},
          "output_type": "execute_result"
        }
      ],
      "source": [
        "from random import randint\n",
        "import pandas as pd\n",
        "import random\n",
        "from faker import Faker\n",
        "\n",
        "fake = Faker()\n",
        "\n",
        "def input_data(n_rows):\n",
        "\n",
        "    # pandas dataframe\n",
        "    data = pd.DataFrame()\n",
        "    for i in range(0, n_rows):\n",
        "        data.loc[i,'name']= fake.name()\n",
        "        data.loc[i,'age']= fake.random_int(18, 100)\n",
        "        data.loc[i,'Weight']= random.uniform(60, 100)\n",
        "        data.loc[i,'address']= fake.address()\n",
        "        data.loc[i,'latitude']= str(fake.latitude())\n",
        "        data.loc[i,'longitude']= str(fake.longitude())\n",
        "    return data\n",
        "\n",
        "\n",
        "data = input_data(50)\n",
        "data"
      ]
    },
    {
      "cell_type": "markdown",
      "metadata": {
        "id": "G8wFFbqDEkJn"
      },
      "source": [
        "### Challenge 9:\n",
        "Update the  example above so that you:\n",
        "- Generate a `height` feature following a gaussian distribution of with mu=180 cm and a std_deviation=15.5 cm.\n",
        "- Generate a `bmi` feature where bmi = Weight / (height (in meter) **2)."
      ]
    },
    {
      "cell_type": "code",
      "execution_count": 7,
      "metadata": {
        "id": "jWlh8FjvEkJn"
      },
      "outputs": [
        {
          "data": {
            "text/html": [
              "<div>\n",
              "<style scoped>\n",
              "    .dataframe tbody tr th:only-of-type {\n",
              "        vertical-align: middle;\n",
              "    }\n",
              "\n",
              "    .dataframe tbody tr th {\n",
              "        vertical-align: top;\n",
              "    }\n",
              "\n",
              "    .dataframe thead th {\n",
              "        text-align: right;\n",
              "    }\n",
              "</style>\n",
              "<table border=\"1\" class=\"dataframe\">\n",
              "  <thead>\n",
              "    <tr style=\"text-align: right;\">\n",
              "      <th></th>\n",
              "      <th>name</th>\n",
              "      <th>age</th>\n",
              "      <th>Weight</th>\n",
              "      <th>address</th>\n",
              "      <th>latitude</th>\n",
              "      <th>longitude</th>\n",
              "      <th>height</th>\n",
              "      <th>bmi</th>\n",
              "    </tr>\n",
              "  </thead>\n",
              "  <tbody>\n",
              "    <tr>\n",
              "      <th>0</th>\n",
              "      <td>Steven Haney</td>\n",
              "      <td>67.0</td>\n",
              "      <td>62.718031</td>\n",
              "      <td>410 Michael Landing\\nEast Michael, AR 62362</td>\n",
              "      <td>45.9350815</td>\n",
              "      <td>19.864525</td>\n",
              "      <td>170.308041</td>\n",
              "      <td>21.623307</td>\n",
              "    </tr>\n",
              "    <tr>\n",
              "      <th>1</th>\n",
              "      <td>Christina Daniel</td>\n",
              "      <td>74.0</td>\n",
              "      <td>71.163701</td>\n",
              "      <td>44531 Erickson Hills\\nSouth Victoriafurt, DE 3...</td>\n",
              "      <td>42.5137725</td>\n",
              "      <td>6.812578</td>\n",
              "      <td>189.355539</td>\n",
              "      <td>19.847349</td>\n",
              "    </tr>\n",
              "    <tr>\n",
              "      <th>2</th>\n",
              "      <td>Kelly Stanley</td>\n",
              "      <td>69.0</td>\n",
              "      <td>68.283040</td>\n",
              "      <td>687 Smith Points Suite 184\\nDrewfort, DC 08760</td>\n",
              "      <td>13.591759</td>\n",
              "      <td>114.512497</td>\n",
              "      <td>208.427755</td>\n",
              "      <td>15.718162</td>\n",
              "    </tr>\n",
              "    <tr>\n",
              "      <th>3</th>\n",
              "      <td>Adrian Kennedy</td>\n",
              "      <td>25.0</td>\n",
              "      <td>95.695884</td>\n",
              "      <td>554 Wayne Squares\\nEast Andrewfort, AR 26856</td>\n",
              "      <td>8.3155195</td>\n",
              "      <td>79.218771</td>\n",
              "      <td>168.803900</td>\n",
              "      <td>33.583682</td>\n",
              "    </tr>\n",
              "    <tr>\n",
              "      <th>4</th>\n",
              "      <td>Jacob Crane</td>\n",
              "      <td>81.0</td>\n",
              "      <td>76.747900</td>\n",
              "      <td>3036 Jake Terrace Suite 995\\nPatrickmouth, TX ...</td>\n",
              "      <td>31.505499</td>\n",
              "      <td>-146.361201</td>\n",
              "      <td>184.263032</td>\n",
              "      <td>22.604249</td>\n",
              "    </tr>\n",
              "    <tr>\n",
              "      <th>5</th>\n",
              "      <td>Sarah Hart</td>\n",
              "      <td>70.0</td>\n",
              "      <td>67.494639</td>\n",
              "      <td>PSC 6282, Box 0143\\nAPO AP 21127</td>\n",
              "      <td>6.2890105</td>\n",
              "      <td>164.620755</td>\n",
              "      <td>161.504671</td>\n",
              "      <td>25.876117</td>\n",
              "    </tr>\n",
              "    <tr>\n",
              "      <th>6</th>\n",
              "      <td>Christopher Johnson</td>\n",
              "      <td>81.0</td>\n",
              "      <td>79.361853</td>\n",
              "      <td>64073 Norton Tunnel\\nWest Melissabury, NJ 55986</td>\n",
              "      <td>85.953901</td>\n",
              "      <td>132.975418</td>\n",
              "      <td>170.175036</td>\n",
              "      <td>27.404388</td>\n",
              "    </tr>\n",
              "    <tr>\n",
              "      <th>7</th>\n",
              "      <td>Cheyenne Melton DDS</td>\n",
              "      <td>22.0</td>\n",
              "      <td>92.471055</td>\n",
              "      <td>Unit 0352 Box 2032\\nDPO AE 79959</td>\n",
              "      <td>-26.1218855</td>\n",
              "      <td>106.396899</td>\n",
              "      <td>197.415687</td>\n",
              "      <td>23.726982</td>\n",
              "    </tr>\n",
              "    <tr>\n",
              "      <th>8</th>\n",
              "      <td>John Lamb</td>\n",
              "      <td>38.0</td>\n",
              "      <td>80.212680</td>\n",
              "      <td>9321 Barr Pine Apt. 821\\nJeremyberg, CT 99709</td>\n",
              "      <td>-8.7787295</td>\n",
              "      <td>113.245245</td>\n",
              "      <td>201.775418</td>\n",
              "      <td>19.701828</td>\n",
              "    </tr>\n",
              "    <tr>\n",
              "      <th>9</th>\n",
              "      <td>Tony Schultz DDS</td>\n",
              "      <td>91.0</td>\n",
              "      <td>84.733053</td>\n",
              "      <td>3769 Gamble Heights Apt. 985\\nWest Lisa, IL 31220</td>\n",
              "      <td>71.725161</td>\n",
              "      <td>-159.765457</td>\n",
              "      <td>179.464148</td>\n",
              "      <td>26.308583</td>\n",
              "    </tr>\n",
              "    <tr>\n",
              "      <th>10</th>\n",
              "      <td>David Wagner</td>\n",
              "      <td>54.0</td>\n",
              "      <td>81.045237</td>\n",
              "      <td>258 Martin Via\\nNorth Bethanyshire, NC 65414</td>\n",
              "      <td>49.045614</td>\n",
              "      <td>11.314340</td>\n",
              "      <td>182.155586</td>\n",
              "      <td>24.425446</td>\n",
              "    </tr>\n",
              "    <tr>\n",
              "      <th>11</th>\n",
              "      <td>Victoria Miller</td>\n",
              "      <td>59.0</td>\n",
              "      <td>98.239233</td>\n",
              "      <td>07778 Nicole Extension Apt. 781\\nEast Aaronfor...</td>\n",
              "      <td>-44.347084</td>\n",
              "      <td>113.614151</td>\n",
              "      <td>187.473255</td>\n",
              "      <td>27.951578</td>\n",
              "    </tr>\n",
              "    <tr>\n",
              "      <th>12</th>\n",
              "      <td>Cynthia Torres</td>\n",
              "      <td>42.0</td>\n",
              "      <td>68.800356</td>\n",
              "      <td>6471 Scott Forest Suite 676\\nAdamsport, SC 62469</td>\n",
              "      <td>49.8411605</td>\n",
              "      <td>0.650238</td>\n",
              "      <td>184.431144</td>\n",
              "      <td>20.226567</td>\n",
              "    </tr>\n",
              "    <tr>\n",
              "      <th>13</th>\n",
              "      <td>Darren Escobar</td>\n",
              "      <td>74.0</td>\n",
              "      <td>71.550998</td>\n",
              "      <td>3624 Butler Bridge\\nDixonchester, DE 29951</td>\n",
              "      <td>-69.765473</td>\n",
              "      <td>85.251018</td>\n",
              "      <td>159.170795</td>\n",
              "      <td>28.241576</td>\n",
              "    </tr>\n",
              "    <tr>\n",
              "      <th>14</th>\n",
              "      <td>Cody Green</td>\n",
              "      <td>91.0</td>\n",
              "      <td>84.464740</td>\n",
              "      <td>398 West Via\\nWest Michelle, CO 69899</td>\n",
              "      <td>-27.535653</td>\n",
              "      <td>-69.785558</td>\n",
              "      <td>214.473991</td>\n",
              "      <td>18.362262</td>\n",
              "    </tr>\n",
              "    <tr>\n",
              "      <th>15</th>\n",
              "      <td>Donald Sampson</td>\n",
              "      <td>32.0</td>\n",
              "      <td>96.844193</td>\n",
              "      <td>USCGC Good\\nFPO AA 61076</td>\n",
              "      <td>-39.233418</td>\n",
              "      <td>-170.053148</td>\n",
              "      <td>182.829197</td>\n",
              "      <td>28.972267</td>\n",
              "    </tr>\n",
              "    <tr>\n",
              "      <th>16</th>\n",
              "      <td>Kenneth Boone</td>\n",
              "      <td>88.0</td>\n",
              "      <td>65.185056</td>\n",
              "      <td>10203 Davis Extensions\\nPerezshire, NH 90276</td>\n",
              "      <td>-11.387957</td>\n",
              "      <td>113.768302</td>\n",
              "      <td>166.534993</td>\n",
              "      <td>23.503744</td>\n",
              "    </tr>\n",
              "    <tr>\n",
              "      <th>17</th>\n",
              "      <td>Brian Anderson</td>\n",
              "      <td>81.0</td>\n",
              "      <td>80.734525</td>\n",
              "      <td>1610 Cindy Lane Suite 199\\nEthanmouth, PR 84798</td>\n",
              "      <td>-53.8767725</td>\n",
              "      <td>45.640791</td>\n",
              "      <td>170.873581</td>\n",
              "      <td>27.650911</td>\n",
              "    </tr>\n",
              "    <tr>\n",
              "      <th>18</th>\n",
              "      <td>Christopher Herrera</td>\n",
              "      <td>25.0</td>\n",
              "      <td>91.141575</td>\n",
              "      <td>3474 Williams Wall\\nEllisonberg, LA 95085</td>\n",
              "      <td>6.1942665</td>\n",
              "      <td>-141.691633</td>\n",
              "      <td>161.354835</td>\n",
              "      <td>35.006812</td>\n",
              "    </tr>\n",
              "    <tr>\n",
              "      <th>19</th>\n",
              "      <td>Joshua Moody</td>\n",
              "      <td>51.0</td>\n",
              "      <td>77.773603</td>\n",
              "      <td>14125 Peter Cove\\nPort Jillfurt, GU 49781</td>\n",
              "      <td>-64.531031</td>\n",
              "      <td>49.818924</td>\n",
              "      <td>161.714923</td>\n",
              "      <td>29.739388</td>\n",
              "    </tr>\n",
              "    <tr>\n",
              "      <th>20</th>\n",
              "      <td>Todd Heath</td>\n",
              "      <td>78.0</td>\n",
              "      <td>87.956005</td>\n",
              "      <td>21721 Freeman Turnpike Suite 885\\nEast Shirley...</td>\n",
              "      <td>-23.6441535</td>\n",
              "      <td>137.621996</td>\n",
              "      <td>163.443342</td>\n",
              "      <td>32.925398</td>\n",
              "    </tr>\n",
              "    <tr>\n",
              "      <th>21</th>\n",
              "      <td>Sarah Jones</td>\n",
              "      <td>89.0</td>\n",
              "      <td>72.009272</td>\n",
              "      <td>11828 Sara Wall Apt. 346\\nPatelburgh, NM 94097</td>\n",
              "      <td>-86.5562645</td>\n",
              "      <td>-73.541194</td>\n",
              "      <td>176.286533</td>\n",
              "      <td>23.171286</td>\n",
              "    </tr>\n",
              "    <tr>\n",
              "      <th>22</th>\n",
              "      <td>John Gentry</td>\n",
              "      <td>20.0</td>\n",
              "      <td>78.890303</td>\n",
              "      <td>62521 Lindsey Branch\\nSouth Shirley, UT 33145</td>\n",
              "      <td>65.519422</td>\n",
              "      <td>33.509600</td>\n",
              "      <td>205.210772</td>\n",
              "      <td>18.733689</td>\n",
              "    </tr>\n",
              "    <tr>\n",
              "      <th>23</th>\n",
              "      <td>Crystal Bryant</td>\n",
              "      <td>60.0</td>\n",
              "      <td>67.074201</td>\n",
              "      <td>569 Friedman Ridge Apt. 293\\nNew Oliviaberg, A...</td>\n",
              "      <td>-69.9315775</td>\n",
              "      <td>-137.969273</td>\n",
              "      <td>175.582779</td>\n",
              "      <td>21.756632</td>\n",
              "    </tr>\n",
              "    <tr>\n",
              "      <th>24</th>\n",
              "      <td>Michael Hoffman</td>\n",
              "      <td>51.0</td>\n",
              "      <td>81.598673</td>\n",
              "      <td>653 Richard Lock Apt. 808\\nBennettfort, NJ 29550</td>\n",
              "      <td>75.784124</td>\n",
              "      <td>139.648660</td>\n",
              "      <td>165.705827</td>\n",
              "      <td>29.717176</td>\n",
              "    </tr>\n",
              "    <tr>\n",
              "      <th>25</th>\n",
              "      <td>Phillip Williams</td>\n",
              "      <td>69.0</td>\n",
              "      <td>79.113541</td>\n",
              "      <td>943 Jasmine Crossing Apt. 946\\nNorth Kathyside...</td>\n",
              "      <td>73.9458155</td>\n",
              "      <td>45.117834</td>\n",
              "      <td>189.214342</td>\n",
              "      <td>22.097479</td>\n",
              "    </tr>\n",
              "    <tr>\n",
              "      <th>26</th>\n",
              "      <td>Chad Roberts</td>\n",
              "      <td>39.0</td>\n",
              "      <td>90.050604</td>\n",
              "      <td>PSC 9072, Box 9091\\nAPO AA 99032</td>\n",
              "      <td>20.3081715</td>\n",
              "      <td>-129.732016</td>\n",
              "      <td>182.453671</td>\n",
              "      <td>27.050881</td>\n",
              "    </tr>\n",
              "    <tr>\n",
              "      <th>27</th>\n",
              "      <td>Jeff Klein</td>\n",
              "      <td>33.0</td>\n",
              "      <td>64.102049</td>\n",
              "      <td>Unit 6139 Box 8982\\nDPO AA 10941</td>\n",
              "      <td>-22.174278</td>\n",
              "      <td>155.775595</td>\n",
              "      <td>176.141474</td>\n",
              "      <td>20.660873</td>\n",
              "    </tr>\n",
              "    <tr>\n",
              "      <th>28</th>\n",
              "      <td>Peter Gardner</td>\n",
              "      <td>76.0</td>\n",
              "      <td>90.897597</td>\n",
              "      <td>66155 Richards Unions Suite 427\\nLake Evan, LA...</td>\n",
              "      <td>32.692823</td>\n",
              "      <td>46.337670</td>\n",
              "      <td>189.103002</td>\n",
              "      <td>25.418830</td>\n",
              "    </tr>\n",
              "    <tr>\n",
              "      <th>29</th>\n",
              "      <td>Cindy Thomas</td>\n",
              "      <td>87.0</td>\n",
              "      <td>90.214212</td>\n",
              "      <td>8367 Debbie Meadows Suite 282\\nLake Christineb...</td>\n",
              "      <td>22.454100</td>\n",
              "      <td>-149.581715</td>\n",
              "      <td>177.856536</td>\n",
              "      <td>28.519066</td>\n",
              "    </tr>\n",
              "    <tr>\n",
              "      <th>30</th>\n",
              "      <td>Alfred Gardner</td>\n",
              "      <td>81.0</td>\n",
              "      <td>66.853525</td>\n",
              "      <td>95265 Timothy Terrace Apt. 159\\nNew Thomasfort...</td>\n",
              "      <td>-24.320411</td>\n",
              "      <td>95.420431</td>\n",
              "      <td>153.738624</td>\n",
              "      <td>28.285140</td>\n",
              "    </tr>\n",
              "    <tr>\n",
              "      <th>31</th>\n",
              "      <td>Sharon Valdez</td>\n",
              "      <td>83.0</td>\n",
              "      <td>94.092451</td>\n",
              "      <td>526 Bullock Lodge Apt. 072\\nLake Jacobton, NJ ...</td>\n",
              "      <td>33.977002</td>\n",
              "      <td>-122.573211</td>\n",
              "      <td>179.349234</td>\n",
              "      <td>29.252011</td>\n",
              "    </tr>\n",
              "    <tr>\n",
              "      <th>32</th>\n",
              "      <td>Adam Moore</td>\n",
              "      <td>80.0</td>\n",
              "      <td>99.909955</td>\n",
              "      <td>23906 Michelle Junction Suite 556\\nTheodoreshi...</td>\n",
              "      <td>80.8507885</td>\n",
              "      <td>161.207740</td>\n",
              "      <td>179.847215</td>\n",
              "      <td>30.888821</td>\n",
              "    </tr>\n",
              "    <tr>\n",
              "      <th>33</th>\n",
              "      <td>Maxwell Brown</td>\n",
              "      <td>55.0</td>\n",
              "      <td>61.959224</td>\n",
              "      <td>0650 Davis Spring Suite 810\\nBrandonton, SD 45113</td>\n",
              "      <td>87.255535</td>\n",
              "      <td>103.890407</td>\n",
              "      <td>165.047243</td>\n",
              "      <td>22.745182</td>\n",
              "    </tr>\n",
              "    <tr>\n",
              "      <th>34</th>\n",
              "      <td>Shannon Brooks</td>\n",
              "      <td>30.0</td>\n",
              "      <td>69.435745</td>\n",
              "      <td>938 Camacho Vista\\nNew Jennyville, MO 41816</td>\n",
              "      <td>78.384311</td>\n",
              "      <td>48.719015</td>\n",
              "      <td>174.956660</td>\n",
              "      <td>22.684131</td>\n",
              "    </tr>\n",
              "    <tr>\n",
              "      <th>35</th>\n",
              "      <td>Kathryn Henry</td>\n",
              "      <td>35.0</td>\n",
              "      <td>69.746169</td>\n",
              "      <td>354 Myers Spring Suite 577\\nCarpenterfurt, AS ...</td>\n",
              "      <td>42.5048465</td>\n",
              "      <td>98.070491</td>\n",
              "      <td>175.981027</td>\n",
              "      <td>22.521051</td>\n",
              "    </tr>\n",
              "    <tr>\n",
              "      <th>36</th>\n",
              "      <td>Steven Morgan</td>\n",
              "      <td>30.0</td>\n",
              "      <td>72.741978</td>\n",
              "      <td>3855 Dana Village Suite 918\\nTonyaburgh, IN 99623</td>\n",
              "      <td>-77.188059</td>\n",
              "      <td>-116.900203</td>\n",
              "      <td>186.535923</td>\n",
              "      <td>20.905480</td>\n",
              "    </tr>\n",
              "    <tr>\n",
              "      <th>37</th>\n",
              "      <td>Donald Hill</td>\n",
              "      <td>69.0</td>\n",
              "      <td>63.941472</td>\n",
              "      <td>10127 Morris Turnpike\\nMayshire, ND 47185</td>\n",
              "      <td>-54.061911</td>\n",
              "      <td>8.947894</td>\n",
              "      <td>175.446074</td>\n",
              "      <td>20.772814</td>\n",
              "    </tr>\n",
              "    <tr>\n",
              "      <th>38</th>\n",
              "      <td>Ronald Mayo</td>\n",
              "      <td>76.0</td>\n",
              "      <td>86.826640</td>\n",
              "      <td>66391 Garrison Terrace Apt. 086\\nBensonside, P...</td>\n",
              "      <td>28.287796</td>\n",
              "      <td>-172.806628</td>\n",
              "      <td>150.744570</td>\n",
              "      <td>38.209349</td>\n",
              "    </tr>\n",
              "    <tr>\n",
              "      <th>39</th>\n",
              "      <td>Douglas Moore</td>\n",
              "      <td>87.0</td>\n",
              "      <td>98.836944</td>\n",
              "      <td>Unit 8800 Box 6787\\nDPO AP 12530</td>\n",
              "      <td>27.241634</td>\n",
              "      <td>-18.076347</td>\n",
              "      <td>194.120967</td>\n",
              "      <td>26.228558</td>\n",
              "    </tr>\n",
              "    <tr>\n",
              "      <th>40</th>\n",
              "      <td>Melinda Fitzgerald</td>\n",
              "      <td>32.0</td>\n",
              "      <td>83.569614</td>\n",
              "      <td>80034 Bailey Station\\nTuckershire, MS 60309</td>\n",
              "      <td>-64.9960895</td>\n",
              "      <td>10.809200</td>\n",
              "      <td>185.927971</td>\n",
              "      <td>24.174580</td>\n",
              "    </tr>\n",
              "    <tr>\n",
              "      <th>41</th>\n",
              "      <td>Wesley Martinez</td>\n",
              "      <td>22.0</td>\n",
              "      <td>86.197500</td>\n",
              "      <td>332 Nicholas Circles\\nMichaelville, PR 71185</td>\n",
              "      <td>-56.6794805</td>\n",
              "      <td>128.665756</td>\n",
              "      <td>174.070462</td>\n",
              "      <td>28.447526</td>\n",
              "    </tr>\n",
              "    <tr>\n",
              "      <th>42</th>\n",
              "      <td>Jesse Jones</td>\n",
              "      <td>40.0</td>\n",
              "      <td>66.503257</td>\n",
              "      <td>9794 Melissa Shoals\\nPattersonview, MI 68739</td>\n",
              "      <td>-19.8972495</td>\n",
              "      <td>95.853575</td>\n",
              "      <td>201.607162</td>\n",
              "      <td>16.361797</td>\n",
              "    </tr>\n",
              "    <tr>\n",
              "      <th>43</th>\n",
              "      <td>William Wright</td>\n",
              "      <td>58.0</td>\n",
              "      <td>62.641665</td>\n",
              "      <td>53760 Nancy Squares Apt. 516\\nNew Josephville,...</td>\n",
              "      <td>55.3558495</td>\n",
              "      <td>-31.942824</td>\n",
              "      <td>197.644226</td>\n",
              "      <td>16.035963</td>\n",
              "    </tr>\n",
              "    <tr>\n",
              "      <th>44</th>\n",
              "      <td>Lisa Hernandez</td>\n",
              "      <td>72.0</td>\n",
              "      <td>92.877071</td>\n",
              "      <td>6987 Baxter Fork Apt. 849\\nEast Craigside, NY ...</td>\n",
              "      <td>44.1399425</td>\n",
              "      <td>125.978242</td>\n",
              "      <td>167.489303</td>\n",
              "      <td>33.108108</td>\n",
              "    </tr>\n",
              "    <tr>\n",
              "      <th>45</th>\n",
              "      <td>George Anderson</td>\n",
              "      <td>46.0</td>\n",
              "      <td>67.617654</td>\n",
              "      <td>78288 Suzanne Avenue Apt. 246\\nLake Yvonne, DC...</td>\n",
              "      <td>-8.3026385</td>\n",
              "      <td>-153.954692</td>\n",
              "      <td>182.461051</td>\n",
              "      <td>20.310460</td>\n",
              "    </tr>\n",
              "    <tr>\n",
              "      <th>46</th>\n",
              "      <td>Aaron Wade</td>\n",
              "      <td>98.0</td>\n",
              "      <td>95.636430</td>\n",
              "      <td>331 Roberts Square Apt. 804\\nSouth Bruceboroug...</td>\n",
              "      <td>-63.531260</td>\n",
              "      <td>-64.205212</td>\n",
              "      <td>181.805832</td>\n",
              "      <td>28.933950</td>\n",
              "    </tr>\n",
              "    <tr>\n",
              "      <th>47</th>\n",
              "      <td>Nathan Williams PhD</td>\n",
              "      <td>27.0</td>\n",
              "      <td>73.739787</td>\n",
              "      <td>USCGC Cox\\nFPO AA 47390</td>\n",
              "      <td>33.076734</td>\n",
              "      <td>-49.972142</td>\n",
              "      <td>185.920813</td>\n",
              "      <td>21.332702</td>\n",
              "    </tr>\n",
              "    <tr>\n",
              "      <th>48</th>\n",
              "      <td>Stephen Evans</td>\n",
              "      <td>44.0</td>\n",
              "      <td>84.862333</td>\n",
              "      <td>00761 Robert Crossing Apt. 899\\nToddborough, M...</td>\n",
              "      <td>34.020881</td>\n",
              "      <td>19.124999</td>\n",
              "      <td>187.513967</td>\n",
              "      <td>24.135023</td>\n",
              "    </tr>\n",
              "    <tr>\n",
              "      <th>49</th>\n",
              "      <td>Daniel Young</td>\n",
              "      <td>83.0</td>\n",
              "      <td>80.207645</td>\n",
              "      <td>Unit 4806 Box 4164\\nDPO AE 69258</td>\n",
              "      <td>47.6444475</td>\n",
              "      <td>38.520633</td>\n",
              "      <td>208.893384</td>\n",
              "      <td>18.380884</td>\n",
              "    </tr>\n",
              "  </tbody>\n",
              "</table>\n",
              "</div>"
            ],
            "text/plain": [
              "                   name   age     Weight  \\\n",
              "0          Steven Haney  67.0  62.718031   \n",
              "1      Christina Daniel  74.0  71.163701   \n",
              "2         Kelly Stanley  69.0  68.283040   \n",
              "3        Adrian Kennedy  25.0  95.695884   \n",
              "4           Jacob Crane  81.0  76.747900   \n",
              "5            Sarah Hart  70.0  67.494639   \n",
              "6   Christopher Johnson  81.0  79.361853   \n",
              "7   Cheyenne Melton DDS  22.0  92.471055   \n",
              "8             John Lamb  38.0  80.212680   \n",
              "9      Tony Schultz DDS  91.0  84.733053   \n",
              "10         David Wagner  54.0  81.045237   \n",
              "11      Victoria Miller  59.0  98.239233   \n",
              "12       Cynthia Torres  42.0  68.800356   \n",
              "13       Darren Escobar  74.0  71.550998   \n",
              "14           Cody Green  91.0  84.464740   \n",
              "15       Donald Sampson  32.0  96.844193   \n",
              "16        Kenneth Boone  88.0  65.185056   \n",
              "17       Brian Anderson  81.0  80.734525   \n",
              "18  Christopher Herrera  25.0  91.141575   \n",
              "19         Joshua Moody  51.0  77.773603   \n",
              "20           Todd Heath  78.0  87.956005   \n",
              "21          Sarah Jones  89.0  72.009272   \n",
              "22          John Gentry  20.0  78.890303   \n",
              "23       Crystal Bryant  60.0  67.074201   \n",
              "24      Michael Hoffman  51.0  81.598673   \n",
              "25     Phillip Williams  69.0  79.113541   \n",
              "26         Chad Roberts  39.0  90.050604   \n",
              "27           Jeff Klein  33.0  64.102049   \n",
              "28        Peter Gardner  76.0  90.897597   \n",
              "29         Cindy Thomas  87.0  90.214212   \n",
              "30       Alfred Gardner  81.0  66.853525   \n",
              "31        Sharon Valdez  83.0  94.092451   \n",
              "32           Adam Moore  80.0  99.909955   \n",
              "33        Maxwell Brown  55.0  61.959224   \n",
              "34       Shannon Brooks  30.0  69.435745   \n",
              "35        Kathryn Henry  35.0  69.746169   \n",
              "36        Steven Morgan  30.0  72.741978   \n",
              "37          Donald Hill  69.0  63.941472   \n",
              "38          Ronald Mayo  76.0  86.826640   \n",
              "39        Douglas Moore  87.0  98.836944   \n",
              "40   Melinda Fitzgerald  32.0  83.569614   \n",
              "41      Wesley Martinez  22.0  86.197500   \n",
              "42          Jesse Jones  40.0  66.503257   \n",
              "43       William Wright  58.0  62.641665   \n",
              "44       Lisa Hernandez  72.0  92.877071   \n",
              "45      George Anderson  46.0  67.617654   \n",
              "46           Aaron Wade  98.0  95.636430   \n",
              "47  Nathan Williams PhD  27.0  73.739787   \n",
              "48        Stephen Evans  44.0  84.862333   \n",
              "49         Daniel Young  83.0  80.207645   \n",
              "\n",
              "                                              address     latitude  \\\n",
              "0         410 Michael Landing\\nEast Michael, AR 62362   45.9350815   \n",
              "1   44531 Erickson Hills\\nSouth Victoriafurt, DE 3...   42.5137725   \n",
              "2      687 Smith Points Suite 184\\nDrewfort, DC 08760    13.591759   \n",
              "3        554 Wayne Squares\\nEast Andrewfort, AR 26856    8.3155195   \n",
              "4   3036 Jake Terrace Suite 995\\nPatrickmouth, TX ...    31.505499   \n",
              "5                    PSC 6282, Box 0143\\nAPO AP 21127    6.2890105   \n",
              "6     64073 Norton Tunnel\\nWest Melissabury, NJ 55986    85.953901   \n",
              "7                    Unit 0352 Box 2032\\nDPO AE 79959  -26.1218855   \n",
              "8       9321 Barr Pine Apt. 821\\nJeremyberg, CT 99709   -8.7787295   \n",
              "9   3769 Gamble Heights Apt. 985\\nWest Lisa, IL 31220    71.725161   \n",
              "10       258 Martin Via\\nNorth Bethanyshire, NC 65414    49.045614   \n",
              "11  07778 Nicole Extension Apt. 781\\nEast Aaronfor...   -44.347084   \n",
              "12   6471 Scott Forest Suite 676\\nAdamsport, SC 62469   49.8411605   \n",
              "13         3624 Butler Bridge\\nDixonchester, DE 29951   -69.765473   \n",
              "14              398 West Via\\nWest Michelle, CO 69899   -27.535653   \n",
              "15                           USCGC Good\\nFPO AA 61076   -39.233418   \n",
              "16       10203 Davis Extensions\\nPerezshire, NH 90276   -11.387957   \n",
              "17    1610 Cindy Lane Suite 199\\nEthanmouth, PR 84798  -53.8767725   \n",
              "18          3474 Williams Wall\\nEllisonberg, LA 95085    6.1942665   \n",
              "19          14125 Peter Cove\\nPort Jillfurt, GU 49781   -64.531031   \n",
              "20  21721 Freeman Turnpike Suite 885\\nEast Shirley...  -23.6441535   \n",
              "21     11828 Sara Wall Apt. 346\\nPatelburgh, NM 94097  -86.5562645   \n",
              "22      62521 Lindsey Branch\\nSouth Shirley, UT 33145    65.519422   \n",
              "23  569 Friedman Ridge Apt. 293\\nNew Oliviaberg, A...  -69.9315775   \n",
              "24   653 Richard Lock Apt. 808\\nBennettfort, NJ 29550    75.784124   \n",
              "25  943 Jasmine Crossing Apt. 946\\nNorth Kathyside...   73.9458155   \n",
              "26                   PSC 9072, Box 9091\\nAPO AA 99032   20.3081715   \n",
              "27                   Unit 6139 Box 8982\\nDPO AA 10941   -22.174278   \n",
              "28  66155 Richards Unions Suite 427\\nLake Evan, LA...    32.692823   \n",
              "29  8367 Debbie Meadows Suite 282\\nLake Christineb...    22.454100   \n",
              "30  95265 Timothy Terrace Apt. 159\\nNew Thomasfort...   -24.320411   \n",
              "31  526 Bullock Lodge Apt. 072\\nLake Jacobton, NJ ...    33.977002   \n",
              "32  23906 Michelle Junction Suite 556\\nTheodoreshi...   80.8507885   \n",
              "33  0650 Davis Spring Suite 810\\nBrandonton, SD 45113    87.255535   \n",
              "34        938 Camacho Vista\\nNew Jennyville, MO 41816    78.384311   \n",
              "35  354 Myers Spring Suite 577\\nCarpenterfurt, AS ...   42.5048465   \n",
              "36  3855 Dana Village Suite 918\\nTonyaburgh, IN 99623   -77.188059   \n",
              "37          10127 Morris Turnpike\\nMayshire, ND 47185   -54.061911   \n",
              "38  66391 Garrison Terrace Apt. 086\\nBensonside, P...    28.287796   \n",
              "39                   Unit 8800 Box 6787\\nDPO AP 12530    27.241634   \n",
              "40        80034 Bailey Station\\nTuckershire, MS 60309  -64.9960895   \n",
              "41       332 Nicholas Circles\\nMichaelville, PR 71185  -56.6794805   \n",
              "42       9794 Melissa Shoals\\nPattersonview, MI 68739  -19.8972495   \n",
              "43  53760 Nancy Squares Apt. 516\\nNew Josephville,...   55.3558495   \n",
              "44  6987 Baxter Fork Apt. 849\\nEast Craigside, NY ...   44.1399425   \n",
              "45  78288 Suzanne Avenue Apt. 246\\nLake Yvonne, DC...   -8.3026385   \n",
              "46  331 Roberts Square Apt. 804\\nSouth Bruceboroug...   -63.531260   \n",
              "47                            USCGC Cox\\nFPO AA 47390    33.076734   \n",
              "48  00761 Robert Crossing Apt. 899\\nToddborough, M...    34.020881   \n",
              "49                   Unit 4806 Box 4164\\nDPO AE 69258   47.6444475   \n",
              "\n",
              "      longitude      height        bmi  \n",
              "0     19.864525  170.308041  21.623307  \n",
              "1      6.812578  189.355539  19.847349  \n",
              "2    114.512497  208.427755  15.718162  \n",
              "3     79.218771  168.803900  33.583682  \n",
              "4   -146.361201  184.263032  22.604249  \n",
              "5    164.620755  161.504671  25.876117  \n",
              "6    132.975418  170.175036  27.404388  \n",
              "7    106.396899  197.415687  23.726982  \n",
              "8    113.245245  201.775418  19.701828  \n",
              "9   -159.765457  179.464148  26.308583  \n",
              "10    11.314340  182.155586  24.425446  \n",
              "11   113.614151  187.473255  27.951578  \n",
              "12     0.650238  184.431144  20.226567  \n",
              "13    85.251018  159.170795  28.241576  \n",
              "14   -69.785558  214.473991  18.362262  \n",
              "15  -170.053148  182.829197  28.972267  \n",
              "16   113.768302  166.534993  23.503744  \n",
              "17    45.640791  170.873581  27.650911  \n",
              "18  -141.691633  161.354835  35.006812  \n",
              "19    49.818924  161.714923  29.739388  \n",
              "20   137.621996  163.443342  32.925398  \n",
              "21   -73.541194  176.286533  23.171286  \n",
              "22    33.509600  205.210772  18.733689  \n",
              "23  -137.969273  175.582779  21.756632  \n",
              "24   139.648660  165.705827  29.717176  \n",
              "25    45.117834  189.214342  22.097479  \n",
              "26  -129.732016  182.453671  27.050881  \n",
              "27   155.775595  176.141474  20.660873  \n",
              "28    46.337670  189.103002  25.418830  \n",
              "29  -149.581715  177.856536  28.519066  \n",
              "30    95.420431  153.738624  28.285140  \n",
              "31  -122.573211  179.349234  29.252011  \n",
              "32   161.207740  179.847215  30.888821  \n",
              "33   103.890407  165.047243  22.745182  \n",
              "34    48.719015  174.956660  22.684131  \n",
              "35    98.070491  175.981027  22.521051  \n",
              "36  -116.900203  186.535923  20.905480  \n",
              "37     8.947894  175.446074  20.772814  \n",
              "38  -172.806628  150.744570  38.209349  \n",
              "39   -18.076347  194.120967  26.228558  \n",
              "40    10.809200  185.927971  24.174580  \n",
              "41   128.665756  174.070462  28.447526  \n",
              "42    95.853575  201.607162  16.361797  \n",
              "43   -31.942824  197.644226  16.035963  \n",
              "44   125.978242  167.489303  33.108108  \n",
              "45  -153.954692  182.461051  20.310460  \n",
              "46   -64.205212  181.805832  28.933950  \n",
              "47   -49.972142  185.920813  21.332702  \n",
              "48    19.124999  187.513967  24.135023  \n",
              "49    38.520633  208.893384  18.380884  "
            ]
          },
          "execution_count": 7,
          "metadata": {},
          "output_type": "execute_result"
        }
      ],
      "source": [
        "for i in range(len(data)):\n",
        "\tdata.loc[i, 'height'] = np.random.normal(180, 15.5)\n",
        "\tdata.loc[i, 'bmi'] = data.loc[i, 'Weight'] / ((data.loc[i, 'height'] / 100) ** 2)\n",
        "\n",
        "data"
      ]
    }
  ],
  "metadata": {
    "colab": {
      "provenance": []
    },
    "kernelspec": {
      "display_name": "ModSim_env",
      "language": "python",
      "name": "python3"
    },
    "language_info": {
      "codemirror_mode": {
        "name": "ipython",
        "version": 3
      },
      "file_extension": ".py",
      "mimetype": "text/x-python",
      "name": "python",
      "nbconvert_exporter": "python",
      "pygments_lexer": "ipython3",
      "version": "3.10.16"
    }
  },
  "nbformat": 4,
  "nbformat_minor": 0
}
