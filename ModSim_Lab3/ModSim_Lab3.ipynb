{
  "cells": [
    {
      "cell_type": "markdown",
      "metadata": {
        "id": "Im2Mmg04EkJB"
      },
      "source": [
        "<figure>\n",
        "  <IMG src=\"figures/logo-esi-sba.png\" WIDTH=300 height=\"100\" ALIGN=\"right\">\n",
        "</figure>\n",
        "\n",
        "# Practical Trainining Series on Modeling And Simulation   \n",
        "*By Dr. Belkacem KHALDI (b.khaldi@esi-sba.dz)*"
      ]
    },
    {
      "cell_type": "markdown",
      "metadata": {
        "id": "VCoTk4fMEkJB"
      },
      "source": [
        "## Notebook 3: Probabilities and Random Number Simulation\n",
        "In this Notebook you learn how to deal with Probabilities and Random Number Simulation. Many of the functions we will use are included in the `random` subpackage of `numpy`. We will import this package and call it `rnd` so that we don't have to type `np.random`. all the time."
      ]
    },
    {
      "cell_type": "code",
      "execution_count": 3,
      "metadata": {
        "id": "lTjkPDt4EkJR"
      },
      "outputs": [],
      "source": [
        "%matplotlib inline\n",
        "import numpy as np\n",
        "import matplotlib.pyplot as plt\n",
        "import numpy.random as rnd"
      ]
    },
    {
      "cell_type": "markdown",
      "metadata": {
        "id": "TGXTqwsQEkJR"
      },
      "source": [
        "### 1- Introduction to Probability\n",
        "Probability is a means of determining and describing the likelihood of an event occurring or the truth of a situation. It's a helpful mathematical tool for coping with unpredictability and uncertainty.\n",
        "\n",
        "### Exemple 1: Tossing a coin\n",
        "Currency coins are often said to have two sides: a \"head\" and a \"tail\"\n",
        "\n",
        "<figure>\n",
        "  <IMG src=\"figures/coin-100dz.jpeg\" WIDTH=300 height=\"100\" ALIGN=\"right\">\n",
        "</figure>\n",
        "\n",
        "A fair coin is one that is equally likely to land on either side when tossed or flipped. The side that shows up on top once the coin lands is referred to as the result of a coin toss/flip.\n",
        "    \n",
        "If we have precise measurements of the physical environment and the forces used to toss the coin, we may be able to predict the outcome. However, we rarely have access to this information, making it difficult (if not impossible) to execute all of these measurements with adequate precision.\n",
        "    \n",
        "The assumption of randomness allows you to deal with limited data and unpredictable outcomes. Tossing a coin is described as an experiment that can yield one of two outcomes at random. Probability is a metric for determining how likely each outcome is.\n",
        "\n",
        "> **Question**: If you flip a fair coin, what is the **probability** of **getting heads**?\n",
        "\n",
        "When we have several equally likely possible outcomes, the probability of a condition (also called event) is defined as:\n",
        "\n",
        "> $$P(\\textrm{condition}) = \\frac{\\textrm{ No. of outcomes satisfying the condition }} {\\textrm{Number of equally likely outcomes}}$$\n",
        "\n",
        "**The probability of a condition/event is a number between 0 and 1.**\n",
        "\n",
        "\n",
        "We can define a function `probability` to perform this calculation."
      ]
    },
    {
      "cell_type": "code",
      "execution_count": 4,
      "metadata": {
        "id": "ZmnEokrmEkJR"
      },
      "outputs": [],
      "source": [
        "def probability(matching_outcomes, total_outcomes):\n",
        "    return matching_outcomes/total_outcomes"
      ]
    },
    {
      "cell_type": "markdown",
      "metadata": {
        "id": "lCRJ-Q22EkJR"
      },
      "source": [
        "When we toss a fair coin, there are just two conceivable outcomes: \"head\" or \"tail,\" both equally likely. One of the outcomes matches the condition \"getting a head\".\n",
        "\n",
        "With this information, we can now use the formula to compute the probability of a getting a head."
      ]
    },
    {
      "cell_type": "code",
      "execution_count": 5,
      "metadata": {
        "colab": {
          "base_uri": "https://localhost:8080/"
        },
        "id": "PgMWjYYZEkJR",
        "outputId": "087bfccf-4185-42e8-927f-f6c444d0685a"
      },
      "outputs": [
        {
          "name": "stdout",
          "output_type": "stream",
          "text": [
            "The probability of getting a head: 0.5\n"
          ]
        }
      ],
      "source": [
        "p_head = probability(matching_outcomes=1, total_outcomes=2)\n",
        "print(\"The probability of getting a head:\", p_head)"
      ]
    },
    {
      "cell_type": "markdown",
      "metadata": {
        "id": "2IBIlND2EkJR"
      },
      "source": [
        "### Challenge 1\n",
        "Using the `probability` function mention above, compute the probability of the following queries when you flip a fair coin:\n",
        "<ol>\n",
        "  <li>What is the probability  of getting a tail ? </li>\n",
        "  <li>What is the probability of getting a head or a tail?</li>\n",
        "  <li>What is the probability of receiving neither a head nor a tail?</li>\n",
        "</ol>\n",
        "   "
      ]
    },
    {
      "cell_type": "code",
      "execution_count": 6,
      "metadata": {
        "id": "38_KOfY2EkJR"
      },
      "outputs": [
        {
          "name": "stdout",
          "output_type": "stream",
          "text": [
            "probability of getting a tail: 0.5\n",
            "probability of getting tail or head: 1.0\n",
            "probabilty of getting neither head nor tail: 0\n"
          ]
        }
      ],
      "source": [
        "#Your solutions here\n",
        "print(\"probability of getting a tail:\", probability(1, 2))\n",
        "print(\"probability of getting tail or head:\", probability(1, 2) + probability(1, 2))\n",
        "print(\"probabilty of getting neither head nor tail:\", 0)"
      ]
    },
    {
      "cell_type": "markdown",
      "metadata": {
        "id": "7dDKn8QCEkJR"
      },
      "source": [
        "### Exemple 2: Rolling dice\n",
        "\n",
        "A die (plural dice) is a 6-sided cube with a varied number of dots on each face (one to six). The number of dots that appear on the top face of a die after it has been rolled or thrown is known as the result of the roll/throw. As a result, a die throw can result in one of the following outcomes: 1, 2, 3, 4, 5, or 6.\n",
        "\n",
        "<img src=\"figures/one-dice.jpg\" width=\"100\">\n",
        "\n",
        "> **Question**: What is the probability of getting a four when a fair die is rolled?\n",
        "\n",
        "All outcomes are equally likely for a fair die, and the only the outcome 4 satisfies the condition \"getting a 4\". Thus, we can calculate the probability of the condition as follows:"
      ]
    },
    {
      "cell_type": "code",
      "execution_count": 7,
      "metadata": {
        "colab": {
          "base_uri": "https://localhost:8080/"
        },
        "id": "W8jK3IioEkJR",
        "outputId": "bbd95e6f-1400-4cef-a9be-354c90cc3f7f"
      },
      "outputs": [
        {
          "name": "stdout",
          "output_type": "stream",
          "text": [
            "The probability of getting a 4: 0.16666666666666666\n"
          ]
        }
      ],
      "source": [
        "p_die_4=probability(matching_outcomes=1, total_outcomes=6)\n",
        "print(\"The probability of getting a 4:\", p_die_4)"
      ]
    },
    {
      "cell_type": "markdown",
      "metadata": {
        "id": "clasSQUDEkJR"
      },
      "source": [
        "### Challenge 2\n",
        "Compute the probability of the following queries when rolling a die:\n",
        "\n",
        "<ol>\n",
        "  <li>What is the probability of getting <b> an even number </b>? </li>\n",
        "  <li>What is the probability of getting <b>a three or a six </b>?</li>\n",
        "  <li>What is the probability of getting <b>a three and a six</b>?</li>\n",
        "   <li> What is the probability of getting <b> a three or a seven</b>?</li>\n",
        "</ol>"
      ]
    },
    {
      "cell_type": "code",
      "execution_count": 8,
      "metadata": {
        "id": "EzA-k4ujEkJR"
      },
      "outputs": [
        {
          "name": "stdout",
          "output_type": "stream",
          "text": [
            "the probability of getting an even number: 0.5\n",
            "the probability of getting a 3 or 6: 0.3333333333333333\n",
            "the probability of getting a 3 and a 6: 0.0\n",
            "the probability of getting a 3 or a 7: 0.3333333333333333\n"
          ]
        }
      ],
      "source": [
        "#Your Solutions Here\n",
        "print(\"the probability of getting an even number:\", probability(3, 6))\n",
        "print(\"the probability of getting a 3 or 6:\", probability(2, 6))\n",
        "print(\"the probability of getting a 3 and a 6:\", probability(0, 6))\n",
        "print(\"the probability of getting a 3 or a 7:\", probability(2, 6))"
      ]
    },
    {
      "cell_type": "markdown",
      "metadata": {
        "id": "XLZt7SKYEkJR"
      },
      "source": [
        "### Exemple 3: Playing Cards\n",
        "\n",
        "<img src=\"figures/deck_cards.jpg\" width=\"200\">\n",
        "\n",
        "There are 52 cards in a deck of playing cards. Each card is assigned to one of four suits: Spade ♠️, Clubs ♣️, Hearts ♥️ or Diamonds ♦️. Each suit consists of 13 cards: *Ace, 2, 3, 4, 5, 6, 7, 8, 9, 10, Jack, Queen*, and *King*. Hearts and diamonds are red, but spades and clubs are black.\n",
        "\n",
        "<img src=\"figures/playing_cards_deck.svg.png\" >\n",
        "\n",
        "\n",
        "\n",
        "\n",
        "In a well-shuffled deck of cards, any card is equally likely to end up at any position in the deck.\n",
        "\n",
        "<img src=\"figures/giphy.gif\" >\n",
        "\n",
        "\n",
        "> **Question**: What is the probability of **drawing a King of Hearts** from a well-shuffled deck of cards?\n",
        "\n",
        "There are 52 equally likely outcomes of the card being drawn, and just one outcome matches this condition."
      ]
    },
    {
      "cell_type": "code",
      "execution_count": 9,
      "metadata": {
        "colab": {
          "base_uri": "https://localhost:8080/"
        },
        "id": "FVWEsCxmEkJR",
        "outputId": "0ac40093-5b43-4888-ab55-4b8537849768"
      },
      "outputs": [
        {
          "name": "stdout",
          "output_type": "stream",
          "text": [
            "The probability of getting a King of Hearts: 0.019230769230769232\n"
          ]
        }
      ],
      "source": [
        "p_king_of_hearts=probability(matching_outcomes=1, total_outcomes=52)\n",
        "print(\"The probability of getting a King of Hearts:\", p_king_of_hearts)"
      ]
    },
    {
      "cell_type": "markdown",
      "metadata": {
        "id": "eOZRRP5jEkJR"
      },
      "source": [
        "### Challenge 3\n",
        "What is the probability of **drawing a red card** from a well-shuffled deck of cards.\n",
        "\n",
        "> *Hint*: Count the number of red cards.\n",
        "\n",
        "What is the probability of **drawing a spade ♠️** from a well-shuffled deck of cards.\n",
        "\n",
        "What is the probability of **drawing a 7** from a well-shuffled deck of cards.\n",
        "\n",
        "What is the probability of **drawing a card that's a spade and a jack** from a well-shuffled deck of cards?"
      ]
    },
    {
      "cell_type": "code",
      "execution_count": 10,
      "metadata": {
        "id": "ser-NIvZEkJR"
      },
      "outputs": [
        {
          "name": "stdout",
          "output_type": "stream",
          "text": [
            "the probability of drawing a red card: 0.5\n",
            "the probability of drawing a spade: 0.25\n",
            "the probability of drawing a 7: 0.07692307692307693\n",
            "the probability of drawing a spade and a jack: 0.019230769230769232\n"
          ]
        }
      ],
      "source": [
        "print(\"the probability of drawing a red card:\", probability(26, 52))\n",
        "print(\"the probability of drawing a spade:\", probability(13, 52))\n",
        "print(\"the probability of drawing a 7:\", probability(4, 52))\n",
        "print(\"the probability of drawing a spade and a jack:\", probability(1, 52))"
      ]
    },
    {
      "cell_type": "markdown",
      "metadata": {
        "id": "kN80WERmEkJR"
      },
      "source": [
        "### Bayes's Theorem\n",
        "\n",
        "There are two ways to think about Bayes's Theorem:\n",
        "\n",
        "* It is a divide-and conquer strategy for computing conditional probabilities.  If it's hard to compute $P(A|B)$ directly, sometimes it is easier to compute the terms on the other side of the equation: $P(A)$, $P(B|A)$, and $P(B)$.\n",
        "\n",
        "* It is also a recipe for updating beliefs in the light of new data.\n",
        "\n",
        "When we are working with the second interpretation, we often write Bayes's Theorem with different variables.  Instead of $A$ and $B$, we use $H$ and $D$, where\n",
        "\n",
        "* $H$ stands for \"hypothesis\", and\n",
        "\n",
        "* $D$ stands for \"data\".\n",
        "\n",
        "So we write Bayes's Theorem like this:\n",
        "\n",
        "$P(A|B) =\\frac{P(A) ~ P(B|A)}{P(B)}$\n",
        "\n",
        "$P(H|D) =\\frac{P(H) ~ P(D|H)}{P(D)}$\n",
        "\n",
        "In this context, each term has a name:\n",
        "\n",
        "* $P(H)$ is the \"prior probability\" of the hypothesis, which represents how confident you are that $H$ is true prior to seeing the data,\n",
        "\n",
        "* $P(D|H)$ is the \"likelihood\" of the data, which is the probability of seeing $D$ if the hypothesis is true,\n",
        "\n",
        "* $P(D)$ is the \"total probability of the data\", that is, the chance of seeing $D$ regardless of whether $H$ is true or not.\n",
        "\n",
        "* $P(H|D)$ is the \"posterior probability\" of the hypothesis, which indicates how confident you should be that $H$ is true after taking the data into account.\n",
        "\n",
        "An example will make all of this clearer."
      ]
    },
    {
      "cell_type": "markdown",
      "metadata": {
        "id": "gI32GW57EkJR"
      },
      "source": [
        "### The cookie problem\n",
        "\n",
        "\n",
        "> Suppose you have two bowls of cookies.  Bowl 1 contains 30 vanilla and 10 chocolate cookies.  Bowl 2 contains 20 of each kind.\n",
        ">\n",
        "> You choose one of the bowls at random and, without looking into the bowl, choose one of the cookies at random.  It turns out to be a vanilla cookie.\n",
        ">\n",
        "> What is the chance that you chose Bowl 1?\n",
        "\n",
        "We'll assume that there was an equal chance of choosing either bowl and an equal chance of choosing any cookie in the bowl."
      ]
    },
    {
      "cell_type": "markdown",
      "metadata": {
        "id": "B1C7l8vWEkJR"
      },
      "source": [
        "We can solve this problem using Bayes's Theorem. First, I'll define  $H$  and  $D$ :\n",
        "\n",
        "$H$  is the hypothesis that the bowl you chose is Bowl 1.\n",
        "\n",
        "$D$  is the data that the cookie is vanilla.\n",
        "\n",
        "What we want is the posterior probability of  $H$ , which is  $P(H|D)$ . It is not obvious how to compute it directly, but if we can figure out the terms on the right-hand side of Bayes's Theorem, we can get to it indirectly.\n",
        "\n",
        "$P(H)$ is the prior probability of $H$, which is the probability of choosing Bowl 1 before we see the data. If there was an equal chance of choosing either bowl, $P(H)$ is 1/2.\n",
        "\n",
        "$P(D|H)$ is the likelihood of the data, which is the chance of getting a vanilla cookie if $H$ is true, in other words, the chance of getting a vanilla cookie from Bowl 1, which is 30/40.\n",
        "\n",
        "$P(D)$ is the total probability of the data, which is the chance of getting a vanilla cookie whether $𝐻$ is true or not. In this example, we can figure out $P(D)$ directly: because the bowls are equally likely, and they contain the same number of cookies, you were equally likely to choose any cookie. Combining the two bowls, there are 50 vanilla and 30 chocolate cookies, so the probability of choosing a vanilla cookie is 50/80.\n",
        "\n",
        "Now that we have the terms on the right-hand side, we can use Bayes's Theorem to combine them."
      ]
    },
    {
      "cell_type": "code",
      "execution_count": 11,
      "metadata": {
        "colab": {
          "base_uri": "https://localhost:8080/"
        },
        "id": "SuQB3sM8EkJR",
        "outputId": "da229b50-03db-423f-a681-d95e72215620"
      },
      "outputs": [
        {
          "name": "stdout",
          "output_type": "stream",
          "text": [
            "The probability of choosing Bowl 1: 0.6\n"
          ]
        }
      ],
      "source": [
        "#𝑃(𝐻)\n",
        "prior = probability(matching_outcomes=1, total_outcomes=2)\n",
        "#𝑃(𝐷|𝐻)\n",
        "likelihood =probability(matching_outcomes=30, total_outcomes=40)\n",
        "#𝑃(𝐷)\n",
        "prob_data = probability(matching_outcomes=50, total_outcomes=80)\n",
        "#computing 𝑃(𝐻|𝐷)\n",
        "posterior = prior * likelihood / prob_data\n",
        "print(\"The probability of choosing Bowl 1:\", posterior)"
      ]
    },
    {
      "cell_type": "markdown",
      "metadata": {
        "id": "rbOP8-UjEkJR"
      },
      "source": [
        "The posterior probability is  0.6 , a little higher than the prior, which was  0.5 .\n",
        "\n",
        "So the vanilla cookie makes us a little more certain that we chose Bowl 1.\n",
        "\n",
        "### Challenge 4\n",
        "What if we had chosen a chocolate cookie instead; what would be the posterior probability of Bowl 1?"
      ]
    },
    {
      "cell_type": "markdown",
      "metadata": {},
      "source": [
        "Just like the problem above We can solve this problem using Bayes's Theorem. First, I'll define  $H$  and  $D$ :\n",
        "\n",
        "$H$  is the hypothesis that the bowl you chose is Bowl 1.\n",
        "\n",
        "$D$  is the data that the cookie is **chocolate**.\n",
        "\n",
        "What we want is the posterior probability of  $H$ , which is  $P(H|D)$ .\n",
        "\n",
        "$P(H)$ is the prior probability of $H$, which is the probability of choosing Bowl 1 before we see the data. If there was an equal chance of choosing either bowl, $P(H)$ is 1/2.\n",
        "\n",
        "$P(D|H)$ is the likelihood of the data, which is the chance of getting a **chocolate** cookie if $H$ is true, in other words, the chance of getting a **chocolate** cookie from Bowl 1, which is 10/40.\n",
        "\n",
        "$P(D)$ is the total probability of the data, which is the chance of getting a **chocolate** cookie whether $𝐻$ is true or not. In this example, we can figure out $P(D)$ directly. Combining the two bowls, there are 50 vanilla and 30 chocolate cookies, so the probability of choosing a **chocolate** cookie is 30/80."
      ]
    },
    {
      "cell_type": "code",
      "execution_count": 12,
      "metadata": {
        "id": "zc1D49qwEkJR"
      },
      "outputs": [
        {
          "name": "stdout",
          "output_type": "stream",
          "text": [
            "The probability of choosing Bowl 1: 0.3333333333333333\n"
          ]
        }
      ],
      "source": [
        "#𝑃(𝐻)\n",
        "prior = probability(matching_outcomes=1, total_outcomes=2)\n",
        "#𝑃(𝐷|𝐻)\n",
        "likelihood =probability(matching_outcomes=10, total_outcomes=40)\n",
        "#𝑃(𝐷)\n",
        "prob_data = probability(matching_outcomes=30, total_outcomes=80)\n",
        "#computing 𝑃(𝐻|𝐷)\n",
        "posterior = prior * likelihood / prob_data\n",
        "print(\"The probability of choosing Bowl 1:\", posterior)"
      ]
    },
    {
      "cell_type": "markdown",
      "metadata": {},
      "source": [
        "The posterior probability is  0.3333 , lower than the prior, which was  0.5 .\n",
        "\n",
        "So the **chocolate** cookie makes us a little more certain that we chose Bowl 2."
      ]
    },
    {
      "cell_type": "markdown",
      "metadata": {
        "id": "QTzuWUR_EkJR"
      },
      "source": [
        "### 2- Random Numbers Generation\n",
        "A random number generator lets you draw, at random, a number from a specified distribution. Several random number generators are included in the `random` subpackage of `numpy`.\n",
        "\n",
        "#### The random.random() function\n",
        " The `random.random()` function returns the next nearest  foating-point value from the generated sequence. All return values are enclosed between 0 and 1.0. Let's explore a practical example that uses this function:"
      ]
    },
    {
      "cell_type": "code",
      "execution_count": 13,
      "metadata": {
        "colab": {
          "base_uri": "https://localhost:8080/"
        },
        "id": "AlEYCiHpEkJR",
        "outputId": "e40f07b0-970a-4fdb-bfcb-4d864de3501e",
        "scrolled": true
      },
      "outputs": [
        {
          "name": "stdout",
          "output_type": "stream",
          "text": [
            "0.4532 0.8351 0.6176 0.4861 0.7229 0.5530 0.6109 0.8637 0.1357 0.6645 0.5692 0.9408 0.1935 0.6888 0.9399 0.0395 0.9038 0.3215 0.5286 0.8852 "
          ]
        }
      ],
      "source": [
        "for i in range(20):\n",
        "    print('%05.4f' % rnd.random(), end=' ')"
      ]
    },
    {
      "cell_type": "markdown",
      "metadata": {
        "id": "nOqkhUJeEkJR"
      },
      "source": [
        "In the above example, 20 pseudorandom numbers are generated. Each number is printed in a format that includes 5 digits, including 4 decimal places.\n",
        "If we call the random() function again, we get a different sequence numbers:"
      ]
    },
    {
      "cell_type": "code",
      "execution_count": 14,
      "metadata": {
        "colab": {
          "base_uri": "https://localhost:8080/"
        },
        "id": "NW7xelo4EkJR",
        "outputId": "90ff253e-5597-4536-a130-82461f71001f"
      },
      "outputs": [
        {
          "name": "stdout",
          "output_type": "stream",
          "text": [
            "0.6664 0.6104 0.8869 0.6138 0.4324 0.8677 0.8871 0.8784 0.5311 0.9156 0.1954 0.7396 0.3795 0.6904 0.7814 0.0211 0.5940 0.2896 0.0457 0.3733 "
          ]
        }
      ],
      "source": [
        "for i in range(20):\n",
        "    print('%05.4f' % rnd.random(), end=' ')"
      ]
    },
    {
      "cell_type": "markdown",
      "metadata": {
        "id": "PiTlJwyeEkJR"
      },
      "source": [
        "#### The random.seed() function\n",
        "Internally, the random number generator starts with what is called a `seed`. The `seed` is a number and is generated automatically (and supposedly at random) when you call the random number generator. The value of the seed exactly defines the sequence of random numbers that you get. For example, let's set seed equal to 1:"
      ]
    },
    {
      "cell_type": "code",
      "execution_count": 15,
      "metadata": {
        "colab": {
          "base_uri": "https://localhost:8080/"
        },
        "id": "u8mY60EBEkJR",
        "outputId": "1607666a-8012-48da-9a69-2795b81be06b"
      },
      "outputs": [
        {
          "name": "stdout",
          "output_type": "stream",
          "text": [
            "0.4170 0.7203 0.0001 0.3023 0.1468 0.0923 0.1863 0.3456 0.3968 0.5388 0.4192 0.6852 0.2045 0.8781 0.0274 0.6705 0.4173 0.5587 0.1404 0.1981 "
          ]
        }
      ],
      "source": [
        "rnd.seed(1)\n",
        "for i in range(20):\n",
        "    print('%05.4f' % rnd.random(), end=' ')"
      ]
    },
    {
      "cell_type": "markdown",
      "metadata": {
        "id": "ToDwkYKVEkJR"
      },
      "source": [
        "If we now specify the `seed` again as 1, the exact same sequence is generated again."
      ]
    },
    {
      "cell_type": "code",
      "execution_count": 16,
      "metadata": {
        "colab": {
          "base_uri": "https://localhost:8080/"
        },
        "id": "sVuy9XquEkJR",
        "outputId": "7cf910ad-5898-44c9-f2e8-e6f9ded83e2b"
      },
      "outputs": [
        {
          "name": "stdout",
          "output_type": "stream",
          "text": [
            "0.4170 0.7203 0.0001 0.3023 0.1468 0.0923 0.1863 0.3456 0.3968 0.5388 0.4192 0.6852 0.2045 0.8781 0.0274 0.6705 0.4173 0.5587 0.1404 0.1981 "
          ]
        }
      ],
      "source": [
        "rnd.seed(1)\n",
        "for i in range(20):\n",
        "    print('%05.4f' % rnd.random(), end=' ')"
      ]
    },
    {
      "cell_type": "markdown",
      "metadata": {
        "id": "_eRdaKjmEkJR"
      },
      "source": [
        "#### The random.uniform() function\n",
        "The `random.uniform()` function generates numbers within a defined numeric range. Let's look at an example:"
      ]
    },
    {
      "cell_type": "code",
      "execution_count": 17,
      "metadata": {
        "colab": {
          "base_uri": "https://localhost:8080/"
        },
        "id": "QRpkfbvfEkJR",
        "outputId": "3af26e96-94dd-40e8-c996-a2c31efeb7b7"
      },
      "outputs": [
        {
          "name": "stdout",
          "output_type": "stream",
          "text": [
            "80.2737 96.8579 32.0290 69.5399 87.7625 89.5661 9.4194 4.8664 17.8132 87.9361 10.7363 42.6897 95.8311 53.7834 69.4958 32.2360 68.9636 83.6279 2.8105 75.2643 "
          ]
        }
      ],
      "source": [
        "for i in range(20):\n",
        "    print('%6.4f' % rnd.uniform(1, 100), end=' ')"
      ]
    },
    {
      "cell_type": "markdown",
      "metadata": {
        "id": "V_cONPrvEkJR"
      },
      "source": [
        "In the above example, 20 random numbers are generated in the range of [1,100)\n",
        "\n",
        "#### The random.randint() function\n",
        "This function generates random integers.  The arguments for `randint()` are the values of the range, including the extremes.  The numbers may be negative or positive, but the  1st value should be less than the second. Let's look at an example:"
      ]
    },
    {
      "cell_type": "code",
      "execution_count": 18,
      "metadata": {
        "colab": {
          "base_uri": "https://localhost:8080/"
        },
        "id": "L2-Mpp_uEkJR",
        "outputId": "d1bbe712-1aea-427a-af1d-d70c8c7cfb90"
      },
      "outputs": [
        {
          "name": "stdout",
          "output_type": "stream",
          "text": [
            "-85 -36 96 -75 11 35 -74 53 4 -78 -91 95 26 -77 25 0 55 65 -43 -17 "
          ]
        }
      ],
      "source": [
        "for i in range(20):\n",
        "    print(rnd.randint(-100, 100), end=' ')"
      ]
    },
    {
      "cell_type": "markdown",
      "metadata": {
        "id": "2tVKJscREkJR"
      },
      "source": [
        "In the above example, 20 random integer numbers are generated in the range of [-100,100]\n",
        "\n",
        "#### The random.choice() function\n",
        "A common use for random number generators is to select a random element from a sequence of enumerated values, even if these values are not numbers.  The `choice()` function returns a random element of the non-empty sequence passed as an argument. This function is suitable to use in extracting values from a predetermined list:"
      ]
    },
    {
      "cell_type": "code",
      "execution_count": 19,
      "metadata": {
        "colab": {
          "base_uri": "https://localhost:8080/"
        },
        "id": "0M2s3n0XEkJR",
        "outputId": "bbbbd9c4-f642-4a1e-b775-03355f2d9031"
      },
      "outputs": [
        {
          "name": "stdout",
          "output_type": "stream",
          "text": [
            "Randomly selected item from Cities list is -  Los Angeles\n",
            "Randomly selected item from Cities list is -  Madrid\n",
            "Randomly selected item from Cities list is -  Rome\n",
            "Randomly selected item from Cities list is -  Algiers\n",
            "Randomly selected item from Cities list is -  Toronto\n"
          ]
        }
      ],
      "source": [
        "CitiesList = ['Rome','New York','Algiers','London','Berlin','Moskov',\n",
        "'Los Angeles','Paris','Madrid','Tokio','Toronto']\n",
        "for i in range(5):\n",
        "    CitiesItem = rnd.choice(CitiesList)\n",
        "    print (\"Randomly selected item from Cities list is - \",CitiesItem)"
      ]
    },
    {
      "cell_type": "markdown",
      "metadata": {
        "id": "JjYAsLSwEkJR"
      },
      "source": [
        "In the above example, 5 random elements are selected from the sequence list CitiesList. At each iteration of the cycle, a new element is extracted from the list containingthe names of the cities.\n",
        "\n",
        "#### Selecting n random values from an array\n",
        "Many simulations require random samples from a population of input values.  The `size` option in the `choice()` function is for that purpose. Let's look at an example:"
      ]
    },
    {
      "cell_type": "code",
      "execution_count": 20,
      "metadata": {
        "colab": {
          "base_uri": "https://localhost:8080/"
        },
        "id": "vmkaLPLiEkJR",
        "outputId": "b79ecea0-5830-4be1-82be-f35dcd89b49e"
      },
      "outputs": [
        {
          "name": "stdout",
          "output_type": "stream",
          "text": [
            "Initial Data List =  range(10, 100, 10)\n",
            "Sample Data List =  [80 80 80 40 10]\n"
          ]
        }
      ],
      "source": [
        "DataList = range(10,100,10)\n",
        "print(\"Initial Data List = \",DataList)\n",
        "DataSample = rnd.choice(DataList,size=5)\n",
        "print(\"Sample Data List = \",DataSample)"
      ]
    },
    {
      "cell_type": "markdown",
      "metadata": {
        "id": "0XN2aODIEkJh"
      },
      "source": [
        "In the above example, only 5 elements of the initial list were selected, and this selection was completely random.\n",
        "### 2- Exploring Probability Distributions\n",
        "#### Uniform Distribution\n",
        "This distribution generates random values uniformly distributed over the half-open interval [a,b).\n",
        "Any value within the given interval is equally likely to be drawn by uniform distribution. Let's look at an example:"
      ]
    },
    {
      "cell_type": "code",
      "execution_count": 21,
      "metadata": {
        "colab": {
          "base_uri": "https://localhost:8080/",
          "height": 430
        },
        "id": "-zwIQOvTEkJh",
        "outputId": "51bad96d-1000-4776-d829-32a224b40d8a"
      },
      "outputs": [
        {
          "data": {
            "image/png": "[encoded data removed]",
            "text/plain": [
              "<Figure size 640x480 with 1 Axes>"
            ]
          },
          "metadata": {},
          "output_type": "display_data"
        }
      ],
      "source": [
        "#Initializing uniform distribution parameters\n",
        "a=1\n",
        "b=100\n",
        "N=100\n",
        "#Randomly generate 100 numbers between a and b\n",
        "#using uniform distribution\n",
        "X1=rnd.uniform(a,b,N)\n",
        "#Ploting X1 using matplotlib.pyplot library\n",
        "plt.plot(X1)\n",
        "plt.show()"
      ]
    },
    {
      "cell_type": "markdown",
      "metadata": {
        "id": "DQI5KuxuEkJh"
      },
      "source": [
        "Lets now analyze how the generated values are distributed in the interval considered. We draw a graph of the probability density function as follows:"
      ]
    },
    {
      "cell_type": "code",
      "execution_count": 22,
      "metadata": {
        "colab": {
          "base_uri": "https://localhost:8080/",
          "height": 430
        },
        "id": "l8Yng-4WEkJh",
        "outputId": "8094722b-7a53-4dc7-a608-2ce6520813c1"
      },
      "outputs": [
        {
          "data": {
            "image/png": "[encoded data removed]",
            "text/plain": [
              "<Figure size 640x480 with 1 Axes>"
            ]
          },
          "metadata": {},
          "output_type": "display_data"
        }
      ],
      "source": [
        "plt.figure()\n",
        "plt.hist(X1, density=True, histtype='stepfilled',\n",
        "alpha=0.2)\n",
        "plt.show()"
      ]
    },
    {
      "cell_type": "markdown",
      "metadata": {
        "id": "XOQIXtrDEkJh"
      },
      "source": [
        "Here, we can see that the generated values are distributed almost evenly throughout the range.\n",
        "Let's now see What happens if we increase the number of generated values?\n",
        "Then, we repeat the commands to generate up to 10000 random numbers uniformly distributed between 1 and 100."
      ]
    },
    {
      "cell_type": "code",
      "execution_count": 23,
      "metadata": {
        "colab": {
          "base_uri": "https://localhost:8080/",
          "height": 843
        },
        "id": "_M6WXcahEkJh",
        "outputId": "1b69ae6d-a41b-4196-d893-19eaa1ec292a"
      },
      "outputs": [
        {
          "data": {
            "image/png": "[encoded data removed]",
            "text/plain": [
              "<Figure size 640x480 with 1 Axes>"
            ]
          },
          "metadata": {},
          "output_type": "display_data"
        },
        {
          "data": {
            "image/png": "[encoded data removed]",
            "text/plain": [
              "<Figure size 640x480 with 1 Axes>"
            ]
          },
          "metadata": {},
          "output_type": "display_data"
        }
      ],
      "source": [
        "a=1\n",
        "b=100\n",
        "N=10000\n",
        "\n",
        "X2=rnd.uniform(a,b,N)\n",
        "plt.figure()\n",
        "plt.plot(X2)\n",
        "plt.show()\n",
        "\n",
        "plt.figure()\n",
        "plt.hist(X2, density=True, histtype='stepfilled',\n",
        "alpha=0.2)\n",
        "plt.show()"
      ]
    },
    {
      "cell_type": "markdown",
      "metadata": {
        "id": "yrgNJisbEkJh"
      },
      "source": [
        "Analyzing the previous histogram and comparing it with what we obtained in the case of N=100, we can see that this time, the distribution appears to be  flatter.  The distribution becomes more and more  flat as N increases.\n",
        "#### Binomial distribution\n",
        "The binomial distribution is the probability of obtaining $x$ successes in $t$ independent trials and is computed as follows:\n",
        "\n",
        "$p(x) =  \\binom{t}{x} p^t(1-p)^{t-x}, 0\\leq x \\leq t $\n",
        "where: $\\binom{t}{x}=\\frac{t!}{(t-p)!p!}$\n",
        "\n",
        "\n",
        "##### Example:\n",
        "<figure>\n",
        "  <IMG src=\"figures/one-dice.jpg\" WIDTH=100  ALIGN=\"right\">\n",
        "</figure>\n",
        "We throw a dice $10$ times and we want to study the binomial variable $x$= {number of times a number<= 3 cames out}.  The parameters of the problem are:\n",
        "<ol>\n",
        "   <li>  $t=10$ </li>\n",
        "   <li>  $p=3*\\frac{1}{6}=0.5$ </li>\n",
        "   <li> $q=1-p=0.5$ </li>\n",
        "</ol>\n",
        "\n",
        "Let's now simulate this experiment:"
      ]
    },
    {
      "cell_type": "code",
      "execution_count": 24,
      "metadata": {
        "colab": {
          "base_uri": "https://localhost:8080/",
          "height": 430
        },
        "id": "0jkQ-VHeEkJh",
        "outputId": "881c49ce-a6a0-4279-d274-a90e847eee37"
      },
      "outputs": [
        {
          "data": {
            "image/png": "[encoded data removed]",
            "text/plain": [
              "<Figure size 640x480 with 1 Axes>"
            ]
          },
          "metadata": {},
          "output_type": "display_data"
        }
      ],
      "source": [
        "#Initializing Binomial distribution parameters\n",
        "N = 1000\n",
        "t = 10\n",
        "p = 0.5\n",
        "#Generate the Binomial probability distribution\n",
        "#Then Plot\n",
        "P1 = rnd.binomial(t,p,N)\n",
        "plt.plot(P1)\n",
        "plt.show()"
      ]
    },
    {
      "cell_type": "markdown",
      "metadata": {
        "id": "CzJ0o7NaEkJh"
      },
      "source": [
        "We now evaluate the probability density function as follows:"
      ]
    },
    {
      "cell_type": "code",
      "execution_count": 25,
      "metadata": {
        "colab": {
          "base_uri": "https://localhost:8080/",
          "height": 430
        },
        "id": "O1NBu-GoEkJh",
        "outputId": "62cb3727-f56c-49c6-a462-d34021c3c323"
      },
      "outputs": [
        {
          "data": {
            "image/png": "[encoded data removed]",
            "text/plain": [
              "<Figure size 640x480 with 1 Axes>"
            ]
          },
          "metadata": {},
          "output_type": "display_data"
        }
      ],
      "source": [
        "plt.figure()\n",
        "plt.hist(P1, density=True, alpha=0.8, histtype='bar',\n",
        "color = 'green', ec='black')\n",
        "plt.show()"
      ]
    },
    {
      "cell_type": "markdown",
      "metadata": {
        "id": "fCS6IwLiEkJh"
      },
      "source": [
        "We can see that all the areas of the binomial distributions, that is, the sum of the rectangles, being the sum of probability, are worth 1.\n",
        "\n",
        "#### Normal distribution\n",
        "The normal distribution is the most used continuous distribution in statistics. Recall that the probability density distribution of the normal distribution is given as follows:\n",
        "\n",
        "$f(x)=\\frac{1}{\\sqrt{2\\pi\\sigma^2}}e^{-(x-\\mu)^2/2\\sigma^2}$\n",
        "\n",
        "##### Example:\n",
        "The average height of $18$-year old boys of $1000$ boys is normally distributed with a mean of $180$ cm and a standard deviation of $7$ cm. The parameters of the problem are:\n",
        "<ol>\n",
        "   <li>  $\\mu=180$ </li>\n",
        "   <li>  $\\sigma=7$ </li>\n",
        "</ol>\n",
        "\n",
        "Now, let’s generate a normal distribution and evaluate the probability density function with Python code as follows"
      ]
    },
    {
      "cell_type": "code",
      "execution_count": 26,
      "metadata": {
        "colab": {
          "base_uri": "https://localhost:8080/",
          "height": 673
        },
        "id": "o5LxgSYqEkJh",
        "outputId": "48d47fc7-fda5-41e5-aeec-2744349597f9"
      },
      "outputs": [
        {
          "data": {
            "image/png": "[encoded data removed]",
            "text/plain": [
              "<Figure size 640x480 with 1 Axes>"
            ]
          },
          "metadata": {},
          "output_type": "display_data"
        }
      ],
      "source": [
        "import numpy as np\n",
        "import matplotlib.pyplot as plt\n",
        "import seaborn as sns\n",
        "#Initializing Normal distribution parameters \n",
        "mu = 180\n",
        "sigma =7\n",
        "N=1000\n",
        "#Generate the Normal probability distribution\n",
        "P1 = rnd.normal(mu, sigma, N)\n",
        "#Then Plot\n",
        "plt.figure()\n",
        "\n",
        "sns.histplot(P1, kde=True)\n",
        "plt.show()"
      ]
    },
    {
      "cell_type": "markdown",
      "metadata": {
        "id": "tCLVgpqnEkJh"
      },
      "source": [
        "We can see that the distribution of the 1000 samples populations follow a normal distribution as ploted by `sns.distplot()` function"
      ]
    },
    {
      "cell_type": "markdown",
      "metadata": {
        "id": "ytORZuPEEkJh"
      },
      "source": [
        "## Approximating Probability throught Simulation\n",
        "### Flipping a coin\n",
        " Let's flip a coin $n$ times and computes the probability via simulation by counting the number of heads (0) and the number of tails (1). Note that the theoritical probability of getting a head or tail when flipping a coin is $p(x=0)=p(x=1)=0.5$.To compute the probability via simulation, we apply the relative frequency and probability concept seen in the course:\n",
        " $f(E)=\\frac{v}{n}\\cong P(E)$.\n",
        " Where $v$ is number of the times the event $E$ occurred and $n$ the number of tests carried out"
      ]
    },
    {
      "cell_type": "code",
      "execution_count": 27,
      "metadata": {
        "colab": {
          "base_uri": "https://localhost:8080/",
          "height": 486
        },
        "id": "utXAePwEEkJh",
        "outputId": "c386ff56-8160-425d-b88b-3a0629863f87"
      },
      "outputs": [
        {
          "name": "stdout",
          "output_type": "stream",
          "text": [
            "outcome 0 is 55 with probability=0.55\n",
            "outcome 1 is 45 with probability=0.45\n"
          ]
        },
        {
          "data": {
            "image/png": "[encoded data removed]",
            "text/plain": [
              "<Figure size 640x480 with 1 Axes>"
            ]
          },
          "metadata": {},
          "output_type": "display_data"
        }
      ],
      "source": [
        "rnd.seed(10)\n",
        "n=100\n",
        "flip = rnd.randint(0, 2, n)\n",
        "\n",
        "outcomes = np.zeros(2, dtype='int') # Two outcomes. heads are stored in outcome[0], tails in outcome[1]\n",
        "for i in range (2):\n",
        "    outcomes[i] = np.count_nonzero(flip == i)\n",
        "    print(f'outcome {i} is {outcomes[i]} with probability={outcomes[i]/n}')\n",
        "\n",
        "plt.bar(range(0, 2), outcomes/n)\n",
        "plt.xticks(range(0, 2))\n",
        "plt.xlabel('Probability of Head/tails')\n",
        "plt.ylabel('occurence in '+str(n)+' trials')\n",
        "plt.show()"
      ]
    },
    {
      "cell_type": "markdown",
      "metadata": {
        "id": "pAho_30rEkJh"
      },
      "source": [
        "Now let's increase the numner of experiments and plot the probability simulation results"
      ]
    },
    {
      "cell_type": "code",
      "execution_count": 28,
      "metadata": {
        "colab": {
          "base_uri": "https://localhost:8080/",
          "height": 468
        },
        "id": "T4Qji7voEkJh",
        "outputId": "daa9218a-d86b-42ce-e218-8a8a4036e825"
      },
      "outputs": [
        {
          "data": {
            "image/png": "[encoded data removed]",
            "text/plain": [
              "<Figure size 640x480 with 1 Axes>"
            ]
          },
          "metadata": {},
          "output_type": "display_data"
        }
      ],
      "source": [
        "experiments=np.arange(100, 100001, 100)\n",
        "\n",
        "outcomes_head=np.zeros(len(experiments))\n",
        "outcomes_tail=np.zeros(len(experiments))\n",
        "\n",
        "\n",
        "\n",
        "\n",
        "rnd.seed(10)\n",
        "i=0\n",
        "for n in experiments:\n",
        "    flip = rnd.randint(0, 2, n)\n",
        "    outcomes_head[i] = np.count_nonzero(flip == 0)/n\n",
        "    outcomes_tail[i] = np.count_nonzero(flip == 1)/n\n",
        "    i=i+1\n",
        "\n",
        "\n",
        "plt.plot(experiments, outcomes_head,label='Simulation (Head)')\n",
        "plt.plot(experiments, outcomes_tail,label='Simulation (Tail)')\n",
        "plt.hlines(y = 0.5, xmin = experiments[0], xmax = experiments[-1],colors=\"black\",label='Theoritical')\n",
        "plt.xlabel('Itteration $n$')\n",
        "plt.ylabel('Probability')\n",
        "plt.legend()\n",
        "plt.show()"
      ]
    },
    {
      "cell_type": "markdown",
      "metadata": {
        "id": "3cjOrrtKEkJn"
      },
      "source": [
        "We can see that the probability computed by simulation eventually converges to the true value as more experiments are conducted."
      ]
    },
    {
      "cell_type": "markdown",
      "metadata": {
        "id": "WJK2vdFYEkJn"
      },
      "source": [
        "## Challenges\n",
        "### Challenge 5: Birth Weight of New Born Babies\n",
        "The birth weight (in kilograms) of the $3.226$ new born babies is normally distributed with a mean of $3.39$ klg and a standard deviation of $0.55$ klg.\n",
        "Define your problem parameters.\n",
        "Generate the normal distribution and evaluate the probability density function."
      ]
    },
    {
      "cell_type": "code",
      "execution_count": 29,
      "metadata": {
        "id": "NC8mg3OUEkJn"
      },
      "outputs": [
        {
          "data": {
            "image/png": "[encoded data removed]",
            "text/plain": [
              "<Figure size 640x480 with 1 Axes>"
            ]
          },
          "metadata": {},
          "output_type": "display_data"
        }
      ],
      "source": [
        "mu = 3.39\n",
        "sigma =0.55\n",
        "N=3226\n",
        "\n",
        "P1 = rnd.normal(mu, sigma, N)\n",
        "#Then Plot\n",
        "plt.figure()\n",
        "\n",
        "sns.histplot(P1, kde=True)\n",
        "plt.show()"
      ]
    },
    {
      "cell_type": "markdown",
      "metadata": {
        "id": "xyc_1HV0EkJn"
      },
      "source": [
        "### Challenge 6: Crime Survey\n",
        "An FBI survey of 1000 reports shows that about 80% of all property crimes go unsolved. Suppose that in your town 3 such crimes are committed and they are each deemed independent of each other.\n",
        "<ol>\n",
        "  <li>Simulate this experiement and evaluate the probability density function</li>\n",
        "  <li>Compute the probability that 1 of 3 of these crimes will be solved?</li>\n",
        "</ol>\n",
        "\n",
        "#### Hint\n",
        "The problem above follows a binomial distribution since the following conditions are satisfied:\n",
        "<ul>\n",
        "  <li>Does it satisfy a fixed number of trials? YES the number of trials is fixed at 3 </li>\n",
        "  <li>Does it have only 2 outcomes? YES (Solved and unsolved)</li>\n",
        "  <li>Do all the trials have the same probability of success? YES (p = (100%-80%)=0.2)</li>\n",
        "</ul>\n"
      ]
    },
    {
      "cell_type": "markdown",
      "metadata": {},
      "source": [
        "Question 1"
      ]
    },
    {
      "cell_type": "code",
      "execution_count": 30,
      "metadata": {
        "id": "xgaFrga0EkJn"
      },
      "outputs": [
        {
          "data": {
            "image/png": "[encoded data removed]",
            "text/plain": [
              "<Figure size 640x480 with 1 Axes>"
            ]
          },
          "metadata": {},
          "output_type": "display_data"
        },
        {
          "data": {
            "image/png": "[encoded data removed]",
            "text/plain": [
              "<Figure size 640x480 with 1 Axes>"
            ]
          },
          "metadata": {},
          "output_type": "display_data"
        }
      ],
      "source": [
        "n = 3\n",
        "p = 0.8\n",
        "\n",
        "dist = np.random.binomial(n, p, size=10000)\n",
        "\n",
        "outcomes = np.arange(n+1)\n",
        "pmf = [np.mean(dist == i) for i in outcomes]\n",
        "plt.bar(outcomes, pmf)\n",
        "plt.xticks(outcomes)\n",
        "plt.xlabel('Number of crimes unsolved')\n",
        "plt.ylabel('Probability')\n",
        "plt.title('Binomial distribution of property crimes')\n",
        "plt.figure()\n",
        "plt.hist(dist, density=True, alpha=0.8, histtype='bar',\n",
        "color = 'green', ec='black')\n",
        "plt.show()"
      ]
    },
    {
      "cell_type": "code",
      "execution_count": 43,
      "metadata": {},
      "outputs": [
        {
          "name": "stdout",
          "output_type": "stream",
          "text": [
            "[2 2 2 ... 3 2 2]\n"
          ]
        }
      ],
      "source": [
        "print(dist)"
      ]
    },
    {
      "cell_type": "markdown",
      "metadata": {},
      "source": [
        "Question 2\n"
      ]
    },
    {
      "cell_type": "code",
      "execution_count": 32,
      "metadata": {},
      "outputs": [
        {
          "name": "stdout",
          "output_type": "stream",
          "text": [
            "probability that 1 of 3 of the crimes will be solved: 0.3840000000000001\n"
          ]
        }
      ],
      "source": [
        "import math \n",
        "n = 3\n",
        "p = 0.2\n",
        "\n",
        "combination = math.comb(n, 1)\n",
        "probability = combination * np.power(p, 1) * np.power(1-p, n-1)\n",
        "\n",
        "print(\"probability that 1 of 3 of the crimes will be solved:\", probability)\n"
      ]
    },
    {
      "cell_type": "markdown",
      "metadata": {
        "id": "p-LOxNmgEkJn"
      },
      "source": [
        " ### Challenge 7: Throwing a dice\n",
        "Using the 1st code in the above experiment (Flipping a coin),  throw a dice with $n=100$ times and report how many times you throw $1, 2, 3, 4, 5,$ and $6$. Use a seed of $33$. Make sure that the reported values add up to $100$. What is the theoritical probability of each event."
      ]
    },
    {
      "cell_type": "code",
      "execution_count": 33,
      "metadata": {
        "id": "UEzBUmM9EkJn"
      },
      "outputs": [
        {
          "name": "stdout",
          "output_type": "stream",
          "text": [
            "Number 1 was rolled [17, 10, 21, 17, 16, 19] times.\n",
            "Number 2 was rolled [17, 10, 21, 17, 16, 19] times.\n",
            "Number 3 was rolled [17, 10, 21, 17, 16, 19] times.\n",
            "Number 4 was rolled [17, 10, 21, 17, 16, 19] times.\n",
            "Number 5 was rolled [17, 10, 21, 17, 16, 19] times.\n",
            "Number 6 was rolled [17, 10, 21, 17, 16, 19] times.\n",
            "Theoretical probability of rolling 1: 0.16666666666666666\n",
            "Theoretical probability of rolling 2: 0.16666666666666666\n",
            "Theoretical probability of rolling 3: 0.16666666666666666\n",
            "Theoretical probability of rolling 4: 0.16666666666666666\n",
            "Theoretical probability of rolling 5: 0.16666666666666666\n",
            "Theoretical probability of rolling 6: 0.16666666666666666\n"
          ]
        }
      ],
      "source": [
        "import random\n",
        "\n",
        "random.seed(33)\n",
        "n = 100\n",
        "\n",
        "dice_numbers_counter = [0, 0, 0, 0, 0, 0]\n",
        "\n",
        "for i in range(n):\n",
        "    roll = random.randint(1, 6)\n",
        "    dice_numbers_counter[roll-1] += 1\n",
        "\n",
        "for i, count in enumerate(dice_numbers_counter):\n",
        "    print(f\"Number {i+1} was rolled {dice_numbers_counter} times.\")\n",
        "\n",
        "for i in range(6):\n",
        "    print(f\"Theoretical probability of rolling {i+1}: {1/6}\")"
      ]
    },
    {
      "cell_type": "markdown",
      "metadata": {
        "id": "KInH4IfVEkJn"
      },
      "source": [
        "Now Using the 2nd code in the Flipping a coin experiment, plot the probability simulation results and compare it with the theoritical probability."
      ]
    },
    {
      "cell_type": "code",
      "execution_count": 34,
      "metadata": {
        "id": "L4gD81IYEkJn"
      },
      "outputs": [
        {
          "data": {
            "image/png": "[encoded data removed]",
            "text/plain": [
              "<Figure size 640x480 with 1 Axes>"
            ]
          },
          "metadata": {},
          "output_type": "display_data"
        }
      ],
      "source": [
        "theoretical_probabilities = [1/6, 1/6, 1/6, 1/6, 1/6, 1/6]\n",
        "\n",
        "x = range(1, 7)\n",
        "plt.bar(x, dice_numbers_counter)\n",
        "plt.plot(x, theoretical_probabilities, 'red', label='Theoretical')\n",
        "plt.xlabel('Number')\n",
        "plt.ylabel('Count')\n",
        "plt.title('Rolling a Dice Simulation Results')\n",
        "plt.legend()\n",
        "plt.show()"
      ]
    },
    {
      "cell_type": "code",
      "execution_count": 44,
      "metadata": {},
      "outputs": [
        {
          "ename": "TypeError",
          "evalue": "unsupported operand type(s) for /: 'list' and 'int'",
          "output_type": "error",
          "traceback": [
            "\u001b[1;31m---------------------------------------------------------------------------\u001b[0m",
            "\u001b[1;31mTypeError\u001b[0m                                 Traceback (most recent call last)",
            "Cell \u001b[1;32mIn[44], line 1\u001b[0m\n\u001b[1;32m----> 1\u001b[0m \u001b[43mdice_numbers_counter\u001b[49m\u001b[43m \u001b[49m\u001b[38;5;241;43m/\u001b[39;49m\u001b[43m \u001b[49m\u001b[38;5;241;43m100\u001b[39;49m\n",
            "\u001b[1;31mTypeError\u001b[0m: unsupported operand type(s) for /: 'list' and 'int'"
          ]
        }
      ],
      "source": [
        "dice_numbers_counter / 100"
      ]
    },
    {
      "cell_type": "markdown",
      "metadata": {
        "id": "rbN-Gb8bEkJn"
      },
      "source": [
        "### Challenge 8: Drawing balls from a box\n",
        "Suppose there are 12 balls in a box: 4 black, 4 red, and 4 blue. We want to make a program that draws n balls at random from the box. It is natural to represent the collection of balls as a list. Each list element can be an integer 1, 2, or 3, since we have 3 different types of balls, but it would be easier to work with the program if the balls could have a color instead of an integer number. This is easily accomplished by defining color names (See `new_box()` function below). Drawing a ball at random is performed by the `draw_ball()` function. Similarly, drawing n balls can be performed using the `draw_n_balls()` function."
      ]
    },
    {
      "cell_type": "code",
      "execution_count": 45,
      "metadata": {
        "id": "5oktHSVEEkJn"
      },
      "outputs": [],
      "source": [
        "import numpy.random as rnd\n",
        "\n",
        "def new_box():\n",
        "    colors = 'black', 'red', 'blue'   # (tuple of strings)\n",
        "    box = []\n",
        "    for color in colors:\n",
        "        for i in range(4):\n",
        "            box.append(color)\n",
        "    return box\n",
        "\n",
        "def draw_ball(box):\n",
        "    color = rnd.choice(box)\n",
        "    box.remove(color)\n",
        "    return color, box\n",
        "\n",
        "def draw_n_balls(box,n):\n",
        "# Draw n balls from the box\n",
        "    balls = []\n",
        "    for i in range(n):\n",
        "        color, box = draw_ball(box)\n",
        "        balls.append(color)\n",
        "    return balls\n"
      ]
    },
    {
      "cell_type": "markdown",
      "metadata": {
        "id": "V1fvSxEbEkJn"
      },
      "source": [
        "#### Question\n",
        "Now, we ask you to compute the probability of drawing 2 or more black balls from that box via experiemntal simulation. To do so, perform `N` experiments, count how many times `M` you get 2 or more black balls, and estimate the probability as `M/N`. Each experiment consists of making the box list, drawing a number of balls, and counting how many black balls we got. The latter task is easy with the count method in list objects: `box.count('black')` counts how many elements with value 'black' we have in the list box.\n",
        "Given:\n",
        "<ul>\n",
        "  <li>n as how  many balls are to be drawn? </li>\n",
        "  <li>N as how many experiments?</li>\n",
        "</ul>\n",
        " Write a python program using the functions defined just above to compute the required probability.\n",
        " Run your program with n=5 (drawing 5 balls each time) and N=4000 and reports the probability result.\n",
        " Try with other n values and report what differs from the obtained results."
      ]
    },
    {
      "cell_type": "code",
      "execution_count": null,
      "metadata": {
        "colab": {
          "base_uri": "https://localhost:8080/"
        },
        "id": "RwNf4RAcEkJn",
        "outputId": "951602b3-bf28-497a-bd5f-23ae932aaa0e"
      },
      "outputs": [
        {
          "name": "stdout",
          "output_type": "stream",
          "text": [
            "Drawing 2 balls each time -> Probability: 0.00\n"
          ]
        }
      ],
      "source": [
        "n = 2\n",
        "N = 4000\n",
        "\n",
        "prob=0\n",
        "M = 0\n",
        "\n",
        "#complete your code here to compute and print the prob\n",
        "for i in range(5):\n",
        "    box = new_box()\n",
        "    balls = draw_n_balls(box,n)\n",
        "    num = balls.count(\"black\")\n",
        "    if num >= 2:\n",
        "        M = M + 1\n",
        "prob = M/N\n",
        "print (f'Drawing {n} balls each time -> Probability: ' \"{:.2f}\".format(prob))\n",
        "    \n"
      ]
    },
    {
      "cell_type": "markdown",
      "metadata": {
        "id": "9Ha-yzrzEkJn"
      },
      "source": [
        "## Simulating Synthetic Data using Probability Distributions\n",
        "Synthetic data is computer-generated data that is similar to real-world data. The primary purpose of synthetics data is to increase the privacy and integrity of systems. For example, to protect the Personally Identifiable Information (PII) or Personal Health Information (PHI) of the users, companies have to implement data protection strategies. Using synthetic data can help companies test new applications and protect user privacy.\n",
        "\n",
        "For this purpose, We will use the Python Faker library. Faker is an open-source Python package used to simulate a fake dataset for application testing, bootstrapping the database, and maintaining user anonymity.\n",
        "To learn about more advanced functions, check out the Faker documentation (https://faker.readthedocs.io/en/master/fakerclass.html)."
      ]
    },
    {
      "cell_type": "code",
      "execution_count": 37,
      "metadata": {
        "colab": {
          "base_uri": "https://localhost:8080/"
        },
        "id": "MBkAI_ZVEkJn",
        "outputId": "c98723f9-77a8-4cfc-fc30-2f93e478f2af"
      },
      "outputs": [
        {
          "name": "stdout",
          "output_type": "stream",
          "text": [
            "Requirement already satisfied: Faker in c:\\users\\asus\\anaconda3\\envs\\modsim_env\\lib\\site-packages (36.1.1)\n",
            "Requirement already satisfied: tzdata in c:\\users\\asus\\anaconda3\\envs\\modsim_env\\lib\\site-packages (from Faker) (2025.1)\n",
            "Note: you may need to restart the kernel to use updated packages.\n"
          ]
        }
      ],
      "source": [
        "%pip install Faker"
      ]
    },
    {
      "cell_type": "code",
      "execution_count": 38,
      "metadata": {
        "colab": {
          "base_uri": "https://localhost:8080/"
        },
        "id": "mbvnT51HEkJn",
        "outputId": "cacfb176-e37e-4ed4-d73a-2547da360dc8"
      },
      "outputs": [
        {
          "name": "stdout",
          "output_type": "stream",
          "text": [
            "Requirement already satisfied: pandas in c:\\users\\asus\\anaconda3\\envs\\modsim_env\\lib\\site-packages (2.2.3)\n",
            "Requirement already satisfied: numpy>=1.22.4 in c:\\users\\asus\\anaconda3\\envs\\modsim_env\\lib\\site-packages (from pandas) (2.2.2)\n",
            "Requirement already satisfied: python-dateutil>=2.8.2 in c:\\users\\asus\\anaconda3\\envs\\modsim_env\\lib\\site-packages (from pandas) (2.9.0.post0)\n",
            "Requirement already satisfied: pytz>=2020.1 in c:\\users\\asus\\anaconda3\\envs\\modsim_env\\lib\\site-packages (from pandas) (2025.1)\n",
            "Requirement already satisfied: tzdata>=2022.7 in c:\\users\\asus\\anaconda3\\envs\\modsim_env\\lib\\site-packages (from pandas) (2025.1)\n",
            "Requirement already satisfied: six>=1.5 in c:\\users\\asus\\anaconda3\\envs\\modsim_env\\lib\\site-packages (from python-dateutil>=2.8.2->pandas) (1.16.0)\n",
            "Note: you may need to restart the kernel to use updated packages.\n"
          ]
        }
      ],
      "source": [
        "%pip install pandas"
      ]
    },
    {
      "cell_type": "markdown",
      "metadata": {
        "id": "3h-ZSOYEEkJn"
      },
      "source": [
        "Faker comes with command line support, Pytest fixtures, Localization (support different regions), reproducibility, and dynamic provider (customizing it to your needs).\n",
        "You can also use Faker's basic functionalities to create a quick dataset and customize it to your needs. In the table below, you can check various Faker functions and the purpose.\n",
        "\n",
        "| Faker Function  | Purpose                                       |\n",
        "|-----------------|-----------------------------------------------|\n",
        "| name()          | Generates fake full name                      |\n",
        "| credit_card_full() | Generates credit card number with expiry and CVV |\n",
        "| email()         | Generates fake email address                   |\n",
        "| url()           | Generate fake URL                              |\n",
        "| phone_number()  | Generates fake phone number with country code  |\n",
        "| address()       | Generates fake full address                    |\n",
        "| license_plate() | Generates fake license plate                   |\n",
        "| currency()      | Generate tuple of currency code and full form  |\n",
        "| color_name()    | Generate random color name                     |\n",
        "| local_latlng()  | Generate latitude, longitude, area, country, and states |\n",
        "| domain_name()   | Generate the fake website based on fake person name |\n",
        "| text()          | Generate the fake small text                   |\n",
        "| company()       | Generate fake company name                     |\n",
        "\n",
        "\n",
        "\n",
        "\n"
      ]
    },
    {
      "cell_type": "markdown",
      "metadata": {
        "id": "YNE5BR4XEkJn"
      },
      "source": [
        "### Synthetic Data Simulation Examples\n",
        "In this section, we will use Python Faker to simulate synthetics data. It consists of an example of how you can use `Faker` for various tasks. The main goal is to develop a privacy-centric approach for testing systems.\n",
        "\n",
        "First, we will initiate a fake generator using `Faker()`. By default, it is using the `en_US` locale."
      ]
    },
    {
      "cell_type": "code",
      "execution_count": 39,
      "metadata": {
        "id": "2JuwNuY_EkJn"
      },
      "outputs": [],
      "source": [
        "from faker import Faker\n",
        "fake = Faker()"
      ]
    },
    {
      "cell_type": "markdown",
      "metadata": {
        "id": "ecgZbVOWEkJn"
      },
      "source": [
        "#### Example:\n",
        "In this example, we will create a pandas dataframe that contains fake data.\n",
        "\n",
        "- Create empty pandas dataframe (data)\n",
        "- Pass it through x number of loops to create multiple rows\n",
        "- Use  prebuilt  functions such as `random_int()`, `name()`, `address()`, `latitude()`, and `longitude()`  to generate the columns accordingley.\n",
        "- Use `uniform()` prebult random function to generate the `Weight` feature.\n",
        "- Run the `input_data()` function with n_rows=50"
      ]
    },
    {
      "cell_type": "code",
      "execution_count": 40,
      "metadata": {
        "colab": {
          "base_uri": "https://localhost:8080/",
          "height": 1000
        },
        "id": "nVYrwm2SEkJn",
        "outputId": "7909945f-69cb-4daf-88c0-8610564a50f3"
      },
      "outputs": [
        {
          "data": {
            "text/html": [
              "<div>\n",
              "<style scoped>\n",
              "    .dataframe tbody tr th:only-of-type {\n",
              "        vertical-align: middle;\n",
              "    }\n",
              "\n",
              "    .dataframe tbody tr th {\n",
              "        vertical-align: top;\n",
              "    }\n",
              "\n",
              "    .dataframe thead th {\n",
              "        text-align: right;\n",
              "    }\n",
              "</style>\n",
              "<table border=\"1\" class=\"dataframe\">\n",
              "  <thead>\n",
              "    <tr style=\"text-align: right;\">\n",
              "      <th></th>\n",
              "      <th>name</th>\n",
              "      <th>age</th>\n",
              "      <th>Weight</th>\n",
              "      <th>address</th>\n",
              "      <th>latitude</th>\n",
              "      <th>longitude</th>\n",
              "    </tr>\n",
              "  </thead>\n",
              "  <tbody>\n",
              "    <tr>\n",
              "      <th>0</th>\n",
              "      <td>Mr. Kenneth Nelson DDS</td>\n",
              "      <td>54.0</td>\n",
              "      <td>90.315173</td>\n",
              "      <td>70130 Cardenas Harbor\\nSouth Carrie, IL 21269</td>\n",
              "      <td>-61.507517</td>\n",
              "      <td>13.188232</td>\n",
              "    </tr>\n",
              "    <tr>\n",
              "      <th>1</th>\n",
              "      <td>Jose Galloway</td>\n",
              "      <td>22.0</td>\n",
              "      <td>74.461716</td>\n",
              "      <td>32318 Scott Green\\nBradleytown, TX 61438</td>\n",
              "      <td>-3.508911</td>\n",
              "      <td>-84.304923</td>\n",
              "    </tr>\n",
              "    <tr>\n",
              "      <th>2</th>\n",
              "      <td>William West</td>\n",
              "      <td>86.0</td>\n",
              "      <td>86.704599</td>\n",
              "      <td>PSC 7165, Box 3303\\nAPO AP 13929</td>\n",
              "      <td>-70.814421</td>\n",
              "      <td>-51.671150</td>\n",
              "    </tr>\n",
              "    <tr>\n",
              "      <th>3</th>\n",
              "      <td>Emily Barnett</td>\n",
              "      <td>77.0</td>\n",
              "      <td>69.751590</td>\n",
              "      <td>0918 Anthony Burg\\nSouth Benjamin, TX 57099</td>\n",
              "      <td>6.4207395</td>\n",
              "      <td>86.621561</td>\n",
              "    </tr>\n",
              "    <tr>\n",
              "      <th>4</th>\n",
              "      <td>Mrs. Janet Huerta</td>\n",
              "      <td>88.0</td>\n",
              "      <td>97.477017</td>\n",
              "      <td>0587 Mccann Ridges\\nEast Jessicabury, CO 97777</td>\n",
              "      <td>17.1150665</td>\n",
              "      <td>121.889438</td>\n",
              "    </tr>\n",
              "    <tr>\n",
              "      <th>5</th>\n",
              "      <td>Lisa Martinez</td>\n",
              "      <td>64.0</td>\n",
              "      <td>85.387806</td>\n",
              "      <td>USNV Taylor\\nFPO AA 57859</td>\n",
              "      <td>20.9840035</td>\n",
              "      <td>145.242075</td>\n",
              "    </tr>\n",
              "    <tr>\n",
              "      <th>6</th>\n",
              "      <td>Don Matthews</td>\n",
              "      <td>90.0</td>\n",
              "      <td>88.921106</td>\n",
              "      <td>10821 Hodges Corner\\nEast Laurenburgh, NE 90721</td>\n",
              "      <td>54.5742355</td>\n",
              "      <td>33.428243</td>\n",
              "    </tr>\n",
              "    <tr>\n",
              "      <th>7</th>\n",
              "      <td>Miguel Grant</td>\n",
              "      <td>27.0</td>\n",
              "      <td>94.905215</td>\n",
              "      <td>8616 Todd Ridges\\nSouth Lawrenceshire, WA 98821</td>\n",
              "      <td>-28.0587405</td>\n",
              "      <td>-43.991322</td>\n",
              "    </tr>\n",
              "    <tr>\n",
              "      <th>8</th>\n",
              "      <td>Sandra Hartman</td>\n",
              "      <td>87.0</td>\n",
              "      <td>93.748899</td>\n",
              "      <td>9625 James Prairie\\nPort Judithshire, AK 07050</td>\n",
              "      <td>71.6490465</td>\n",
              "      <td>40.265356</td>\n",
              "    </tr>\n",
              "    <tr>\n",
              "      <th>9</th>\n",
              "      <td>Peter Clark</td>\n",
              "      <td>88.0</td>\n",
              "      <td>94.529754</td>\n",
              "      <td>PSC 7368, Box 6968\\nAPO AE 67570</td>\n",
              "      <td>-44.932270</td>\n",
              "      <td>-58.386192</td>\n",
              "    </tr>\n",
              "    <tr>\n",
              "      <th>10</th>\n",
              "      <td>Pamela Riley</td>\n",
              "      <td>85.0</td>\n",
              "      <td>96.393970</td>\n",
              "      <td>05594 Duncan Burg\\nJonathanburgh, MP 60736</td>\n",
              "      <td>34.397731</td>\n",
              "      <td>43.236101</td>\n",
              "    </tr>\n",
              "    <tr>\n",
              "      <th>11</th>\n",
              "      <td>Brandy Huff</td>\n",
              "      <td>44.0</td>\n",
              "      <td>89.174652</td>\n",
              "      <td>91373 Shirley Drives Apt. 644\\nNorth Jane, IA ...</td>\n",
              "      <td>-9.0598265</td>\n",
              "      <td>13.353223</td>\n",
              "    </tr>\n",
              "    <tr>\n",
              "      <th>12</th>\n",
              "      <td>David Welch</td>\n",
              "      <td>69.0</td>\n",
              "      <td>79.335892</td>\n",
              "      <td>809 Blair Terrace Suite 930\\nNew Wendy, VA 59472</td>\n",
              "      <td>-51.2893515</td>\n",
              "      <td>176.507029</td>\n",
              "    </tr>\n",
              "    <tr>\n",
              "      <th>13</th>\n",
              "      <td>Jacob Farrell</td>\n",
              "      <td>38.0</td>\n",
              "      <td>87.633303</td>\n",
              "      <td>3907 Watkins Field\\nRaymondside, SC 06403</td>\n",
              "      <td>58.882469</td>\n",
              "      <td>-56.451073</td>\n",
              "    </tr>\n",
              "    <tr>\n",
              "      <th>14</th>\n",
              "      <td>Ashley Anderson</td>\n",
              "      <td>19.0</td>\n",
              "      <td>95.422840</td>\n",
              "      <td>859 Hebert Cliff Apt. 892\\nWest Christophersta...</td>\n",
              "      <td>29.948723</td>\n",
              "      <td>-28.240840</td>\n",
              "    </tr>\n",
              "    <tr>\n",
              "      <th>15</th>\n",
              "      <td>Miss Kimberly Young DVM</td>\n",
              "      <td>62.0</td>\n",
              "      <td>97.210058</td>\n",
              "      <td>Unit 6757 Box 2795\\nDPO AA 80839</td>\n",
              "      <td>18.3868325</td>\n",
              "      <td>-29.156457</td>\n",
              "    </tr>\n",
              "    <tr>\n",
              "      <th>16</th>\n",
              "      <td>Gregory Howell</td>\n",
              "      <td>67.0</td>\n",
              "      <td>71.268940</td>\n",
              "      <td>53194 Maurice Lock Apt. 977\\nSouth Maryfurt, M...</td>\n",
              "      <td>-23.2782425</td>\n",
              "      <td>-40.471417</td>\n",
              "    </tr>\n",
              "    <tr>\n",
              "      <th>17</th>\n",
              "      <td>Leah Morse</td>\n",
              "      <td>78.0</td>\n",
              "      <td>71.189104</td>\n",
              "      <td>0589 Bryan Shoal\\nHarringtonstad, WI 34460</td>\n",
              "      <td>51.079993</td>\n",
              "      <td>94.275340</td>\n",
              "    </tr>\n",
              "    <tr>\n",
              "      <th>18</th>\n",
              "      <td>Joseph Dyer</td>\n",
              "      <td>62.0</td>\n",
              "      <td>97.872641</td>\n",
              "      <td>3598 Hall Unions Apt. 221\\nTuckerland, OH 45465</td>\n",
              "      <td>49.2481795</td>\n",
              "      <td>150.436401</td>\n",
              "    </tr>\n",
              "    <tr>\n",
              "      <th>19</th>\n",
              "      <td>Gary Mcdonald</td>\n",
              "      <td>56.0</td>\n",
              "      <td>76.255512</td>\n",
              "      <td>918 Joshua Haven Suite 624\\nEast Tomfort, FL 9...</td>\n",
              "      <td>84.440905</td>\n",
              "      <td>132.652763</td>\n",
              "    </tr>\n",
              "    <tr>\n",
              "      <th>20</th>\n",
              "      <td>Michael Mitchell</td>\n",
              "      <td>58.0</td>\n",
              "      <td>78.901032</td>\n",
              "      <td>1826 Rodney Overpass\\nSouth Douglastown, IN 80474</td>\n",
              "      <td>-25.7922525</td>\n",
              "      <td>-27.535600</td>\n",
              "    </tr>\n",
              "    <tr>\n",
              "      <th>21</th>\n",
              "      <td>Steven Brown MD</td>\n",
              "      <td>55.0</td>\n",
              "      <td>84.886279</td>\n",
              "      <td>78276 Mcdaniel Ferry\\nKatherineview, VA 69725</td>\n",
              "      <td>48.540401</td>\n",
              "      <td>31.376657</td>\n",
              "    </tr>\n",
              "    <tr>\n",
              "      <th>22</th>\n",
              "      <td>Anna Lopez</td>\n",
              "      <td>70.0</td>\n",
              "      <td>90.302125</td>\n",
              "      <td>4283 May Isle Apt. 755\\nSouth Alice, SC 37947</td>\n",
              "      <td>4.036148</td>\n",
              "      <td>-131.188694</td>\n",
              "    </tr>\n",
              "    <tr>\n",
              "      <th>23</th>\n",
              "      <td>Vanessa Mathis</td>\n",
              "      <td>80.0</td>\n",
              "      <td>75.512807</td>\n",
              "      <td>0780 Phelps Park Suite 816\\nEast Dustinberg, I...</td>\n",
              "      <td>-36.6685795</td>\n",
              "      <td>-155.495798</td>\n",
              "    </tr>\n",
              "    <tr>\n",
              "      <th>24</th>\n",
              "      <td>Mrs. Susan Salazar</td>\n",
              "      <td>57.0</td>\n",
              "      <td>90.361753</td>\n",
              "      <td>74213 John Camp\\nPort Marcusmouth, FL 56233</td>\n",
              "      <td>77.140559</td>\n",
              "      <td>112.669253</td>\n",
              "    </tr>\n",
              "    <tr>\n",
              "      <th>25</th>\n",
              "      <td>Vicki Martin</td>\n",
              "      <td>26.0</td>\n",
              "      <td>72.704980</td>\n",
              "      <td>2166 Matthew Wall Apt. 308\\nChristopherland, N...</td>\n",
              "      <td>-30.2924695</td>\n",
              "      <td>-136.122162</td>\n",
              "    </tr>\n",
              "    <tr>\n",
              "      <th>26</th>\n",
              "      <td>Robert Hartman</td>\n",
              "      <td>97.0</td>\n",
              "      <td>98.280973</td>\n",
              "      <td>1947 Richard Lock Apt. 102\\nPort Larryshire, L...</td>\n",
              "      <td>-18.4574395</td>\n",
              "      <td>97.392960</td>\n",
              "    </tr>\n",
              "    <tr>\n",
              "      <th>27</th>\n",
              "      <td>Joseph Baker</td>\n",
              "      <td>100.0</td>\n",
              "      <td>66.706114</td>\n",
              "      <td>642 Christopher Forest\\nRyanhaven, NJ 79042</td>\n",
              "      <td>59.589241</td>\n",
              "      <td>163.639728</td>\n",
              "    </tr>\n",
              "    <tr>\n",
              "      <th>28</th>\n",
              "      <td>Frederick Crawford</td>\n",
              "      <td>28.0</td>\n",
              "      <td>98.322678</td>\n",
              "      <td>080 Dean Park\\nNorth Peter, VI 53363</td>\n",
              "      <td>-26.4300875</td>\n",
              "      <td>99.718663</td>\n",
              "    </tr>\n",
              "    <tr>\n",
              "      <th>29</th>\n",
              "      <td>Matthew Rivera</td>\n",
              "      <td>55.0</td>\n",
              "      <td>96.599398</td>\n",
              "      <td>4112 Carter Walks\\nCoxfort, MS 05257</td>\n",
              "      <td>-18.2677965</td>\n",
              "      <td>-135.485807</td>\n",
              "    </tr>\n",
              "    <tr>\n",
              "      <th>30</th>\n",
              "      <td>Christopher Newman</td>\n",
              "      <td>62.0</td>\n",
              "      <td>72.788427</td>\n",
              "      <td>57802 Shepherd Port\\nMcdonaldberg, ID 34145</td>\n",
              "      <td>-68.691701</td>\n",
              "      <td>-159.811703</td>\n",
              "    </tr>\n",
              "    <tr>\n",
              "      <th>31</th>\n",
              "      <td>Emily Norris</td>\n",
              "      <td>28.0</td>\n",
              "      <td>98.094384</td>\n",
              "      <td>496 Jennifer Mews\\nWest Meganborough, FM 30972</td>\n",
              "      <td>-57.740100</td>\n",
              "      <td>17.788442</td>\n",
              "    </tr>\n",
              "    <tr>\n",
              "      <th>32</th>\n",
              "      <td>Richard Hernandez</td>\n",
              "      <td>90.0</td>\n",
              "      <td>96.306730</td>\n",
              "      <td>90583 Lisa Freeway Suite 226\\nPort Angelaport,...</td>\n",
              "      <td>-20.6251625</td>\n",
              "      <td>117.570612</td>\n",
              "    </tr>\n",
              "    <tr>\n",
              "      <th>33</th>\n",
              "      <td>Jessica Gibson</td>\n",
              "      <td>51.0</td>\n",
              "      <td>66.899388</td>\n",
              "      <td>49128 Melinda Cape\\nEast Kendra, VI 03207</td>\n",
              "      <td>61.6867465</td>\n",
              "      <td>-115.993280</td>\n",
              "    </tr>\n",
              "    <tr>\n",
              "      <th>34</th>\n",
              "      <td>Mary Marshall</td>\n",
              "      <td>61.0</td>\n",
              "      <td>88.966015</td>\n",
              "      <td>9067 Micheal Courts Apt. 254\\nSanchezport, SC ...</td>\n",
              "      <td>58.8160415</td>\n",
              "      <td>109.164201</td>\n",
              "    </tr>\n",
              "    <tr>\n",
              "      <th>35</th>\n",
              "      <td>Molly Anderson</td>\n",
              "      <td>55.0</td>\n",
              "      <td>74.143450</td>\n",
              "      <td>84640 Simmons Mountain\\nNew Kathyburgh, NH 52117</td>\n",
              "      <td>34.848539</td>\n",
              "      <td>11.425728</td>\n",
              "    </tr>\n",
              "    <tr>\n",
              "      <th>36</th>\n",
              "      <td>Kayla Garcia</td>\n",
              "      <td>50.0</td>\n",
              "      <td>77.123120</td>\n",
              "      <td>60785 Santos Haven\\nShannontown, WV 37395</td>\n",
              "      <td>-78.8546545</td>\n",
              "      <td>-53.869138</td>\n",
              "    </tr>\n",
              "    <tr>\n",
              "      <th>37</th>\n",
              "      <td>Jennifer Mcdaniel</td>\n",
              "      <td>85.0</td>\n",
              "      <td>97.230600</td>\n",
              "      <td>9756 Kirk Lakes\\nCollinston, GA 92413</td>\n",
              "      <td>-28.460933</td>\n",
              "      <td>34.091444</td>\n",
              "    </tr>\n",
              "    <tr>\n",
              "      <th>38</th>\n",
              "      <td>Brittney Doyle</td>\n",
              "      <td>85.0</td>\n",
              "      <td>73.393229</td>\n",
              "      <td>5893 Armstrong Orchard Suite 928\\nMichaeltown,...</td>\n",
              "      <td>-46.237658</td>\n",
              "      <td>43.446403</td>\n",
              "    </tr>\n",
              "    <tr>\n",
              "      <th>39</th>\n",
              "      <td>Ryan Rodriguez</td>\n",
              "      <td>55.0</td>\n",
              "      <td>85.847571</td>\n",
              "      <td>53838 Dylan Village\\nLeahport, MO 91216</td>\n",
              "      <td>-7.349841</td>\n",
              "      <td>-150.955997</td>\n",
              "    </tr>\n",
              "    <tr>\n",
              "      <th>40</th>\n",
              "      <td>Mr. Michael Oneill MD</td>\n",
              "      <td>55.0</td>\n",
              "      <td>74.731261</td>\n",
              "      <td>33318 Harris Spring Suite 770\\nPort Kimberly, ...</td>\n",
              "      <td>85.635178</td>\n",
              "      <td>-103.801624</td>\n",
              "    </tr>\n",
              "    <tr>\n",
              "      <th>41</th>\n",
              "      <td>Zachary Parker</td>\n",
              "      <td>50.0</td>\n",
              "      <td>94.472360</td>\n",
              "      <td>7509 Robert Fork Apt. 837\\nLake Danielview, OR...</td>\n",
              "      <td>40.8212385</td>\n",
              "      <td>-178.132769</td>\n",
              "    </tr>\n",
              "    <tr>\n",
              "      <th>42</th>\n",
              "      <td>Timothy Kelly</td>\n",
              "      <td>74.0</td>\n",
              "      <td>86.276623</td>\n",
              "      <td>11379 Sanchez Forge Apt. 203\\nNorth James, NH ...</td>\n",
              "      <td>-87.2612005</td>\n",
              "      <td>-158.453073</td>\n",
              "    </tr>\n",
              "    <tr>\n",
              "      <th>43</th>\n",
              "      <td>Alice Lam</td>\n",
              "      <td>35.0</td>\n",
              "      <td>61.393508</td>\n",
              "      <td>82065 Brianna Terrace Suite 162\\nBrandtburgh, ...</td>\n",
              "      <td>-5.403453</td>\n",
              "      <td>149.554314</td>\n",
              "    </tr>\n",
              "    <tr>\n",
              "      <th>44</th>\n",
              "      <td>Victoria Sanchez</td>\n",
              "      <td>64.0</td>\n",
              "      <td>89.872345</td>\n",
              "      <td>605 Mathew Point\\nPort Megantown, VT 45515</td>\n",
              "      <td>-43.867785</td>\n",
              "      <td>-90.695345</td>\n",
              "    </tr>\n",
              "    <tr>\n",
              "      <th>45</th>\n",
              "      <td>Leonard Pineda</td>\n",
              "      <td>23.0</td>\n",
              "      <td>95.856308</td>\n",
              "      <td>98404 Ryan Parkway Suite 242\\nWest Stevenville...</td>\n",
              "      <td>-4.464578</td>\n",
              "      <td>152.499689</td>\n",
              "    </tr>\n",
              "    <tr>\n",
              "      <th>46</th>\n",
              "      <td>Bethany Hurley</td>\n",
              "      <td>83.0</td>\n",
              "      <td>60.514559</td>\n",
              "      <td>22885 Phillip Forest\\nJulieborough, AR 44440</td>\n",
              "      <td>14.2121795</td>\n",
              "      <td>32.491749</td>\n",
              "    </tr>\n",
              "    <tr>\n",
              "      <th>47</th>\n",
              "      <td>Billy Walker</td>\n",
              "      <td>54.0</td>\n",
              "      <td>79.225071</td>\n",
              "      <td>1979 Veronica Ports\\nWest Janiceside, KY 34590</td>\n",
              "      <td>-36.031088</td>\n",
              "      <td>117.217279</td>\n",
              "    </tr>\n",
              "    <tr>\n",
              "      <th>48</th>\n",
              "      <td>Robert Wright</td>\n",
              "      <td>85.0</td>\n",
              "      <td>91.879990</td>\n",
              "      <td>7046 Anita Rapids Suite 835\\nWest Susan, OK 17144</td>\n",
              "      <td>-30.1767335</td>\n",
              "      <td>-27.634306</td>\n",
              "    </tr>\n",
              "    <tr>\n",
              "      <th>49</th>\n",
              "      <td>Andrew Meyers</td>\n",
              "      <td>73.0</td>\n",
              "      <td>93.914375</td>\n",
              "      <td>958 Solomon Pines Apt. 605\\nRobinfort, NH 67732</td>\n",
              "      <td>-58.8690145</td>\n",
              "      <td>-15.473233</td>\n",
              "    </tr>\n",
              "  </tbody>\n",
              "</table>\n",
              "</div>"
            ],
            "text/plain": [
              "                       name    age     Weight  \\\n",
              "0    Mr. Kenneth Nelson DDS   54.0  90.315173   \n",
              "1             Jose Galloway   22.0  74.461716   \n",
              "2              William West   86.0  86.704599   \n",
              "3             Emily Barnett   77.0  69.751590   \n",
              "4         Mrs. Janet Huerta   88.0  97.477017   \n",
              "5             Lisa Martinez   64.0  85.387806   \n",
              "6              Don Matthews   90.0  88.921106   \n",
              "7              Miguel Grant   27.0  94.905215   \n",
              "8            Sandra Hartman   87.0  93.748899   \n",
              "9               Peter Clark   88.0  94.529754   \n",
              "10             Pamela Riley   85.0  96.393970   \n",
              "11              Brandy Huff   44.0  89.174652   \n",
              "12              David Welch   69.0  79.335892   \n",
              "13            Jacob Farrell   38.0  87.633303   \n",
              "14          Ashley Anderson   19.0  95.422840   \n",
              "15  Miss Kimberly Young DVM   62.0  97.210058   \n",
              "16           Gregory Howell   67.0  71.268940   \n",
              "17               Leah Morse   78.0  71.189104   \n",
              "18              Joseph Dyer   62.0  97.872641   \n",
              "19            Gary Mcdonald   56.0  76.255512   \n",
              "20         Michael Mitchell   58.0  78.901032   \n",
              "21          Steven Brown MD   55.0  84.886279   \n",
              "22               Anna Lopez   70.0  90.302125   \n",
              "23           Vanessa Mathis   80.0  75.512807   \n",
              "24       Mrs. Susan Salazar   57.0  90.361753   \n",
              "25             Vicki Martin   26.0  72.704980   \n",
              "26           Robert Hartman   97.0  98.280973   \n",
              "27             Joseph Baker  100.0  66.706114   \n",
              "28       Frederick Crawford   28.0  98.322678   \n",
              "29           Matthew Rivera   55.0  96.599398   \n",
              "30       Christopher Newman   62.0  72.788427   \n",
              "31             Emily Norris   28.0  98.094384   \n",
              "32        Richard Hernandez   90.0  96.306730   \n",
              "33           Jessica Gibson   51.0  66.899388   \n",
              "34            Mary Marshall   61.0  88.966015   \n",
              "35           Molly Anderson   55.0  74.143450   \n",
              "36             Kayla Garcia   50.0  77.123120   \n",
              "37        Jennifer Mcdaniel   85.0  97.230600   \n",
              "38           Brittney Doyle   85.0  73.393229   \n",
              "39           Ryan Rodriguez   55.0  85.847571   \n",
              "40    Mr. Michael Oneill MD   55.0  74.731261   \n",
              "41           Zachary Parker   50.0  94.472360   \n",
              "42            Timothy Kelly   74.0  86.276623   \n",
              "43                Alice Lam   35.0  61.393508   \n",
              "44         Victoria Sanchez   64.0  89.872345   \n",
              "45           Leonard Pineda   23.0  95.856308   \n",
              "46           Bethany Hurley   83.0  60.514559   \n",
              "47             Billy Walker   54.0  79.225071   \n",
              "48            Robert Wright   85.0  91.879990   \n",
              "49            Andrew Meyers   73.0  93.914375   \n",
              "\n",
              "                                              address     latitude  \\\n",
              "0       70130 Cardenas Harbor\\nSouth Carrie, IL 21269   -61.507517   \n",
              "1            32318 Scott Green\\nBradleytown, TX 61438    -3.508911   \n",
              "2                    PSC 7165, Box 3303\\nAPO AP 13929   -70.814421   \n",
              "3         0918 Anthony Burg\\nSouth Benjamin, TX 57099    6.4207395   \n",
              "4      0587 Mccann Ridges\\nEast Jessicabury, CO 97777   17.1150665   \n",
              "5                           USNV Taylor\\nFPO AA 57859   20.9840035   \n",
              "6     10821 Hodges Corner\\nEast Laurenburgh, NE 90721   54.5742355   \n",
              "7     8616 Todd Ridges\\nSouth Lawrenceshire, WA 98821  -28.0587405   \n",
              "8      9625 James Prairie\\nPort Judithshire, AK 07050   71.6490465   \n",
              "9                    PSC 7368, Box 6968\\nAPO AE 67570   -44.932270   \n",
              "10         05594 Duncan Burg\\nJonathanburgh, MP 60736    34.397731   \n",
              "11  91373 Shirley Drives Apt. 644\\nNorth Jane, IA ...   -9.0598265   \n",
              "12   809 Blair Terrace Suite 930\\nNew Wendy, VA 59472  -51.2893515   \n",
              "13          3907 Watkins Field\\nRaymondside, SC 06403    58.882469   \n",
              "14  859 Hebert Cliff Apt. 892\\nWest Christophersta...    29.948723   \n",
              "15                   Unit 6757 Box 2795\\nDPO AA 80839   18.3868325   \n",
              "16  53194 Maurice Lock Apt. 977\\nSouth Maryfurt, M...  -23.2782425   \n",
              "17         0589 Bryan Shoal\\nHarringtonstad, WI 34460    51.079993   \n",
              "18    3598 Hall Unions Apt. 221\\nTuckerland, OH 45465   49.2481795   \n",
              "19  918 Joshua Haven Suite 624\\nEast Tomfort, FL 9...    84.440905   \n",
              "20  1826 Rodney Overpass\\nSouth Douglastown, IN 80474  -25.7922525   \n",
              "21      78276 Mcdaniel Ferry\\nKatherineview, VA 69725    48.540401   \n",
              "22      4283 May Isle Apt. 755\\nSouth Alice, SC 37947     4.036148   \n",
              "23  0780 Phelps Park Suite 816\\nEast Dustinberg, I...  -36.6685795   \n",
              "24        74213 John Camp\\nPort Marcusmouth, FL 56233    77.140559   \n",
              "25  2166 Matthew Wall Apt. 308\\nChristopherland, N...  -30.2924695   \n",
              "26  1947 Richard Lock Apt. 102\\nPort Larryshire, L...  -18.4574395   \n",
              "27        642 Christopher Forest\\nRyanhaven, NJ 79042    59.589241   \n",
              "28               080 Dean Park\\nNorth Peter, VI 53363  -26.4300875   \n",
              "29               4112 Carter Walks\\nCoxfort, MS 05257  -18.2677965   \n",
              "30        57802 Shepherd Port\\nMcdonaldberg, ID 34145   -68.691701   \n",
              "31     496 Jennifer Mews\\nWest Meganborough, FM 30972   -57.740100   \n",
              "32  90583 Lisa Freeway Suite 226\\nPort Angelaport,...  -20.6251625   \n",
              "33          49128 Melinda Cape\\nEast Kendra, VI 03207   61.6867465   \n",
              "34  9067 Micheal Courts Apt. 254\\nSanchezport, SC ...   58.8160415   \n",
              "35   84640 Simmons Mountain\\nNew Kathyburgh, NH 52117    34.848539   \n",
              "36          60785 Santos Haven\\nShannontown, WV 37395  -78.8546545   \n",
              "37              9756 Kirk Lakes\\nCollinston, GA 92413   -28.460933   \n",
              "38  5893 Armstrong Orchard Suite 928\\nMichaeltown,...   -46.237658   \n",
              "39            53838 Dylan Village\\nLeahport, MO 91216    -7.349841   \n",
              "40  33318 Harris Spring Suite 770\\nPort Kimberly, ...    85.635178   \n",
              "41  7509 Robert Fork Apt. 837\\nLake Danielview, OR...   40.8212385   \n",
              "42  11379 Sanchez Forge Apt. 203\\nNorth James, NH ...  -87.2612005   \n",
              "43  82065 Brianna Terrace Suite 162\\nBrandtburgh, ...    -5.403453   \n",
              "44         605 Mathew Point\\nPort Megantown, VT 45515   -43.867785   \n",
              "45  98404 Ryan Parkway Suite 242\\nWest Stevenville...    -4.464578   \n",
              "46       22885 Phillip Forest\\nJulieborough, AR 44440   14.2121795   \n",
              "47     1979 Veronica Ports\\nWest Janiceside, KY 34590   -36.031088   \n",
              "48  7046 Anita Rapids Suite 835\\nWest Susan, OK 17144  -30.1767335   \n",
              "49    958 Solomon Pines Apt. 605\\nRobinfort, NH 67732  -58.8690145   \n",
              "\n",
              "      longitude  \n",
              "0     13.188232  \n",
              "1    -84.304923  \n",
              "2    -51.671150  \n",
              "3     86.621561  \n",
              "4    121.889438  \n",
              "5    145.242075  \n",
              "6     33.428243  \n",
              "7    -43.991322  \n",
              "8     40.265356  \n",
              "9    -58.386192  \n",
              "10    43.236101  \n",
              "11    13.353223  \n",
              "12   176.507029  \n",
              "13   -56.451073  \n",
              "14   -28.240840  \n",
              "15   -29.156457  \n",
              "16   -40.471417  \n",
              "17    94.275340  \n",
              "18   150.436401  \n",
              "19   132.652763  \n",
              "20   -27.535600  \n",
              "21    31.376657  \n",
              "22  -131.188694  \n",
              "23  -155.495798  \n",
              "24   112.669253  \n",
              "25  -136.122162  \n",
              "26    97.392960  \n",
              "27   163.639728  \n",
              "28    99.718663  \n",
              "29  -135.485807  \n",
              "30  -159.811703  \n",
              "31    17.788442  \n",
              "32   117.570612  \n",
              "33  -115.993280  \n",
              "34   109.164201  \n",
              "35    11.425728  \n",
              "36   -53.869138  \n",
              "37    34.091444  \n",
              "38    43.446403  \n",
              "39  -150.955997  \n",
              "40  -103.801624  \n",
              "41  -178.132769  \n",
              "42  -158.453073  \n",
              "43   149.554314  \n",
              "44   -90.695345  \n",
              "45   152.499689  \n",
              "46    32.491749  \n",
              "47   117.217279  \n",
              "48   -27.634306  \n",
              "49   -15.473233  "
            ]
          },
          "execution_count": 40,
          "metadata": {},
          "output_type": "execute_result"
        }
      ],
      "source": [
        "from random import randint\n",
        "import pandas as pd\n",
        "import random\n",
        "from faker import Faker\n",
        "\n",
        "fake = Faker()\n",
        "\n",
        "def input_data(n_rows):\n",
        "\n",
        "    # pandas dataframe\n",
        "    data = pd.DataFrame()\n",
        "    for i in range(0, n_rows):\n",
        "        data.loc[i,'name']= fake.name()\n",
        "        data.loc[i,'age']= fake.random_int(18, 100)\n",
        "        data.loc[i,'Weight']= random.uniform(60, 100)\n",
        "        data.loc[i,'address']= fake.address()\n",
        "        data.loc[i,'latitude']= str(fake.latitude())\n",
        "        data.loc[i,'longitude']= str(fake.longitude())\n",
        "    return data\n",
        "\n",
        "\n",
        "data = input_data(50)\n",
        "data"
      ]
    },
    {
      "cell_type": "markdown",
      "metadata": {
        "id": "G8wFFbqDEkJn"
      },
      "source": [
        "### Challenge 9:\n",
        "Update the  example above so that you:\n",
        "- Generate a `height` feature following a gaussian distribution of with mu=180 cm and a std_deviation=15.5 cm.\n",
        "- Generate a `bmi` feature where bmi = Weight / (height (in meter) **2)."
      ]
    },
    {
      "cell_type": "code",
      "execution_count": 41,
      "metadata": {
        "id": "jWlh8FjvEkJn"
      },
      "outputs": [
        {
          "data": {
            "text/html": [
              "<div>\n",
              "<style scoped>\n",
              "    .dataframe tbody tr th:only-of-type {\n",
              "        vertical-align: middle;\n",
              "    }\n",
              "\n",
              "    .dataframe tbody tr th {\n",
              "        vertical-align: top;\n",
              "    }\n",
              "\n",
              "    .dataframe thead th {\n",
              "        text-align: right;\n",
              "    }\n",
              "</style>\n",
              "<table border=\"1\" class=\"dataframe\">\n",
              "  <thead>\n",
              "    <tr style=\"text-align: right;\">\n",
              "      <th></th>\n",
              "      <th>name</th>\n",
              "      <th>age</th>\n",
              "      <th>Weight</th>\n",
              "      <th>address</th>\n",
              "      <th>latitude</th>\n",
              "      <th>longitude</th>\n",
              "      <th>height</th>\n",
              "      <th>bmi</th>\n",
              "    </tr>\n",
              "  </thead>\n",
              "  <tbody>\n",
              "    <tr>\n",
              "      <th>0</th>\n",
              "      <td>Mr. Kenneth Nelson DDS</td>\n",
              "      <td>54.0</td>\n",
              "      <td>90.315173</td>\n",
              "      <td>70130 Cardenas Harbor\\nSouth Carrie, IL 21269</td>\n",
              "      <td>-61.507517</td>\n",
              "      <td>13.188232</td>\n",
              "      <td>164.691718</td>\n",
              "      <td>33.297927</td>\n",
              "    </tr>\n",
              "    <tr>\n",
              "      <th>1</th>\n",
              "      <td>Jose Galloway</td>\n",
              "      <td>22.0</td>\n",
              "      <td>74.461716</td>\n",
              "      <td>32318 Scott Green\\nBradleytown, TX 61438</td>\n",
              "      <td>-3.508911</td>\n",
              "      <td>-84.304923</td>\n",
              "      <td>191.573672</td>\n",
              "      <td>20.289035</td>\n",
              "    </tr>\n",
              "    <tr>\n",
              "      <th>2</th>\n",
              "      <td>William West</td>\n",
              "      <td>86.0</td>\n",
              "      <td>86.704599</td>\n",
              "      <td>PSC 7165, Box 3303\\nAPO AP 13929</td>\n",
              "      <td>-70.814421</td>\n",
              "      <td>-51.671150</td>\n",
              "      <td>162.122016</td>\n",
              "      <td>32.988164</td>\n",
              "    </tr>\n",
              "    <tr>\n",
              "      <th>3</th>\n",
              "      <td>Emily Barnett</td>\n",
              "      <td>77.0</td>\n",
              "      <td>69.751590</td>\n",
              "      <td>0918 Anthony Burg\\nSouth Benjamin, TX 57099</td>\n",
              "      <td>6.4207395</td>\n",
              "      <td>86.621561</td>\n",
              "      <td>201.120635</td>\n",
              "      <td>17.244113</td>\n",
              "    </tr>\n",
              "    <tr>\n",
              "      <th>4</th>\n",
              "      <td>Mrs. Janet Huerta</td>\n",
              "      <td>88.0</td>\n",
              "      <td>97.477017</td>\n",
              "      <td>0587 Mccann Ridges\\nEast Jessicabury, CO 97777</td>\n",
              "      <td>17.1150665</td>\n",
              "      <td>121.889438</td>\n",
              "      <td>178.292121</td>\n",
              "      <td>30.664644</td>\n",
              "    </tr>\n",
              "    <tr>\n",
              "      <th>5</th>\n",
              "      <td>Lisa Martinez</td>\n",
              "      <td>64.0</td>\n",
              "      <td>85.387806</td>\n",
              "      <td>USNV Taylor\\nFPO AA 57859</td>\n",
              "      <td>20.9840035</td>\n",
              "      <td>145.242075</td>\n",
              "      <td>177.231469</td>\n",
              "      <td>27.184051</td>\n",
              "    </tr>\n",
              "    <tr>\n",
              "      <th>6</th>\n",
              "      <td>Don Matthews</td>\n",
              "      <td>90.0</td>\n",
              "      <td>88.921106</td>\n",
              "      <td>10821 Hodges Corner\\nEast Laurenburgh, NE 90721</td>\n",
              "      <td>54.5742355</td>\n",
              "      <td>33.428243</td>\n",
              "      <td>182.163228</td>\n",
              "      <td>26.796830</td>\n",
              "    </tr>\n",
              "    <tr>\n",
              "      <th>7</th>\n",
              "      <td>Miguel Grant</td>\n",
              "      <td>27.0</td>\n",
              "      <td>94.905215</td>\n",
              "      <td>8616 Todd Ridges\\nSouth Lawrenceshire, WA 98821</td>\n",
              "      <td>-28.0587405</td>\n",
              "      <td>-43.991322</td>\n",
              "      <td>158.838179</td>\n",
              "      <td>37.616664</td>\n",
              "    </tr>\n",
              "    <tr>\n",
              "      <th>8</th>\n",
              "      <td>Sandra Hartman</td>\n",
              "      <td>87.0</td>\n",
              "      <td>93.748899</td>\n",
              "      <td>9625 James Prairie\\nPort Judithshire, AK 07050</td>\n",
              "      <td>71.6490465</td>\n",
              "      <td>40.265356</td>\n",
              "      <td>170.938761</td>\n",
              "      <td>32.083746</td>\n",
              "    </tr>\n",
              "    <tr>\n",
              "      <th>9</th>\n",
              "      <td>Peter Clark</td>\n",
              "      <td>88.0</td>\n",
              "      <td>94.529754</td>\n",
              "      <td>PSC 7368, Box 6968\\nAPO AE 67570</td>\n",
              "      <td>-44.932270</td>\n",
              "      <td>-58.386192</td>\n",
              "      <td>173.472212</td>\n",
              "      <td>31.412948</td>\n",
              "    </tr>\n",
              "    <tr>\n",
              "      <th>10</th>\n",
              "      <td>Pamela Riley</td>\n",
              "      <td>85.0</td>\n",
              "      <td>96.393970</td>\n",
              "      <td>05594 Duncan Burg\\nJonathanburgh, MP 60736</td>\n",
              "      <td>34.397731</td>\n",
              "      <td>43.236101</td>\n",
              "      <td>181.527959</td>\n",
              "      <td>29.252489</td>\n",
              "    </tr>\n",
              "    <tr>\n",
              "      <th>11</th>\n",
              "      <td>Brandy Huff</td>\n",
              "      <td>44.0</td>\n",
              "      <td>89.174652</td>\n",
              "      <td>91373 Shirley Drives Apt. 644\\nNorth Jane, IA ...</td>\n",
              "      <td>-9.0598265</td>\n",
              "      <td>13.353223</td>\n",
              "      <td>210.643434</td>\n",
              "      <td>20.097664</td>\n",
              "    </tr>\n",
              "    <tr>\n",
              "      <th>12</th>\n",
              "      <td>David Welch</td>\n",
              "      <td>69.0</td>\n",
              "      <td>79.335892</td>\n",
              "      <td>809 Blair Terrace Suite 930\\nNew Wendy, VA 59472</td>\n",
              "      <td>-51.2893515</td>\n",
              "      <td>176.507029</td>\n",
              "      <td>184.262048</td>\n",
              "      <td>23.366729</td>\n",
              "    </tr>\n",
              "    <tr>\n",
              "      <th>13</th>\n",
              "      <td>Jacob Farrell</td>\n",
              "      <td>38.0</td>\n",
              "      <td>87.633303</td>\n",
              "      <td>3907 Watkins Field\\nRaymondside, SC 06403</td>\n",
              "      <td>58.882469</td>\n",
              "      <td>-56.451073</td>\n",
              "      <td>202.548239</td>\n",
              "      <td>21.360540</td>\n",
              "    </tr>\n",
              "    <tr>\n",
              "      <th>14</th>\n",
              "      <td>Ashley Anderson</td>\n",
              "      <td>19.0</td>\n",
              "      <td>95.422840</td>\n",
              "      <td>859 Hebert Cliff Apt. 892\\nWest Christophersta...</td>\n",
              "      <td>29.948723</td>\n",
              "      <td>-28.240840</td>\n",
              "      <td>192.116604</td>\n",
              "      <td>25.853690</td>\n",
              "    </tr>\n",
              "    <tr>\n",
              "      <th>15</th>\n",
              "      <td>Miss Kimberly Young DVM</td>\n",
              "      <td>62.0</td>\n",
              "      <td>97.210058</td>\n",
              "      <td>Unit 6757 Box 2795\\nDPO AA 80839</td>\n",
              "      <td>18.3868325</td>\n",
              "      <td>-29.156457</td>\n",
              "      <td>162.904237</td>\n",
              "      <td>36.630804</td>\n",
              "    </tr>\n",
              "    <tr>\n",
              "      <th>16</th>\n",
              "      <td>Gregory Howell</td>\n",
              "      <td>67.0</td>\n",
              "      <td>71.268940</td>\n",
              "      <td>53194 Maurice Lock Apt. 977\\nSouth Maryfurt, M...</td>\n",
              "      <td>-23.2782425</td>\n",
              "      <td>-40.471417</td>\n",
              "      <td>180.372025</td>\n",
              "      <td>21.905942</td>\n",
              "    </tr>\n",
              "    <tr>\n",
              "      <th>17</th>\n",
              "      <td>Leah Morse</td>\n",
              "      <td>78.0</td>\n",
              "      <td>71.189104</td>\n",
              "      <td>0589 Bryan Shoal\\nHarringtonstad, WI 34460</td>\n",
              "      <td>51.079993</td>\n",
              "      <td>94.275340</td>\n",
              "      <td>192.444340</td>\n",
              "      <td>19.222207</td>\n",
              "    </tr>\n",
              "    <tr>\n",
              "      <th>18</th>\n",
              "      <td>Joseph Dyer</td>\n",
              "      <td>62.0</td>\n",
              "      <td>97.872641</td>\n",
              "      <td>3598 Hall Unions Apt. 221\\nTuckerland, OH 45465</td>\n",
              "      <td>49.2481795</td>\n",
              "      <td>150.436401</td>\n",
              "      <td>168.573257</td>\n",
              "      <td>34.441650</td>\n",
              "    </tr>\n",
              "    <tr>\n",
              "      <th>19</th>\n",
              "      <td>Gary Mcdonald</td>\n",
              "      <td>56.0</td>\n",
              "      <td>76.255512</td>\n",
              "      <td>918 Joshua Haven Suite 624\\nEast Tomfort, FL 9...</td>\n",
              "      <td>84.440905</td>\n",
              "      <td>132.652763</td>\n",
              "      <td>185.193028</td>\n",
              "      <td>22.234224</td>\n",
              "    </tr>\n",
              "    <tr>\n",
              "      <th>20</th>\n",
              "      <td>Michael Mitchell</td>\n",
              "      <td>58.0</td>\n",
              "      <td>78.901032</td>\n",
              "      <td>1826 Rodney Overpass\\nSouth Douglastown, IN 80474</td>\n",
              "      <td>-25.7922525</td>\n",
              "      <td>-27.535600</td>\n",
              "      <td>181.043957</td>\n",
              "      <td>24.072135</td>\n",
              "    </tr>\n",
              "    <tr>\n",
              "      <th>21</th>\n",
              "      <td>Steven Brown MD</td>\n",
              "      <td>55.0</td>\n",
              "      <td>84.886279</td>\n",
              "      <td>78276 Mcdaniel Ferry\\nKatherineview, VA 69725</td>\n",
              "      <td>48.540401</td>\n",
              "      <td>31.376657</td>\n",
              "      <td>201.504403</td>\n",
              "      <td>20.905878</td>\n",
              "    </tr>\n",
              "    <tr>\n",
              "      <th>22</th>\n",
              "      <td>Anna Lopez</td>\n",
              "      <td>70.0</td>\n",
              "      <td>90.302125</td>\n",
              "      <td>4283 May Isle Apt. 755\\nSouth Alice, SC 37947</td>\n",
              "      <td>4.036148</td>\n",
              "      <td>-131.188694</td>\n",
              "      <td>196.682015</td>\n",
              "      <td>23.343645</td>\n",
              "    </tr>\n",
              "    <tr>\n",
              "      <th>23</th>\n",
              "      <td>Vanessa Mathis</td>\n",
              "      <td>80.0</td>\n",
              "      <td>75.512807</td>\n",
              "      <td>0780 Phelps Park Suite 816\\nEast Dustinberg, I...</td>\n",
              "      <td>-36.6685795</td>\n",
              "      <td>-155.495798</td>\n",
              "      <td>183.187206</td>\n",
              "      <td>22.502478</td>\n",
              "    </tr>\n",
              "    <tr>\n",
              "      <th>24</th>\n",
              "      <td>Mrs. Susan Salazar</td>\n",
              "      <td>57.0</td>\n",
              "      <td>90.361753</td>\n",
              "      <td>74213 John Camp\\nPort Marcusmouth, FL 56233</td>\n",
              "      <td>77.140559</td>\n",
              "      <td>112.669253</td>\n",
              "      <td>164.911918</td>\n",
              "      <td>33.226191</td>\n",
              "    </tr>\n",
              "    <tr>\n",
              "      <th>25</th>\n",
              "      <td>Vicki Martin</td>\n",
              "      <td>26.0</td>\n",
              "      <td>72.704980</td>\n",
              "      <td>2166 Matthew Wall Apt. 308\\nChristopherland, N...</td>\n",
              "      <td>-30.2924695</td>\n",
              "      <td>-136.122162</td>\n",
              "      <td>182.531045</td>\n",
              "      <td>21.821805</td>\n",
              "    </tr>\n",
              "    <tr>\n",
              "      <th>26</th>\n",
              "      <td>Robert Hartman</td>\n",
              "      <td>97.0</td>\n",
              "      <td>98.280973</td>\n",
              "      <td>1947 Richard Lock Apt. 102\\nPort Larryshire, L...</td>\n",
              "      <td>-18.4574395</td>\n",
              "      <td>97.392960</td>\n",
              "      <td>178.355331</td>\n",
              "      <td>30.895644</td>\n",
              "    </tr>\n",
              "    <tr>\n",
              "      <th>27</th>\n",
              "      <td>Joseph Baker</td>\n",
              "      <td>100.0</td>\n",
              "      <td>66.706114</td>\n",
              "      <td>642 Christopher Forest\\nRyanhaven, NJ 79042</td>\n",
              "      <td>59.589241</td>\n",
              "      <td>163.639728</td>\n",
              "      <td>149.101569</td>\n",
              "      <td>30.005524</td>\n",
              "    </tr>\n",
              "    <tr>\n",
              "      <th>28</th>\n",
              "      <td>Frederick Crawford</td>\n",
              "      <td>28.0</td>\n",
              "      <td>98.322678</td>\n",
              "      <td>080 Dean Park\\nNorth Peter, VI 53363</td>\n",
              "      <td>-26.4300875</td>\n",
              "      <td>99.718663</td>\n",
              "      <td>205.993979</td>\n",
              "      <td>23.170993</td>\n",
              "    </tr>\n",
              "    <tr>\n",
              "      <th>29</th>\n",
              "      <td>Matthew Rivera</td>\n",
              "      <td>55.0</td>\n",
              "      <td>96.599398</td>\n",
              "      <td>4112 Carter Walks\\nCoxfort, MS 05257</td>\n",
              "      <td>-18.2677965</td>\n",
              "      <td>-135.485807</td>\n",
              "      <td>187.072598</td>\n",
              "      <td>27.602859</td>\n",
              "    </tr>\n",
              "    <tr>\n",
              "      <th>30</th>\n",
              "      <td>Christopher Newman</td>\n",
              "      <td>62.0</td>\n",
              "      <td>72.788427</td>\n",
              "      <td>57802 Shepherd Port\\nMcdonaldberg, ID 34145</td>\n",
              "      <td>-68.691701</td>\n",
              "      <td>-159.811703</td>\n",
              "      <td>186.461388</td>\n",
              "      <td>20.935557</td>\n",
              "    </tr>\n",
              "    <tr>\n",
              "      <th>31</th>\n",
              "      <td>Emily Norris</td>\n",
              "      <td>28.0</td>\n",
              "      <td>98.094384</td>\n",
              "      <td>496 Jennifer Mews\\nWest Meganborough, FM 30972</td>\n",
              "      <td>-57.740100</td>\n",
              "      <td>17.788442</td>\n",
              "      <td>193.943542</td>\n",
              "      <td>26.079154</td>\n",
              "    </tr>\n",
              "    <tr>\n",
              "      <th>32</th>\n",
              "      <td>Richard Hernandez</td>\n",
              "      <td>90.0</td>\n",
              "      <td>96.306730</td>\n",
              "      <td>90583 Lisa Freeway Suite 226\\nPort Angelaport,...</td>\n",
              "      <td>-20.6251625</td>\n",
              "      <td>117.570612</td>\n",
              "      <td>178.477873</td>\n",
              "      <td>30.233461</td>\n",
              "    </tr>\n",
              "    <tr>\n",
              "      <th>33</th>\n",
              "      <td>Jessica Gibson</td>\n",
              "      <td>51.0</td>\n",
              "      <td>66.899388</td>\n",
              "      <td>49128 Melinda Cape\\nEast Kendra, VI 03207</td>\n",
              "      <td>61.6867465</td>\n",
              "      <td>-115.993280</td>\n",
              "      <td>189.203491</td>\n",
              "      <td>18.688044</td>\n",
              "    </tr>\n",
              "    <tr>\n",
              "      <th>34</th>\n",
              "      <td>Mary Marshall</td>\n",
              "      <td>61.0</td>\n",
              "      <td>88.966015</td>\n",
              "      <td>9067 Micheal Courts Apt. 254\\nSanchezport, SC ...</td>\n",
              "      <td>58.8160415</td>\n",
              "      <td>109.164201</td>\n",
              "      <td>201.971038</td>\n",
              "      <td>21.809512</td>\n",
              "    </tr>\n",
              "    <tr>\n",
              "      <th>35</th>\n",
              "      <td>Molly Anderson</td>\n",
              "      <td>55.0</td>\n",
              "      <td>74.143450</td>\n",
              "      <td>84640 Simmons Mountain\\nNew Kathyburgh, NH 52117</td>\n",
              "      <td>34.848539</td>\n",
              "      <td>11.425728</td>\n",
              "      <td>177.472985</td>\n",
              "      <td>23.540099</td>\n",
              "    </tr>\n",
              "    <tr>\n",
              "      <th>36</th>\n",
              "      <td>Kayla Garcia</td>\n",
              "      <td>50.0</td>\n",
              "      <td>77.123120</td>\n",
              "      <td>60785 Santos Haven\\nShannontown, WV 37395</td>\n",
              "      <td>-78.8546545</td>\n",
              "      <td>-53.869138</td>\n",
              "      <td>149.719339</td>\n",
              "      <td>34.405573</td>\n",
              "    </tr>\n",
              "    <tr>\n",
              "      <th>37</th>\n",
              "      <td>Jennifer Mcdaniel</td>\n",
              "      <td>85.0</td>\n",
              "      <td>97.230600</td>\n",
              "      <td>9756 Kirk Lakes\\nCollinston, GA 92413</td>\n",
              "      <td>-28.460933</td>\n",
              "      <td>34.091444</td>\n",
              "      <td>209.162549</td>\n",
              "      <td>22.224659</td>\n",
              "    </tr>\n",
              "    <tr>\n",
              "      <th>38</th>\n",
              "      <td>Brittney Doyle</td>\n",
              "      <td>85.0</td>\n",
              "      <td>73.393229</td>\n",
              "      <td>5893 Armstrong Orchard Suite 928\\nMichaeltown,...</td>\n",
              "      <td>-46.237658</td>\n",
              "      <td>43.446403</td>\n",
              "      <td>175.970884</td>\n",
              "      <td>23.701420</td>\n",
              "    </tr>\n",
              "    <tr>\n",
              "      <th>39</th>\n",
              "      <td>Ryan Rodriguez</td>\n",
              "      <td>55.0</td>\n",
              "      <td>85.847571</td>\n",
              "      <td>53838 Dylan Village\\nLeahport, MO 91216</td>\n",
              "      <td>-7.349841</td>\n",
              "      <td>-150.955997</td>\n",
              "      <td>185.152391</td>\n",
              "      <td>25.042020</td>\n",
              "    </tr>\n",
              "    <tr>\n",
              "      <th>40</th>\n",
              "      <td>Mr. Michael Oneill MD</td>\n",
              "      <td>55.0</td>\n",
              "      <td>74.731261</td>\n",
              "      <td>33318 Harris Spring Suite 770\\nPort Kimberly, ...</td>\n",
              "      <td>85.635178</td>\n",
              "      <td>-103.801624</td>\n",
              "      <td>189.676569</td>\n",
              "      <td>20.771839</td>\n",
              "    </tr>\n",
              "    <tr>\n",
              "      <th>41</th>\n",
              "      <td>Zachary Parker</td>\n",
              "      <td>50.0</td>\n",
              "      <td>94.472360</td>\n",
              "      <td>7509 Robert Fork Apt. 837\\nLake Danielview, OR...</td>\n",
              "      <td>40.8212385</td>\n",
              "      <td>-178.132769</td>\n",
              "      <td>196.034597</td>\n",
              "      <td>24.583251</td>\n",
              "    </tr>\n",
              "    <tr>\n",
              "      <th>42</th>\n",
              "      <td>Timothy Kelly</td>\n",
              "      <td>74.0</td>\n",
              "      <td>86.276623</td>\n",
              "      <td>11379 Sanchez Forge Apt. 203\\nNorth James, NH ...</td>\n",
              "      <td>-87.2612005</td>\n",
              "      <td>-158.453073</td>\n",
              "      <td>203.018332</td>\n",
              "      <td>20.932574</td>\n",
              "    </tr>\n",
              "    <tr>\n",
              "      <th>43</th>\n",
              "      <td>Alice Lam</td>\n",
              "      <td>35.0</td>\n",
              "      <td>61.393508</td>\n",
              "      <td>82065 Brianna Terrace Suite 162\\nBrandtburgh, ...</td>\n",
              "      <td>-5.403453</td>\n",
              "      <td>149.554314</td>\n",
              "      <td>190.700616</td>\n",
              "      <td>16.881781</td>\n",
              "    </tr>\n",
              "    <tr>\n",
              "      <th>44</th>\n",
              "      <td>Victoria Sanchez</td>\n",
              "      <td>64.0</td>\n",
              "      <td>89.872345</td>\n",
              "      <td>605 Mathew Point\\nPort Megantown, VT 45515</td>\n",
              "      <td>-43.867785</td>\n",
              "      <td>-90.695345</td>\n",
              "      <td>179.146643</td>\n",
              "      <td>28.003269</td>\n",
              "    </tr>\n",
              "    <tr>\n",
              "      <th>45</th>\n",
              "      <td>Leonard Pineda</td>\n",
              "      <td>23.0</td>\n",
              "      <td>95.856308</td>\n",
              "      <td>98404 Ryan Parkway Suite 242\\nWest Stevenville...</td>\n",
              "      <td>-4.464578</td>\n",
              "      <td>152.499689</td>\n",
              "      <td>164.093375</td>\n",
              "      <td>35.599066</td>\n",
              "    </tr>\n",
              "    <tr>\n",
              "      <th>46</th>\n",
              "      <td>Bethany Hurley</td>\n",
              "      <td>83.0</td>\n",
              "      <td>60.514559</td>\n",
              "      <td>22885 Phillip Forest\\nJulieborough, AR 44440</td>\n",
              "      <td>14.2121795</td>\n",
              "      <td>32.491749</td>\n",
              "      <td>167.128127</td>\n",
              "      <td>21.665104</td>\n",
              "    </tr>\n",
              "    <tr>\n",
              "      <th>47</th>\n",
              "      <td>Billy Walker</td>\n",
              "      <td>54.0</td>\n",
              "      <td>79.225071</td>\n",
              "      <td>1979 Veronica Ports\\nWest Janiceside, KY 34590</td>\n",
              "      <td>-36.031088</td>\n",
              "      <td>117.217279</td>\n",
              "      <td>175.214155</td>\n",
              "      <td>25.806212</td>\n",
              "    </tr>\n",
              "    <tr>\n",
              "      <th>48</th>\n",
              "      <td>Robert Wright</td>\n",
              "      <td>85.0</td>\n",
              "      <td>91.879990</td>\n",
              "      <td>7046 Anita Rapids Suite 835\\nWest Susan, OK 17144</td>\n",
              "      <td>-30.1767335</td>\n",
              "      <td>-27.634306</td>\n",
              "      <td>163.362888</td>\n",
              "      <td>34.428185</td>\n",
              "    </tr>\n",
              "    <tr>\n",
              "      <th>49</th>\n",
              "      <td>Andrew Meyers</td>\n",
              "      <td>73.0</td>\n",
              "      <td>93.914375</td>\n",
              "      <td>958 Solomon Pines Apt. 605\\nRobinfort, NH 67732</td>\n",
              "      <td>-58.8690145</td>\n",
              "      <td>-15.473233</td>\n",
              "      <td>189.094927</td>\n",
              "      <td>26.264692</td>\n",
              "    </tr>\n",
              "  </tbody>\n",
              "</table>\n",
              "</div>"
            ],
            "text/plain": [
              "                       name    age     Weight  \\\n",
              "0    Mr. Kenneth Nelson DDS   54.0  90.315173   \n",
              "1             Jose Galloway   22.0  74.461716   \n",
              "2              William West   86.0  86.704599   \n",
              "3             Emily Barnett   77.0  69.751590   \n",
              "4         Mrs. Janet Huerta   88.0  97.477017   \n",
              "5             Lisa Martinez   64.0  85.387806   \n",
              "6              Don Matthews   90.0  88.921106   \n",
              "7              Miguel Grant   27.0  94.905215   \n",
              "8            Sandra Hartman   87.0  93.748899   \n",
              "9               Peter Clark   88.0  94.529754   \n",
              "10             Pamela Riley   85.0  96.393970   \n",
              "11              Brandy Huff   44.0  89.174652   \n",
              "12              David Welch   69.0  79.335892   \n",
              "13            Jacob Farrell   38.0  87.633303   \n",
              "14          Ashley Anderson   19.0  95.422840   \n",
              "15  Miss Kimberly Young DVM   62.0  97.210058   \n",
              "16           Gregory Howell   67.0  71.268940   \n",
              "17               Leah Morse   78.0  71.189104   \n",
              "18              Joseph Dyer   62.0  97.872641   \n",
              "19            Gary Mcdonald   56.0  76.255512   \n",
              "20         Michael Mitchell   58.0  78.901032   \n",
              "21          Steven Brown MD   55.0  84.886279   \n",
              "22               Anna Lopez   70.0  90.302125   \n",
              "23           Vanessa Mathis   80.0  75.512807   \n",
              "24       Mrs. Susan Salazar   57.0  90.361753   \n",
              "25             Vicki Martin   26.0  72.704980   \n",
              "26           Robert Hartman   97.0  98.280973   \n",
              "27             Joseph Baker  100.0  66.706114   \n",
              "28       Frederick Crawford   28.0  98.322678   \n",
              "29           Matthew Rivera   55.0  96.599398   \n",
              "30       Christopher Newman   62.0  72.788427   \n",
              "31             Emily Norris   28.0  98.094384   \n",
              "32        Richard Hernandez   90.0  96.306730   \n",
              "33           Jessica Gibson   51.0  66.899388   \n",
              "34            Mary Marshall   61.0  88.966015   \n",
              "35           Molly Anderson   55.0  74.143450   \n",
              "36             Kayla Garcia   50.0  77.123120   \n",
              "37        Jennifer Mcdaniel   85.0  97.230600   \n",
              "38           Brittney Doyle   85.0  73.393229   \n",
              "39           Ryan Rodriguez   55.0  85.847571   \n",
              "40    Mr. Michael Oneill MD   55.0  74.731261   \n",
              "41           Zachary Parker   50.0  94.472360   \n",
              "42            Timothy Kelly   74.0  86.276623   \n",
              "43                Alice Lam   35.0  61.393508   \n",
              "44         Victoria Sanchez   64.0  89.872345   \n",
              "45           Leonard Pineda   23.0  95.856308   \n",
              "46           Bethany Hurley   83.0  60.514559   \n",
              "47             Billy Walker   54.0  79.225071   \n",
              "48            Robert Wright   85.0  91.879990   \n",
              "49            Andrew Meyers   73.0  93.914375   \n",
              "\n",
              "                                              address     latitude  \\\n",
              "0       70130 Cardenas Harbor\\nSouth Carrie, IL 21269   -61.507517   \n",
              "1            32318 Scott Green\\nBradleytown, TX 61438    -3.508911   \n",
              "2                    PSC 7165, Box 3303\\nAPO AP 13929   -70.814421   \n",
              "3         0918 Anthony Burg\\nSouth Benjamin, TX 57099    6.4207395   \n",
              "4      0587 Mccann Ridges\\nEast Jessicabury, CO 97777   17.1150665   \n",
              "5                           USNV Taylor\\nFPO AA 57859   20.9840035   \n",
              "6     10821 Hodges Corner\\nEast Laurenburgh, NE 90721   54.5742355   \n",
              "7     8616 Todd Ridges\\nSouth Lawrenceshire, WA 98821  -28.0587405   \n",
              "8      9625 James Prairie\\nPort Judithshire, AK 07050   71.6490465   \n",
              "9                    PSC 7368, Box 6968\\nAPO AE 67570   -44.932270   \n",
              "10         05594 Duncan Burg\\nJonathanburgh, MP 60736    34.397731   \n",
              "11  91373 Shirley Drives Apt. 644\\nNorth Jane, IA ...   -9.0598265   \n",
              "12   809 Blair Terrace Suite 930\\nNew Wendy, VA 59472  -51.2893515   \n",
              "13          3907 Watkins Field\\nRaymondside, SC 06403    58.882469   \n",
              "14  859 Hebert Cliff Apt. 892\\nWest Christophersta...    29.948723   \n",
              "15                   Unit 6757 Box 2795\\nDPO AA 80839   18.3868325   \n",
              "16  53194 Maurice Lock Apt. 977\\nSouth Maryfurt, M...  -23.2782425   \n",
              "17         0589 Bryan Shoal\\nHarringtonstad, WI 34460    51.079993   \n",
              "18    3598 Hall Unions Apt. 221\\nTuckerland, OH 45465   49.2481795   \n",
              "19  918 Joshua Haven Suite 624\\nEast Tomfort, FL 9...    84.440905   \n",
              "20  1826 Rodney Overpass\\nSouth Douglastown, IN 80474  -25.7922525   \n",
              "21      78276 Mcdaniel Ferry\\nKatherineview, VA 69725    48.540401   \n",
              "22      4283 May Isle Apt. 755\\nSouth Alice, SC 37947     4.036148   \n",
              "23  0780 Phelps Park Suite 816\\nEast Dustinberg, I...  -36.6685795   \n",
              "24        74213 John Camp\\nPort Marcusmouth, FL 56233    77.140559   \n",
              "25  2166 Matthew Wall Apt. 308\\nChristopherland, N...  -30.2924695   \n",
              "26  1947 Richard Lock Apt. 102\\nPort Larryshire, L...  -18.4574395   \n",
              "27        642 Christopher Forest\\nRyanhaven, NJ 79042    59.589241   \n",
              "28               080 Dean Park\\nNorth Peter, VI 53363  -26.4300875   \n",
              "29               4112 Carter Walks\\nCoxfort, MS 05257  -18.2677965   \n",
              "30        57802 Shepherd Port\\nMcdonaldberg, ID 34145   -68.691701   \n",
              "31     496 Jennifer Mews\\nWest Meganborough, FM 30972   -57.740100   \n",
              "32  90583 Lisa Freeway Suite 226\\nPort Angelaport,...  -20.6251625   \n",
              "33          49128 Melinda Cape\\nEast Kendra, VI 03207   61.6867465   \n",
              "34  9067 Micheal Courts Apt. 254\\nSanchezport, SC ...   58.8160415   \n",
              "35   84640 Simmons Mountain\\nNew Kathyburgh, NH 52117    34.848539   \n",
              "36          60785 Santos Haven\\nShannontown, WV 37395  -78.8546545   \n",
              "37              9756 Kirk Lakes\\nCollinston, GA 92413   -28.460933   \n",
              "38  5893 Armstrong Orchard Suite 928\\nMichaeltown,...   -46.237658   \n",
              "39            53838 Dylan Village\\nLeahport, MO 91216    -7.349841   \n",
              "40  33318 Harris Spring Suite 770\\nPort Kimberly, ...    85.635178   \n",
              "41  7509 Robert Fork Apt. 837\\nLake Danielview, OR...   40.8212385   \n",
              "42  11379 Sanchez Forge Apt. 203\\nNorth James, NH ...  -87.2612005   \n",
              "43  82065 Brianna Terrace Suite 162\\nBrandtburgh, ...    -5.403453   \n",
              "44         605 Mathew Point\\nPort Megantown, VT 45515   -43.867785   \n",
              "45  98404 Ryan Parkway Suite 242\\nWest Stevenville...    -4.464578   \n",
              "46       22885 Phillip Forest\\nJulieborough, AR 44440   14.2121795   \n",
              "47     1979 Veronica Ports\\nWest Janiceside, KY 34590   -36.031088   \n",
              "48  7046 Anita Rapids Suite 835\\nWest Susan, OK 17144  -30.1767335   \n",
              "49    958 Solomon Pines Apt. 605\\nRobinfort, NH 67732  -58.8690145   \n",
              "\n",
              "      longitude      height        bmi  \n",
              "0     13.188232  164.691718  33.297927  \n",
              "1    -84.304923  191.573672  20.289035  \n",
              "2    -51.671150  162.122016  32.988164  \n",
              "3     86.621561  201.120635  17.244113  \n",
              "4    121.889438  178.292121  30.664644  \n",
              "5    145.242075  177.231469  27.184051  \n",
              "6     33.428243  182.163228  26.796830  \n",
              "7    -43.991322  158.838179  37.616664  \n",
              "8     40.265356  170.938761  32.083746  \n",
              "9    -58.386192  173.472212  31.412948  \n",
              "10    43.236101  181.527959  29.252489  \n",
              "11    13.353223  210.643434  20.097664  \n",
              "12   176.507029  184.262048  23.366729  \n",
              "13   -56.451073  202.548239  21.360540  \n",
              "14   -28.240840  192.116604  25.853690  \n",
              "15   -29.156457  162.904237  36.630804  \n",
              "16   -40.471417  180.372025  21.905942  \n",
              "17    94.275340  192.444340  19.222207  \n",
              "18   150.436401  168.573257  34.441650  \n",
              "19   132.652763  185.193028  22.234224  \n",
              "20   -27.535600  181.043957  24.072135  \n",
              "21    31.376657  201.504403  20.905878  \n",
              "22  -131.188694  196.682015  23.343645  \n",
              "23  -155.495798  183.187206  22.502478  \n",
              "24   112.669253  164.911918  33.226191  \n",
              "25  -136.122162  182.531045  21.821805  \n",
              "26    97.392960  178.355331  30.895644  \n",
              "27   163.639728  149.101569  30.005524  \n",
              "28    99.718663  205.993979  23.170993  \n",
              "29  -135.485807  187.072598  27.602859  \n",
              "30  -159.811703  186.461388  20.935557  \n",
              "31    17.788442  193.943542  26.079154  \n",
              "32   117.570612  178.477873  30.233461  \n",
              "33  -115.993280  189.203491  18.688044  \n",
              "34   109.164201  201.971038  21.809512  \n",
              "35    11.425728  177.472985  23.540099  \n",
              "36   -53.869138  149.719339  34.405573  \n",
              "37    34.091444  209.162549  22.224659  \n",
              "38    43.446403  175.970884  23.701420  \n",
              "39  -150.955997  185.152391  25.042020  \n",
              "40  -103.801624  189.676569  20.771839  \n",
              "41  -178.132769  196.034597  24.583251  \n",
              "42  -158.453073  203.018332  20.932574  \n",
              "43   149.554314  190.700616  16.881781  \n",
              "44   -90.695345  179.146643  28.003269  \n",
              "45   152.499689  164.093375  35.599066  \n",
              "46    32.491749  167.128127  21.665104  \n",
              "47   117.217279  175.214155  25.806212  \n",
              "48   -27.634306  163.362888  34.428185  \n",
              "49   -15.473233  189.094927  26.264692  "
            ]
          },
          "execution_count": 41,
          "metadata": {},
          "output_type": "execute_result"
        }
      ],
      "source": [
        "for i in range(len(data)):\n",
        "\tdata.loc[i, 'height'] = np.random.normal(180, 15.5)\n",
        "\tdata.loc[i, 'bmi'] = data.loc[i, 'Weight'] / ((data.loc[i, 'height'] / 100) ** 2)\n",
        "\n",
        "data"
      ]
    }
  ],
  "metadata": {
    "colab": {
      "provenance": []
    },
    "kernelspec": {
      "display_name": "ModSim_env",
      "language": "python",
      "name": "python3"
    },
    "language_info": {
      "codemirror_mode": {
        "name": "ipython",
        "version": 3
      },
      "file_extension": ".py",
      "mimetype": "text/x-python",
      "name": "python",
      "nbconvert_exporter": "python",
      "pygments_lexer": "ipython3",
      "version": "3.10.16"
    }
  },
  "nbformat": 4,
  "nbformat_minor": 0
}
