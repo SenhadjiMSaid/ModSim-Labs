{
  "cells": [
    {
      "cell_type": "markdown",
      "metadata": {
        "id": "Im2Mmg04EkJB"
      },
      "source": [
        "<figure>\n",
        "  <IMG src=\"figures/logo-esi-sba.png\" WIDTH=300 height=\"100\" ALIGN=\"right\">\n",
        "</figure>\n",
        "\n",
        "# Practical Trainining Series on Modeling And Simulation   \n",
        "*By Dr. Belkacem KHALDI (b.khaldi@esi-sba.dz)*"
      ]
    },
    {
      "cell_type": "markdown",
      "metadata": {
        "id": "VCoTk4fMEkJB"
      },
      "source": [
        "## Notebook 3: Probabilities and Random Number Simulation\n",
        "In this Notebook you learn how to deal with Probabilities and Random Number Simulation. Many of the functions we will use are included in the `random` subpackage of `numpy`. We will import this package and call it `rnd` so that we don't have to type `np.random`. all the time."
      ]
    },
    {
      "cell_type": "code",
      "execution_count": 1,
      "metadata": {
        "id": "lTjkPDt4EkJR"
      },
      "outputs": [],
      "source": [
        "%matplotlib inline\n",
        "import numpy as np\n",
        "import matplotlib.pyplot as plt\n",
        "import numpy.random as rnd"
      ]
    },
    {
      "cell_type": "markdown",
      "metadata": {
        "id": "TGXTqwsQEkJR"
      },
      "source": [
        "### 1- Introduction to Probability\n",
        "Probability is a means of determining and describing the likelihood of an event occurring or the truth of a situation. It's a helpful mathematical tool for coping with unpredictability and uncertainty.\n",
        "\n",
        "### Exemple 1: Tossing a coin\n",
        "Currency coins are often said to have two sides: a \"head\" and a \"tail\"\n",
        "\n",
        "<figure>\n",
        "  <IMG src=\"figures/coin-100dz.jpeg\" WIDTH=300 height=\"100\" ALIGN=\"right\">\n",
        "</figure>\n",
        "\n",
        "A fair coin is one that is equally likely to land on either side when tossed or flipped. The side that shows up on top once the coin lands is referred to as the result of a coin toss/flip.\n",
        "    \n",
        "If we have precise measurements of the physical environment and the forces used to toss the coin, we may be able to predict the outcome. However, we rarely have access to this information, making it difficult (if not impossible) to execute all of these measurements with adequate precision.\n",
        "    \n",
        "The assumption of randomness allows you to deal with limited data and unpredictable outcomes. Tossing a coin is described as an experiment that can yield one of two outcomes at random. Probability is a metric for determining how likely each outcome is.\n",
        "\n",
        "> **Question**: If you flip a fair coin, what is the **probability** of **getting heads**?\n",
        "\n",
        "When we have several equally likely possible outcomes, the probability of a condition (also called event) is defined as:\n",
        "\n",
        "> $$P(\\textrm{condition}) = \\frac{\\textrm{ No. of outcomes satisfying the condition }} {\\textrm{Number of equally likely outcomes}}$$\n",
        "\n",
        "**The probability of a condition/event is a number between 0 and 1.**\n",
        "\n",
        "\n",
        "We can define a function `probability` to perform this calculation."
      ]
    },
    {
      "cell_type": "code",
      "execution_count": 2,
      "metadata": {
        "id": "ZmnEokrmEkJR"
      },
      "outputs": [],
      "source": [
        "def probability(matching_outcomes, total_outcomes):\n",
        "    return matching_outcomes/total_outcomes"
      ]
    },
    {
      "cell_type": "markdown",
      "metadata": {
        "id": "lCRJ-Q22EkJR"
      },
      "source": [
        "When we toss a fair coin, there are just two conceivable outcomes: \"head\" or \"tail,\" both equally likely. One of the outcomes matches the condition \"getting a head\".\n",
        "\n",
        "With this information, we can now use the formula to compute the probability of a getting a head."
      ]
    },
    {
      "cell_type": "code",
      "execution_count": 3,
      "metadata": {
        "colab": {
          "base_uri": "https://localhost:8080/"
        },
        "id": "PgMWjYYZEkJR",
        "outputId": "087bfccf-4185-42e8-927f-f6c444d0685a"
      },
      "outputs": [
        {
          "name": "stdout",
          "output_type": "stream",
          "text": [
            "The probability of getting a head: 0.5\n"
          ]
        }
      ],
      "source": [
        "p_head = probability(matching_outcomes=1, total_outcomes=2)\n",
        "print(\"The probability of getting a head:\", p_head)"
      ]
    },
    {
      "cell_type": "markdown",
      "metadata": {
        "id": "2IBIlND2EkJR"
      },
      "source": [
        "### Challenge 1\n",
        "Using the `probability` function mention above, compute the probability of the following queries when you flip a fair coin:\n",
        "<ol>\n",
        "  <li>What is the probability  of getting a tail ? </li>\n",
        "  <li>What is the probability of getting a head or a tail?</li>\n",
        "  <li>What is the probability of receiving neither a head nor a tail?</li>\n",
        "</ol>\n",
        "   "
      ]
    },
    {
      "cell_type": "code",
      "execution_count": 4,
      "metadata": {
        "id": "38_KOfY2EkJR"
      },
      "outputs": [
        {
          "name": "stdout",
          "output_type": "stream",
          "text": [
            "probability of getting a tail: 0.5\n",
            "probability of getting tail or head: 1.0\n",
            "probabilty of getting neither head nor tail: 0\n"
          ]
        }
      ],
      "source": [
        "#Your solutions here\n",
        "print(\"probability of getting a tail:\", probability(1, 2))\n",
        "print(\"probability of getting tail or head:\", probability(1, 2) + probability(1, 2))\n",
        "print(\"probabilty of getting neither head nor tail:\", 0)"
      ]
    },
    {
      "cell_type": "markdown",
      "metadata": {
        "id": "7dDKn8QCEkJR"
      },
      "source": [
        "### Exemple 2: Rolling dice\n",
        "\n",
        "A die (plural dice) is a 6-sided cube with a varied number of dots on each face (one to six). The number of dots that appear on the top face of a die after it has been rolled or thrown is known as the result of the roll/throw. As a result, a die throw can result in one of the following outcomes: 1, 2, 3, 4, 5, or 6.\n",
        "\n",
        "<img src=\"figures/one-dice.jpg\" width=\"100\">\n",
        "\n",
        "> **Question**: What is the probability of getting a four when a fair die is rolled?\n",
        "\n",
        "All outcomes are equally likely for a fair die, and the only the outcome 4 satisfies the condition \"getting a 4\". Thus, we can calculate the probability of the condition as follows:"
      ]
    },
    {
      "cell_type": "code",
      "execution_count": 5,
      "metadata": {
        "colab": {
          "base_uri": "https://localhost:8080/"
        },
        "id": "W8jK3IioEkJR",
        "outputId": "bbd95e6f-1400-4cef-a9be-354c90cc3f7f"
      },
      "outputs": [
        {
          "name": "stdout",
          "output_type": "stream",
          "text": [
            "The probability of getting a 4: 0.16666666666666666\n"
          ]
        }
      ],
      "source": [
        "p_die_4=probability(matching_outcomes=1, total_outcomes=6)\n",
        "print(\"The probability of getting a 4:\", p_die_4)"
      ]
    },
    {
      "cell_type": "markdown",
      "metadata": {
        "id": "clasSQUDEkJR"
      },
      "source": [
        "### Challenge 2\n",
        "Compute the probability of the following queries when rolling a die:\n",
        "\n",
        "<ol>\n",
        "  <li>What is the probability of getting <b> an even number </b>? </li>\n",
        "  <li>What is the probability of getting <b>a three or a six </b>?</li>\n",
        "  <li>What is the probability of getting <b>a three and a six</b>?</li>\n",
        "   <li> What is the probability of getting <b> a three or a seven</b>?</li>\n",
        "</ol>"
      ]
    },
    {
      "cell_type": "code",
      "execution_count": 6,
      "metadata": {
        "id": "EzA-k4ujEkJR"
      },
      "outputs": [
        {
          "name": "stdout",
          "output_type": "stream",
          "text": [
            "the probability of getting an even number: 0.5\n",
            "the probability of getting a 3 or 6: 0.3333333333333333\n",
            "the probability of getting a 3 and a 6: 0.0\n",
            "the probability of getting a 3 or a 7: 0.3333333333333333\n"
          ]
        }
      ],
      "source": [
        "#Your Solutions Here\n",
        "print(\"the probability of getting an even number:\", probability(3, 6))\n",
        "print(\"the probability of getting a 3 or 6:\", probability(2, 6))\n",
        "print(\"the probability of getting a 3 and a 6:\", probability(0, 6))\n",
        "print(\"the probability of getting a 3 or a 7:\", probability(2, 6))"
      ]
    },
    {
      "cell_type": "markdown",
      "metadata": {
        "id": "XLZt7SKYEkJR"
      },
      "source": [
        "### Exemple 3: Playing Cards\n",
        "\n",
        "<img src=\"figures/deck_cards.jpg\" width=\"200\">\n",
        "\n",
        "There are 52 cards in a deck of playing cards. Each card is assigned to one of four suits: Spade ♠️, Clubs ♣️, Hearts ♥️ or Diamonds ♦️. Each suit consists of 13 cards: *Ace, 2, 3, 4, 5, 6, 7, 8, 9, 10, Jack, Queen*, and *King*. Hearts and diamonds are red, but spades and clubs are black.\n",
        "\n",
        "<img src=\"figures/playing_cards_deck.svg.png\" >\n",
        "\n",
        "\n",
        "\n",
        "\n",
        "In a well-shuffled deck of cards, any card is equally likely to end up at any position in the deck.\n",
        "\n",
        "<img src=\"figures/giphy.gif\" >\n",
        "\n",
        "\n",
        "> **Question**: What is the probability of **drawing a King of Hearts** from a well-shuffled deck of cards?\n",
        "\n",
        "There are 52 equally likely outcomes of the card being drawn, and just one outcome matches this condition."
      ]
    },
    {
      "cell_type": "code",
      "execution_count": 7,
      "metadata": {
        "colab": {
          "base_uri": "https://localhost:8080/"
        },
        "id": "FVWEsCxmEkJR",
        "outputId": "0ac40093-5b43-4888-ab55-4b8537849768"
      },
      "outputs": [
        {
          "name": "stdout",
          "output_type": "stream",
          "text": [
            "The probability of getting a King of Hearts: 0.019230769230769232\n"
          ]
        }
      ],
      "source": [
        "p_king_of_hearts=probability(matching_outcomes=1, total_outcomes=52)\n",
        "print(\"The probability of getting a King of Hearts:\", p_king_of_hearts)"
      ]
    },
    {
      "cell_type": "markdown",
      "metadata": {
        "id": "eOZRRP5jEkJR"
      },
      "source": [
        "### Challenge 3\n",
        "What is the probability of **drawing a red card** from a well-shuffled deck of cards.\n",
        "\n",
        "> *Hint*: Count the number of red cards.\n",
        "\n",
        "What is the probability of **drawing a spade ♠️** from a well-shuffled deck of cards.\n",
        "\n",
        "What is the probability of **drawing a 7** from a well-shuffled deck of cards.\n",
        "\n",
        "What is the probability of **drawing a card that's a spade and a jack** from a well-shuffled deck of cards?"
      ]
    },
    {
      "cell_type": "code",
      "execution_count": 8,
      "metadata": {
        "id": "ser-NIvZEkJR"
      },
      "outputs": [
        {
          "name": "stdout",
          "output_type": "stream",
          "text": [
            "the probability of drawing a red card: 0.5\n",
            "the probability of drawing a spade: 0.25\n",
            "the probability of drawing a 7: 0.07692307692307693\n",
            "the probability of drawing a spade and a jack: 0.019230769230769232\n"
          ]
        }
      ],
      "source": [
        "print(\"the probability of drawing a red card:\", probability(26, 52))\n",
        "print(\"the probability of drawing a spade:\", probability(13, 52))\n",
        "print(\"the probability of drawing a 7:\", probability(4, 52))\n",
        "print(\"the probability of drawing a spade and a jack:\", probability(1, 52))"
      ]
    },
    {
      "cell_type": "markdown",
      "metadata": {
        "id": "kN80WERmEkJR"
      },
      "source": [
        "### Bayes's Theorem\n",
        "\n",
        "There are two ways to think about Bayes's Theorem:\n",
        "\n",
        "* It is a divide-and conquer strategy for computing conditional probabilities.  If it's hard to compute $P(A|B)$ directly, sometimes it is easier to compute the terms on the other side of the equation: $P(A)$, $P(B|A)$, and $P(B)$.\n",
        "\n",
        "* It is also a recipe for updating beliefs in the light of new data.\n",
        "\n",
        "When we are working with the second interpretation, we often write Bayes's Theorem with different variables.  Instead of $A$ and $B$, we use $H$ and $D$, where\n",
        "\n",
        "* $H$ stands for \"hypothesis\", and\n",
        "\n",
        "* $D$ stands for \"data\".\n",
        "\n",
        "So we write Bayes's Theorem like this:\n",
        "\n",
        "$P(A|B) =\\frac{P(A) ~ P(B|A)}{P(B)}$\n",
        "\n",
        "$P(H|D) =\\frac{P(H) ~ P(D|H)}{P(D)}$\n",
        "\n",
        "In this context, each term has a name:\n",
        "\n",
        "* $P(H)$ is the \"prior probability\" of the hypothesis, which represents how confident you are that $H$ is true prior to seeing the data,\n",
        "\n",
        "* $P(D|H)$ is the \"likelihood\" of the data, which is the probability of seeing $D$ if the hypothesis is true,\n",
        "\n",
        "* $P(D)$ is the \"total probability of the data\", that is, the chance of seeing $D$ regardless of whether $H$ is true or not.\n",
        "\n",
        "* $P(H|D)$ is the \"posterior probability\" of the hypothesis, which indicates how confident you should be that $H$ is true after taking the data into account.\n",
        "\n",
        "An example will make all of this clearer."
      ]
    },
    {
      "cell_type": "markdown",
      "metadata": {
        "id": "gI32GW57EkJR"
      },
      "source": [
        "### The cookie problem\n",
        "\n",
        "\n",
        "> Suppose you have two bowls of cookies.  Bowl 1 contains 30 vanilla and 10 chocolate cookies.  Bowl 2 contains 20 of each kind.\n",
        ">\n",
        "> You choose one of the bowls at random and, without looking into the bowl, choose one of the cookies at random.  It turns out to be a vanilla cookie.\n",
        ">\n",
        "> What is the chance that you chose Bowl 1?\n",
        "\n",
        "We'll assume that there was an equal chance of choosing either bowl and an equal chance of choosing any cookie in the bowl."
      ]
    },
    {
      "cell_type": "markdown",
      "metadata": {
        "id": "B1C7l8vWEkJR"
      },
      "source": [
        "We can solve this problem using Bayes's Theorem. First, I'll define  $H$  and  $D$ :\n",
        "\n",
        "$H$  is the hypothesis that the bowl you chose is Bowl 1.\n",
        "\n",
        "$D$  is the data that the cookie is vanilla.\n",
        "\n",
        "What we want is the posterior probability of  $H$ , which is  $P(H|D)$ . It is not obvious how to compute it directly, but if we can figure out the terms on the right-hand side of Bayes's Theorem, we can get to it indirectly.\n",
        "\n",
        "$P(H)$ is the prior probability of $H$, which is the probability of choosing Bowl 1 before we see the data. If there was an equal chance of choosing either bowl, $P(H)$ is 1/2.\n",
        "\n",
        "$P(D|H)$ is the likelihood of the data, which is the chance of getting a vanilla cookie if $H$ is true, in other words, the chance of getting a vanilla cookie from Bowl 1, which is 30/40.\n",
        "\n",
        "$P(D)$ is the total probability of the data, which is the chance of getting a vanilla cookie whether $𝐻$ is true or not. In this example, we can figure out $P(D)$ directly: because the bowls are equally likely, and they contain the same number of cookies, you were equally likely to choose any cookie. Combining the two bowls, there are 50 vanilla and 30 chocolate cookies, so the probability of choosing a vanilla cookie is 50/80.\n",
        "\n",
        "Now that we have the terms on the right-hand side, we can use Bayes's Theorem to combine them."
      ]
    },
    {
      "cell_type": "code",
      "execution_count": 9,
      "metadata": {
        "colab": {
          "base_uri": "https://localhost:8080/"
        },
        "id": "SuQB3sM8EkJR",
        "outputId": "da229b50-03db-423f-a681-d95e72215620"
      },
      "outputs": [
        {
          "name": "stdout",
          "output_type": "stream",
          "text": [
            "The probability of choosing Bowl 1: 0.6\n"
          ]
        }
      ],
      "source": [
        "#𝑃(𝐻)\n",
        "prior = probability(matching_outcomes=1, total_outcomes=2)\n",
        "#𝑃(𝐷|𝐻)\n",
        "likelihood =probability(matching_outcomes=30, total_outcomes=40)\n",
        "#𝑃(𝐷)\n",
        "prob_data = probability(matching_outcomes=50, total_outcomes=80)\n",
        "#computing 𝑃(𝐻|𝐷)\n",
        "posterior = prior * likelihood / prob_data\n",
        "print(\"The probability of choosing Bowl 1:\", posterior)"
      ]
    },
    {
      "cell_type": "markdown",
      "metadata": {
        "id": "rbOP8-UjEkJR"
      },
      "source": [
        "The posterior probability is  0.6 , a little higher than the prior, which was  0.5 .\n",
        "\n",
        "So the vanilla cookie makes us a little more certain that we chose Bowl 1.\n",
        "\n",
        "### Challenge 4\n",
        "What if we had chosen a chocolate cookie instead; what would be the posterior probability of Bowl 1?"
      ]
    },
    {
      "cell_type": "markdown",
      "metadata": {},
      "source": [
        "Just like the problem above We can solve this problem using Bayes's Theorem. First, I'll define  $H$  and  $D$ :\n",
        "\n",
        "$H$  is the hypothesis that the bowl you chose is Bowl 1.\n",
        "\n",
        "$D$  is the data that the cookie is **chocolate**.\n",
        "\n",
        "What we want is the posterior probability of  $H$ , which is  $P(H|D)$ .\n",
        "\n",
        "$P(H)$ is the prior probability of $H$, which is the probability of choosing Bowl 1 before we see the data. If there was an equal chance of choosing either bowl, $P(H)$ is 1/2.\n",
        "\n",
        "$P(D|H)$ is the likelihood of the data, which is the chance of getting a **chocolate** cookie if $H$ is true, in other words, the chance of getting a **chocolate** cookie from Bowl 1, which is 10/40.\n",
        "\n",
        "$P(D)$ is the total probability of the data, which is the chance of getting a **chocolate** cookie whether $𝐻$ is true or not. In this example, we can figure out $P(D)$ directly. Combining the two bowls, there are 50 vanilla and 30 chocolate cookies, so the probability of choosing a **chocolate** cookie is 30/80."
      ]
    },
    {
      "cell_type": "code",
      "execution_count": 10,
      "metadata": {
        "id": "zc1D49qwEkJR"
      },
      "outputs": [
        {
          "name": "stdout",
          "output_type": "stream",
          "text": [
            "The probability of choosing Bowl 1: 0.3333333333333333\n"
          ]
        }
      ],
      "source": [
        "#𝑃(𝐻)\n",
        "prior = probability(matching_outcomes=1, total_outcomes=2)\n",
        "#𝑃(𝐷|𝐻)\n",
        "likelihood =probability(matching_outcomes=10, total_outcomes=40)\n",
        "#𝑃(𝐷)\n",
        "prob_data = probability(matching_outcomes=30, total_outcomes=80)\n",
        "#computing 𝑃(𝐻|𝐷)\n",
        "posterior = prior * likelihood / prob_data\n",
        "print(\"The probability of choosing Bowl 1:\", posterior)"
      ]
    },
    {
      "cell_type": "markdown",
      "metadata": {},
      "source": [
        "The posterior probability is  0.3333 , lower than the prior, which was  0.5 .\n",
        "\n",
        "So the **chocolate** cookie makes us a little more certain that we chose Bowl 2."
      ]
    },
    {
      "cell_type": "markdown",
      "metadata": {
        "id": "QTzuWUR_EkJR"
      },
      "source": [
        "### 2- Random Numbers Generation\n",
        "A random number generator lets you draw, at random, a number from a specified distribution. Several random number generators are included in the `random` subpackage of `numpy`.\n",
        "\n",
        "#### The random.random() function\n",
        " The `random.random()` function returns the next nearest  foating-point value from the generated sequence. All return values are enclosed between 0 and 1.0. Let's explore a practical example that uses this function:"
      ]
    },
    {
      "cell_type": "code",
      "execution_count": 12,
      "metadata": {
        "colab": {
          "base_uri": "https://localhost:8080/"
        },
        "id": "AlEYCiHpEkJR",
        "outputId": "e40f07b0-970a-4fdb-bfcb-4d864de3501e",
        "scrolled": true
      },
      "outputs": [
        {
          "name": "stdout",
          "output_type": "stream",
          "text": [
            "0.0891 0.9631 0.8199 0.6754 0.3024 0.6274 0.3831 0.6702 0.0308 0.6892 0.8569 0.4041 0.5752 0.0091 0.1351 0.6157 0.7287 0.5416 0.9364 0.2734 "
          ]
        }
      ],
      "source": [
        "for i in range(20):\n",
        "    print('%05.4f' % rnd.random(), end=' ')"
      ]
    },
    {
      "cell_type": "markdown",
      "metadata": {
        "id": "nOqkhUJeEkJR"
      },
      "source": [
        "In the above example, 20 pseudorandom numbers are generated. Each number is printed in a format that includes 5 digits, including 4 decimal places.\n",
        "If we call the random() function again, we get a different sequence numbers:"
      ]
    },
    {
      "cell_type": "code",
      "execution_count": 13,
      "metadata": {
        "colab": {
          "base_uri": "https://localhost:8080/"
        },
        "id": "NW7xelo4EkJR",
        "outputId": "90ff253e-5597-4536-a130-82461f71001f"
      },
      "outputs": [
        {
          "name": "stdout",
          "output_type": "stream",
          "text": [
            "0.1738 0.1336 0.4007 0.4696 0.0815 0.7147 0.2388 0.6063 0.2446 0.8207 0.2495 0.9118 0.6218 0.9184 0.3332 0.4126 0.4835 0.9758 0.1255 0.2401 "
          ]
        }
      ],
      "source": [
        "for i in range(20):\n",
        "    print('%05.4f' % rnd.random(), end=' ')"
      ]
    },
    {
      "cell_type": "markdown",
      "metadata": {
        "id": "PiTlJwyeEkJR"
      },
      "source": [
        "#### The random.seed() function\n",
        "Internally, the random number generator starts with what is called a `seed`. The `seed` is a number and is generated automatically (and supposedly at random) when you call the random number generator. The value of the seed exactly defines the sequence of random numbers that you get. For example, let's set seed equal to 1:"
      ]
    },
    {
      "cell_type": "code",
      "execution_count": 14,
      "metadata": {
        "colab": {
          "base_uri": "https://localhost:8080/"
        },
        "id": "u8mY60EBEkJR",
        "outputId": "1607666a-8012-48da-9a69-2795b81be06b"
      },
      "outputs": [
        {
          "name": "stdout",
          "output_type": "stream",
          "text": [
            "0.4170 0.7203 0.0001 0.3023 0.1468 0.0923 0.1863 0.3456 0.3968 0.5388 0.4192 0.6852 0.2045 0.8781 0.0274 0.6705 0.4173 0.5587 0.1404 0.1981 "
          ]
        }
      ],
      "source": [
        "rnd.seed(1)\n",
        "for i in range(20):\n",
        "    print('%05.4f' % rnd.random(), end=' ')"
      ]
    },
    {
      "cell_type": "markdown",
      "metadata": {
        "id": "ToDwkYKVEkJR"
      },
      "source": [
        "If we now specify the `seed` again as 1, the exact same sequence is generated again."
      ]
    },
    {
      "cell_type": "code",
      "execution_count": 15,
      "metadata": {
        "colab": {
          "base_uri": "https://localhost:8080/"
        },
        "id": "sVuy9XquEkJR",
        "outputId": "7cf910ad-5898-44c9-f2e8-e6f9ded83e2b"
      },
      "outputs": [
        {
          "name": "stdout",
          "output_type": "stream",
          "text": [
            "0.4170 0.7203 0.0001 0.3023 0.1468 0.0923 0.1863 0.3456 0.3968 0.5388 0.4192 0.6852 0.2045 0.8781 0.0274 0.6705 0.4173 0.5587 0.1404 0.1981 "
          ]
        }
      ],
      "source": [
        "rnd.seed(1)\n",
        "for i in range(20):\n",
        "    print('%05.4f' % rnd.random(), end=' ')"
      ]
    },
    {
      "cell_type": "markdown",
      "metadata": {
        "id": "_eRdaKjmEkJR"
      },
      "source": [
        "#### The random.uniform() function\n",
        "The `random.uniform()` function generates numbers within a defined numeric range. Let's look at an example:"
      ]
    },
    {
      "cell_type": "code",
      "execution_count": 16,
      "metadata": {
        "colab": {
          "base_uri": "https://localhost:8080/"
        },
        "id": "QRpkfbvfEkJR",
        "outputId": "3af26e96-94dd-40e8-c996-a2c31efeb7b7"
      },
      "outputs": [
        {
          "name": "stdout",
          "output_type": "stream",
          "text": [
            "80.2737 96.8579 32.0290 69.5399 87.7625 89.5661 9.4194 4.8664 17.8132 87.9361 10.7363 42.6897 95.8311 53.7834 69.4958 32.2360 68.9636 83.6279 2.8105 75.2643 "
          ]
        }
      ],
      "source": [
        "for i in range(20):\n",
        "    print('%6.4f' % rnd.uniform(1, 100), end=' ')"
      ]
    },
    {
      "cell_type": "markdown",
      "metadata": {
        "id": "V_cONPrvEkJR"
      },
      "source": [
        "In the above example, 20 random numbers are generated in the range of [1,100)\n",
        "\n",
        "#### The random.randint() function\n",
        "This function generates random integers.  The arguments for `randint()` are the values of the range, including the extremes.  The numbers may be negative or positive, but the  1st value should be less than the second. Let's look at an example:"
      ]
    },
    {
      "cell_type": "code",
      "execution_count": 19,
      "metadata": {
        "colab": {
          "base_uri": "https://localhost:8080/"
        },
        "id": "L2-Mpp_uEkJR",
        "outputId": "d1bbe712-1aea-427a-af1d-d70c8c7cfb90"
      },
      "outputs": [
        {
          "name": "stdout",
          "output_type": "stream",
          "text": [
            "-97 28 -94 -48 98 -98 -24 49 -93 -23 -25 -24 -57 -80 -70 -64 3 -93 -55 96 "
          ]
        }
      ],
      "source": [
        "for i in range(20):\n",
        "    print(rnd.randint(-100, 100), end=' ')"
      ]
    },
    {
      "cell_type": "markdown",
      "metadata": {
        "id": "2tVKJscREkJR"
      },
      "source": [
        "In the above example, 20 random integer numbers are generated in the range of [-100,100]\n",
        "\n",
        "#### The random.choice() function\n",
        "A common use for random number generators is to select a random element from a sequence of enumerated values, even if these values are not numbers.  The `choice()` function returns a random element of the non-empty sequence passed as an argument. This function is suitable to use in extracting values from a predetermined list:"
      ]
    },
    {
      "cell_type": "code",
      "execution_count": 22,
      "metadata": {
        "colab": {
          "base_uri": "https://localhost:8080/"
        },
        "id": "0M2s3n0XEkJR",
        "outputId": "bbbbd9c4-f642-4a1e-b775-03355f2d9031"
      },
      "outputs": [
        {
          "name": "stdout",
          "output_type": "stream",
          "text": [
            "Randomly selected item from Cities list is -  Toronto\n",
            "Randomly selected item from Cities list is -  Berlin\n",
            "Randomly selected item from Cities list is -  Rome\n",
            "Randomly selected item from Cities list is -  New York\n",
            "Randomly selected item from Cities list is -  Tokio\n"
          ]
        }
      ],
      "source": [
        "CitiesList = ['Rome','New York','Algiers','London','Berlin','Moskov',\n",
        "'Los Angeles','Paris','Madrid','Tokio','Toronto']\n",
        "for i in range(5):\n",
        "    CitiesItem = rnd.choice(CitiesList)\n",
        "    print (\"Randomly selected item from Cities list is - \",CitiesItem)"
      ]
    },
    {
      "cell_type": "markdown",
      "metadata": {
        "id": "JjYAsLSwEkJR"
      },
      "source": [
        "In the above example, 5 random elements are selected from the sequence list CitiesList. At each iteration of the cycle, a new element is extracted from the list containingthe names of the cities.\n",
        "\n",
        "#### Selecting n random values from an array\n",
        "Many simulations require random samples from a population of input values.  The `size` option in the `choice()` function is for that purpose. Let's look at an example:"
      ]
    },
    {
      "cell_type": "code",
      "execution_count": 23,
      "metadata": {
        "colab": {
          "base_uri": "https://localhost:8080/"
        },
        "id": "vmkaLPLiEkJR",
        "outputId": "b79ecea0-5830-4be1-82be-f35dcd89b49e"
      },
      "outputs": [
        {
          "name": "stdout",
          "output_type": "stream",
          "text": [
            "Initial Data List =  range(10, 100, 10)\n",
            "Sample Data List =  [90 30 40 20 30]\n"
          ]
        }
      ],
      "source": [
        "DataList = range(10,100,10)\n",
        "print(\"Initial Data List = \",DataList)\n",
        "DataSample = rnd.choice(DataList,size=5)\n",
        "print(\"Sample Data List = \",DataSample)"
      ]
    },
    {
      "cell_type": "markdown",
      "metadata": {
        "id": "0XN2aODIEkJh"
      },
      "source": [
        "In the above example, only 5 elements of the initial list were selected, and this selection was completely random.\n",
        "### 2- Exploring Probability Distributions\n",
        "#### Uniform Distribution\n",
        "This distribution generates random values uniformly distributed over the half-open interval [a,b).\n",
        "Any value within the given interval is equally likely to be drawn by uniform distribution. Let's look at an example:"
      ]
    },
    {
      "cell_type": "code",
      "execution_count": 27,
      "metadata": {
        "colab": {
          "base_uri": "https://localhost:8080/",
          "height": 430
        },
        "id": "-zwIQOvTEkJh",
        "outputId": "51bad96d-1000-4776-d829-32a224b40d8a"
      },
      "outputs": [
        {
          "data": {
            "image/png": "[encoded data removed]",
            "text/plain": [
              "<Figure size 640x480 with 1 Axes>"
            ]
          },
          "metadata": {},
          "output_type": "display_data"
        }
      ],
      "source": [
        "#Initializing uniform distribution parameters\n",
        "a=1\n",
        "b=100\n",
        "N=100\n",
        "#Randomly generate 100 numbers between a and b\n",
        "#using uniform distribution\n",
        "X1=rnd.uniform(a,b,N)\n",
        "#Ploting X1 using matplotlib.pyplot library\n",
        "plt.plot(X1)\n",
        "plt.show()"
      ]
    },
    {
      "cell_type": "markdown",
      "metadata": {
        "id": "DQI5KuxuEkJh"
      },
      "source": [
        "Lets now analyze how the generated values are distributed in the interval considered. We draw a graph of the probability density function as follows:"
      ]
    },
    {
      "cell_type": "code",
      "execution_count": 28,
      "metadata": {
        "colab": {
          "base_uri": "https://localhost:8080/",
          "height": 430
        },
        "id": "l8Yng-4WEkJh",
        "outputId": "8094722b-7a53-4dc7-a608-2ce6520813c1"
      },
      "outputs": [
        {
          "data": {
            "image/png": "[encoded data removed]",
            "text/plain": [
              "<Figure size 640x480 with 1 Axes>"
            ]
          },
          "metadata": {},
          "output_type": "display_data"
        }
      ],
      "source": [
        "plt.figure()\n",
        "plt.hist(X1, density=True, histtype='stepfilled',\n",
        "alpha=0.2)\n",
        "plt.show()"
      ]
    },
    {
      "cell_type": "markdown",
      "metadata": {
        "id": "XOQIXtrDEkJh"
      },
      "source": [
        "Here, we can see that the generated values are distributed almost evenly throughout the range.\n",
        "Let's now see What happens if we increase the number of generated values?\n",
        "Then, we repeat the commands to generate up to 10000 random numbers uniformly distributed between 1 and 100."
      ]
    },
    {
      "cell_type": "code",
      "execution_count": 29,
      "metadata": {
        "colab": {
          "base_uri": "https://localhost:8080/",
          "height": 843
        },
        "id": "_M6WXcahEkJh",
        "outputId": "1b69ae6d-a41b-4196-d893-19eaa1ec292a"
      },
      "outputs": [
        {
          "data": {
            "image/png": "[encoded data removed]",
            "text/plain": [
              "<Figure size 640x480 with 1 Axes>"
            ]
          },
          "metadata": {},
          "output_type": "display_data"
        },
        {
          "data": {
            "image/png": "[encoded data removed]",
            "text/plain": [
              "<Figure size 640x480 with 1 Axes>"
            ]
          },
          "metadata": {},
          "output_type": "display_data"
        }
      ],
      "source": [
        "a=1\n",
        "b=100\n",
        "N=10000\n",
        "\n",
        "X2=rnd.uniform(a,b,N)\n",
        "plt.figure()\n",
        "plt.plot(X2)\n",
        "plt.show()\n",
        "\n",
        "plt.figure()\n",
        "plt.hist(X2, density=True, histtype='stepfilled',\n",
        "alpha=0.2)\n",
        "plt.show()"
      ]
    },
    {
      "cell_type": "markdown",
      "metadata": {
        "id": "yrgNJisbEkJh"
      },
      "source": [
        "Analyzing the previous histogram and comparing it with what we obtained in the case of N=100, we can see that this time, the distribution appears to be  flatter.  The distribution becomes more and more  flat as N increases.\n",
        "#### Binomial distribution\n",
        "The binomial distribution is the probability of obtaining $x$ successes in $t$ independent trials and is computed as follows:\n",
        "\n",
        "$p(x) =  \\binom{t}{x} p^t(1-p)^{t-x}, 0\\leq x \\leq t $\n",
        "where: $\\binom{t}{x}=\\frac{t!}{(t-p)!p!}$\n",
        "\n",
        "\n",
        "##### Example:\n",
        "<figure>\n",
        "  <IMG src=\"figures/one-dice.jpg\" WIDTH=100  ALIGN=\"right\">\n",
        "</figure>\n",
        "We throw a dice $10$ times and we want to study the binomial variable $x$= {number of times a number<= 3 cames out}.  The parameters of the problem are:\n",
        "<ol>\n",
        "   <li>  $t=10$ </li>\n",
        "   <li>  $p=3*\\frac{1}{6}=0.5$ </li>\n",
        "   <li> $q=1-p=0.5$ </li>\n",
        "</ol>\n",
        "\n",
        "Let's now simulate this experiment:"
      ]
    },
    {
      "cell_type": "code",
      "execution_count": 30,
      "metadata": {
        "colab": {
          "base_uri": "https://localhost:8080/",
          "height": 430
        },
        "id": "0jkQ-VHeEkJh",
        "outputId": "881c49ce-a6a0-4279-d274-a90e847eee37"
      },
      "outputs": [
        {
          "data": {
            "image/png": "[encoded data removed]",
            "text/plain": [
              "<Figure size 640x480 with 1 Axes>"
            ]
          },
          "metadata": {},
          "output_type": "display_data"
        }
      ],
      "source": [
        "#Initializing Binomial distribution parameters\n",
        "N = 1000\n",
        "t = 10\n",
        "p = 0.5\n",
        "#Generate the Binomial probability distribution\n",
        "#Then Plot\n",
        "P1 = rnd.binomial(t,p,N)\n",
        "plt.plot(P1)\n",
        "plt.show()"
      ]
    },
    {
      "cell_type": "markdown",
      "metadata": {
        "id": "CzJ0o7NaEkJh"
      },
      "source": [
        "We now evaluate the probability density function as follows:"
      ]
    },
    {
      "cell_type": "code",
      "execution_count": 31,
      "metadata": {
        "colab": {
          "base_uri": "https://localhost:8080/",
          "height": 430
        },
        "id": "O1NBu-GoEkJh",
        "outputId": "62cb3727-f56c-49c6-a462-d34021c3c323"
      },
      "outputs": [
        {
          "data": {
            "image/png": "[encoded data removed]",
            "text/plain": [
              "<Figure size 640x480 with 1 Axes>"
            ]
          },
          "metadata": {},
          "output_type": "display_data"
        }
      ],
      "source": [
        "plt.figure()\n",
        "plt.hist(P1, density=True, alpha=0.8, histtype='bar',\n",
        "color = 'green', ec='black')\n",
        "plt.show()"
      ]
    },
    {
      "cell_type": "markdown",
      "metadata": {
        "id": "fCS6IwLiEkJh"
      },
      "source": [
        "We can see that all the areas of the binomial distributions, that is, the sum of the rectangles, being the sum of probability, are worth 1.\n",
        "\n",
        "#### Normal distribution\n",
        "The normal distribution is the most used continuous distribution in statistics. Recall that the probability density distribution of the normal distribution is given as follows:\n",
        "\n",
        "$f(x)=\\frac{1}{\\sqrt{2\\pi\\sigma^2}}e^{-(x-\\mu)^2/2\\sigma^2}$\n",
        "\n",
        "##### Example:\n",
        "The average height of $18$-year old boys of $1000$ boys is normally distributed with a mean of $180$ cm and a standard deviation of $7$ cm. The parameters of the problem are:\n",
        "<ol>\n",
        "   <li>  $\\mu=180$ </li>\n",
        "   <li>  $\\sigma=7$ </li>\n",
        "</ol>\n",
        "\n",
        "Now, let’s generate a normal distribution and evaluate the probability density function with Python code as follows"
      ]
    },
    {
      "cell_type": "code",
      "execution_count": 43,
      "metadata": {
        "colab": {
          "base_uri": "https://localhost:8080/",
          "height": 673
        },
        "id": "o5LxgSYqEkJh",
        "outputId": "48d47fc7-fda5-41e5-aeec-2744349597f9"
      },
      "outputs": [
        {
          "data": {
            "image/png": "[encoded data removed]",
            "text/plain": [
              "<Figure size 640x480 with 1 Axes>"
            ]
          },
          "metadata": {},
          "output_type": "display_data"
        }
      ],
      "source": [
        "import numpy as np\n",
        "import matplotlib.pyplot as plt\n",
        "import seaborn as sns\n",
        "#Initializing Normal distribution parameters \n",
        "mu = 180\n",
        "sigma =7\n",
        "N=1000\n",
        "#Generate the Normal probability distribution\n",
        "P1 = rnd.normal(mu, sigma, N)\n",
        "#Then Plot\n",
        "plt.figure()\n",
        "\n",
        "sns.histplot(P1, kde=True)\n",
        "plt.show()"
      ]
    },
    {
      "cell_type": "markdown",
      "metadata": {
        "id": "tCLVgpqnEkJh"
      },
      "source": [
        "We can see that the distribution of the 1000 samples populations follow a normal distribution as ploted by `sns.distplot()` function"
      ]
    },
    {
      "cell_type": "markdown",
      "metadata": {
        "id": "ytORZuPEEkJh"
      },
      "source": [
        "## Approximating Probability throught Simulation\n",
        "### Flipping a coin\n",
        " Let's flip a coin $n$ times and computes the probability via simulation by counting the number of heads (0) and the number of tails (1). Note that the theoritical probability of getting a head or tail when flipping a coin is $p(x=0)=p(x=1)=0.5$.To compute the probability via simulation, we apply the relative frequency and probability concept seen in the course:\n",
        " $f(E)=\\frac{v}{n}\\cong P(E)$.\n",
        " Where $v$ is number of the times the event $E$ occurred and $n$ the number of tests carried out"
      ]
    },
    {
      "cell_type": "code",
      "execution_count": 25,
      "metadata": {
        "colab": {
          "base_uri": "https://localhost:8080/",
          "height": 486
        },
        "id": "utXAePwEEkJh",
        "outputId": "c386ff56-8160-425d-b88b-3a0629863f87"
      },
      "outputs": [
        {
          "name": "stdout",
          "output_type": "stream",
          "text": [
            "outcome 0 is 55 with probability=0.55\n",
            "outcome 1 is 45 with probability=0.45\n"
          ]
        },
        {
          "data": {
            "image/png": "[encoded data removed]",
            "text/plain": [
              "<Figure size 640x480 with 1 Axes>"
            ]
          },
          "metadata": {},
          "output_type": "display_data"
        }
      ],
      "source": [
        "rnd.seed(10)\n",
        "n=100\n",
        "flip = rnd.randint(0, 2, n)\n",
        "\n",
        "outcomes = np.zeros(2, dtype='int') # Two outcomes. heads are stored in outcome[0], tails in outcome[1]\n",
        "for i in range (2):\n",
        "    outcomes[i] = np.count_nonzero(flip == i)\n",
        "    print(f'outcome {i} is {outcomes[i]} with probability={outcomes[i]/n}')\n",
        "\n",
        "plt.bar(range(0, 2), outcomes/n)\n",
        "plt.xticks(range(0, 2))\n",
        "plt.xlabel('Probability of Head/tails')\n",
        "plt.ylabel('occurence in '+str(n)+' trials');"
      ]
    },
    {
      "cell_type": "markdown",
      "metadata": {
        "id": "pAho_30rEkJh"
      },
      "source": [
        "Now let's increase the numner of experiments and plot the probability simulation results"
      ]
    },
    {
      "cell_type": "code",
      "execution_count": 26,
      "metadata": {
        "colab": {
          "base_uri": "https://localhost:8080/",
          "height": 468
        },
        "id": "T4Qji7voEkJh",
        "outputId": "daa9218a-d86b-42ce-e218-8a8a4036e825"
      },
      "outputs": [
        {
          "data": {
            "text/plain": [
              "<matplotlib.legend.Legend at 0x7d52e06f43d0>"
            ]
          },
          "execution_count": 26,
          "metadata": {},
          "output_type": "execute_result"
        },
        {
          "data": {
            "image/png": "[encoded data removed]",
            "text/plain": [
              "<Figure size 640x480 with 1 Axes>"
            ]
          },
          "metadata": {},
          "output_type": "display_data"
        }
      ],
      "source": [
        "experiments=np.arange(100, 100001, 100)\n",
        "\n",
        "outcomes_head=np.zeros(len(experiments))\n",
        "outcomes_tail=np.zeros(len(experiments))\n",
        "\n",
        "\n",
        "\n",
        "\n",
        "rnd.seed(10)\n",
        "i=0\n",
        "for n in experiments:\n",
        "    flip = rnd.randint(0, 2, n)\n",
        "    outcomes_head[i] = np.count_nonzero(flip == 0)/n\n",
        "    outcomes_tail[i] = np.count_nonzero(flip == 1)/n\n",
        "    i=i+1\n",
        "\n",
        "\n",
        "plt.plot(experiments, outcomes_head,label='Simulation (Head)')\n",
        "plt.plot(experiments, outcomes_tail,label='Simulation (Tail)')\n",
        "plt.hlines(y = 0.5, xmin = experiments[0], xmax = experiments[-1],colors=\"black\",label='Theoritical')\n",
        "plt.xlabel('Itteration $n$')\n",
        "plt.ylabel('Probability');\n",
        "plt.legend()"
      ]
    },
    {
      "cell_type": "markdown",
      "metadata": {
        "id": "3cjOrrtKEkJn"
      },
      "source": [
        "We can see that the probability computed by simulation eventually converges to the true value as more experiments are conducted."
      ]
    },
    {
      "cell_type": "markdown",
      "metadata": {
        "id": "WJK2vdFYEkJn"
      },
      "source": [
        "## Challenges\n",
        "### Challenge 5: Birth Weight of New Born Babies\n",
        "The birth weight (in kilograms) of the $3.226$ new born babies is normally distributed with a mean of $3.39$ klg and a standard deviation of $0.55$ klg.\n",
        "Define your problem parameters.\n",
        "Generate the normal distribution and evaluate the probability density function."
      ]
    },
    {
      "cell_type": "code",
      "execution_count": 27,
      "metadata": {
        "id": "NC8mg3OUEkJn"
      },
      "outputs": [],
      "source": [
        "#Your code here"
      ]
    },
    {
      "cell_type": "markdown",
      "metadata": {
        "id": "xyc_1HV0EkJn"
      },
      "source": [
        "### Challenge 6: Crime Survey\n",
        "An FBI survey of 1000 reports shows that about 80% of all property crimes go unsolved. Suppose that in your town 3 such crimes are committed and they are each deemed independent of each other.\n",
        "<ol>\n",
        "  <li>Simulate this experiement and evaluate the probability density function</li>\n",
        "  <li>Compute the probability that 1 of 3 of these crimes will be solved?</li>\n",
        "</ol>\n",
        "\n",
        "#### Hint\n",
        "The problem above follows a binomial distribution since the following conditions are satisfied:\n",
        "<ul>\n",
        "  <li>Does it satisfy a fixed number of trials? YES the number of trials is fixed at 3 </li>\n",
        "  <li>Does it have only 2 outcomes? YES (Solved and unsolved)</li>\n",
        "  <li>Do all the trials have the same probability of success? YES (p = (100%-80%)=0.2)</li>\n",
        "</ul>\n"
      ]
    },
    {
      "cell_type": "code",
      "execution_count": 28,
      "metadata": {
        "id": "xgaFrga0EkJn"
      },
      "outputs": [],
      "source": [
        "#Your code here"
      ]
    },
    {
      "cell_type": "markdown",
      "metadata": {
        "id": "p-LOxNmgEkJn"
      },
      "source": [
        " ### Challenge 7: Throwing a dice\n",
        "Using the 1st code in the above experiment (Flipping a coin),  throw a dice with $n=100$ times and report how many times you throw $1, 2, 3, 4, 5,$ and $6$. Use a seed of $33$. Make sure that the reported values add up to $100$. What is the theoritical probability of each event."
      ]
    },
    {
      "cell_type": "code",
      "execution_count": 29,
      "metadata": {
        "id": "UEzBUmM9EkJn"
      },
      "outputs": [],
      "source": [
        "#Your code here"
      ]
    },
    {
      "cell_type": "markdown",
      "metadata": {
        "id": "KInH4IfVEkJn"
      },
      "source": [
        "Now Using the 2nd code in the Flipping a coin experiment, plot the probability simulation results and compare it with the theoritical probability."
      ]
    },
    {
      "cell_type": "code",
      "execution_count": 30,
      "metadata": {
        "id": "L4gD81IYEkJn"
      },
      "outputs": [],
      "source": [
        "#Your code here"
      ]
    },
    {
      "cell_type": "markdown",
      "metadata": {
        "id": "rbN-Gb8bEkJn"
      },
      "source": [
        "### Challenge 8: Drawing balls from a box\n",
        "Suppose there are 12 balls in a box: 4 black, 4 red, and 4 blue. We want to make a program that draws n balls at random from the box. It is natural to represent the collection of balls as a list. Each list element can be an integer 1, 2, or 3, since we have 3 different types of balls, but it would be easier to work with the program if the balls could have a color instead of an integer number. This is easily accomplished by defining color names (See `new_box()` function below). Drawing a ball at random is performed by the `draw_ball()` function. Similarly, drawing n balls can be performed using the `draw_n_balls()` function."
      ]
    },
    {
      "cell_type": "code",
      "execution_count": 31,
      "metadata": {
        "id": "5oktHSVEEkJn"
      },
      "outputs": [],
      "source": [
        "import numpy.random as rnd\n",
        "\n",
        "def new_box():\n",
        "    colors = 'black', 'red', 'blue'   # (tuple of strings)\n",
        "    box = []\n",
        "    for color in colors:\n",
        "        for i in range(4):\n",
        "            box.append(color)\n",
        "    return box\n",
        "\n",
        "def draw_ball(box):\n",
        "    color = rnd.choice(box)\n",
        "    box.remove(color)\n",
        "    return color, box\n",
        "\n",
        "def draw_n_balls(box,n):\n",
        "# Draw n balls from the box\n",
        "    balls = []\n",
        "    for i in range(n):\n",
        "        color, box = draw_ball(box)\n",
        "        balls.append(color)\n",
        "    return balls\n"
      ]
    },
    {
      "cell_type": "markdown",
      "metadata": {
        "id": "V1fvSxEbEkJn"
      },
      "source": [
        "#### Question\n",
        "Now, we ask you to compute the probability of drawing 2 or more black balls from that box via experiemntal simulation. To do so, perform `N` experiments, count how many times `M` you get 2 or more black balls, and estimate the probability as `M/N`. Each experiment consists of making the box list, drawing a number of balls, and counting how many black balls we got. The latter task is easy with the count method in list objects: `box.count('black')` counts how many elements with value 'black' we have in the list box.\n",
        "Given:\n",
        "<ul>\n",
        "  <li>n as how  many balls are to be drawn? </li>\n",
        "  <li>N as how many experiments?</li>\n",
        "</ul>\n",
        " Write a python program using the functions defined just above to compute the required probability.\n",
        " Run your program with n=5 (drawing 5 balls each time) and N=4000 and reports the probability result.\n",
        " Try with other n values and report what differs from the obtained results."
      ]
    },
    {
      "cell_type": "code",
      "execution_count": 32,
      "metadata": {
        "colab": {
          "base_uri": "https://localhost:8080/"
        },
        "id": "RwNf4RAcEkJn",
        "outputId": "951602b3-bf28-497a-bd5f-23ae932aaa0e"
      },
      "outputs": [
        {
          "name": "stdout",
          "output_type": "stream",
          "text": [
            "Probability:0.00\n"
          ]
        }
      ],
      "source": [
        "n = 2\n",
        "N = 4000\n",
        "\n",
        "prob=0\n",
        "#complete your code here to compute and print the prob\n",
        "#.......\n",
        "print ('Probability:' \"{:.2f}\".format(prob))"
      ]
    },
    {
      "cell_type": "markdown",
      "metadata": {
        "id": "9Ha-yzrzEkJn"
      },
      "source": [
        "## Simulating Synthetic Data using Probability Distributions\n",
        "Synthetic data is computer-generated data that is similar to real-world data. The primary purpose of synthetics data is to increase the privacy and integrity of systems. For example, to protect the Personally Identifiable Information (PII) or Personal Health Information (PHI) of the users, companies have to implement data protection strategies. Using synthetic data can help companies test new applications and protect user privacy.\n",
        "\n",
        "For this purpose, We will use the Python Faker library. Faker is an open-source Python package used to simulate a fake dataset for application testing, bootstrapping the database, and maintaining user anonymity.\n",
        "To learn about more advanced functions, check out the Faker documentation (https://faker.readthedocs.io/en/master/fakerclass.html)."
      ]
    },
    {
      "cell_type": "code",
      "execution_count": 3,
      "metadata": {
        "colab": {
          "base_uri": "https://localhost:8080/"
        },
        "id": "MBkAI_ZVEkJn",
        "outputId": "c98723f9-77a8-4cfc-fc30-2f93e478f2af"
      },
      "outputs": [
        {
          "name": "stdout",
          "output_type": "stream",
          "text": [
            "Collecting Faker\n",
            "  Downloading Faker-36.1.1-py3-none-any.whl (1.9 MB)\n",
            "Collecting tzdata\n",
            "  Downloading tzdata-2025.1-py2.py3-none-any.whl (346 kB)\n",
            "Installing collected packages: tzdata, Faker\n",
            "Successfully installed Faker-36.1.1 tzdata-2025.1\n",
            "Note: you may need to restart the kernel to use updated packages.\n"
          ]
        }
      ],
      "source": [
        "%pip install Faker"
      ]
    },
    {
      "cell_type": "code",
      "execution_count": 1,
      "metadata": {
        "colab": {
          "base_uri": "https://localhost:8080/"
        },
        "id": "mbvnT51HEkJn",
        "outputId": "cacfb176-e37e-4ed4-d73a-2547da360dc8"
      },
      "outputs": [
        {
          "name": "stdout",
          "output_type": "stream",
          "text": [
            "Requirement already satisfied: pandas in c:\\users\\user\\anaconda3\\lib\\site-packages (1.4.2)Note: you may need to restart the kernel to use updated packages.\n",
            "\n",
            "Requirement already satisfied: pytz>=2020.1 in c:\\users\\user\\anaconda3\\lib\\site-packages (from pandas) (2021.3)\n",
            "Requirement already satisfied: python-dateutil>=2.8.1 in c:\\users\\user\\anaconda3\\lib\\site-packages (from pandas) (2.8.2)\n",
            "Requirement already satisfied: numpy>=1.18.5 in c:\\users\\user\\anaconda3\\lib\\site-packages (from pandas) (1.21.5)\n",
            "Requirement already satisfied: six>=1.5 in c:\\users\\user\\anaconda3\\lib\\site-packages (from python-dateutil>=2.8.1->pandas) (1.16.0)\n"
          ]
        }
      ],
      "source": [
        "%pip install pandas"
      ]
    },
    {
      "cell_type": "markdown",
      "metadata": {
        "id": "3h-ZSOYEEkJn"
      },
      "source": [
        "Faker comes with command line support, Pytest fixtures, Localization (support different regions), reproducibility, and dynamic provider (customizing it to your needs).\n",
        "You can also use Faker's basic functionalities to create a quick dataset and customize it to your needs. In the table below, you can check various Faker functions and the purpose.\n",
        "\n",
        "| Faker Function  | Purpose                                       |\n",
        "|-----------------|-----------------------------------------------|\n",
        "| name()          | Generates fake full name                      |\n",
        "| credit_card_full() | Generates credit card number with expiry and CVV |\n",
        "| email()         | Generates fake email address                   |\n",
        "| url()           | Generate fake URL                              |\n",
        "| phone_number()  | Generates fake phone number with country code  |\n",
        "| address()       | Generates fake full address                    |\n",
        "| license_plate() | Generates fake license plate                   |\n",
        "| currency()      | Generate tuple of currency code and full form  |\n",
        "| color_name()    | Generate random color name                     |\n",
        "| local_latlng()  | Generate latitude, longitude, area, country, and states |\n",
        "| domain_name()   | Generate the fake website based on fake person name |\n",
        "| text()          | Generate the fake small text                   |\n",
        "| company()       | Generate fake company name                     |\n",
        "\n",
        "\n",
        "\n",
        "\n"
      ]
    },
    {
      "cell_type": "markdown",
      "metadata": {
        "id": "YNE5BR4XEkJn"
      },
      "source": [
        "### Synthetic Data Simulation Examples\n",
        "In this section, we will use Python Faker to simulate synthetics data. It consists of an example of how you can use `Faker` for various tasks. The main goal is to develop a privacy-centric approach for testing systems.\n",
        "\n",
        "First, we will initiate a fake generator using `Faker()`. By default, it is using the `en_US` locale."
      ]
    },
    {
      "cell_type": "code",
      "execution_count": 4,
      "metadata": {
        "id": "2JuwNuY_EkJn"
      },
      "outputs": [],
      "source": [
        "from faker import Faker\n",
        "fake = Faker()"
      ]
    },
    {
      "cell_type": "markdown",
      "metadata": {
        "id": "ecgZbVOWEkJn"
      },
      "source": [
        "#### Example:\n",
        "In this example, we will create a pandas dataframe that contains fake data.\n",
        "\n",
        "- Create empty pandas dataframe (data)\n",
        "- Pass it through x number of loops to create multiple rows\n",
        "- Use  prebuilt  functions such as `random_int()`, `name()`, `address()`, `latitude()`, and `longitude()`  to generate the columns accordingley.\n",
        "- Use `uniform()` prebult random function to generate the `Weight` feature.\n",
        "- Run the `input_data()` function with n_rows=50"
      ]
    },
    {
      "cell_type": "code",
      "execution_count": 6,
      "metadata": {
        "colab": {
          "base_uri": "https://localhost:8080/",
          "height": 1000
        },
        "id": "nVYrwm2SEkJn",
        "outputId": "7909945f-69cb-4daf-88c0-8610564a50f3"
      },
      "outputs": [
        {
          "data": {
            "text/html": [
              "<div>\n",
              "<style scoped>\n",
              "    .dataframe tbody tr th:only-of-type {\n",
              "        vertical-align: middle;\n",
              "    }\n",
              "\n",
              "    .dataframe tbody tr th {\n",
              "        vertical-align: top;\n",
              "    }\n",
              "\n",
              "    .dataframe thead th {\n",
              "        text-align: right;\n",
              "    }\n",
              "</style>\n",
              "<table border=\"1\" class=\"dataframe\">\n",
              "  <thead>\n",
              "    <tr style=\"text-align: right;\">\n",
              "      <th></th>\n",
              "      <th>name</th>\n",
              "      <th>age</th>\n",
              "      <th>Weight</th>\n",
              "      <th>address</th>\n",
              "      <th>latitude</th>\n",
              "      <th>longitude</th>\n",
              "    </tr>\n",
              "  </thead>\n",
              "  <tbody>\n",
              "    <tr>\n",
              "      <th>0</th>\n",
              "      <td>Joshua Pena</td>\n",
              "      <td>98.0</td>\n",
              "      <td>81.046001</td>\n",
              "      <td>346 Chavez Mountains Suite 058\\nBlackwellbury,...</td>\n",
              "      <td>68.3493685</td>\n",
              "      <td>83.570145</td>\n",
              "    </tr>\n",
              "    <tr>\n",
              "      <th>1</th>\n",
              "      <td>Christopher Johnson</td>\n",
              "      <td>24.0</td>\n",
              "      <td>75.814022</td>\n",
              "      <td>436 Adams Views\\nWest Dianafurt, LA 25651</td>\n",
              "      <td>64.3449365</td>\n",
              "      <td>103.825490</td>\n",
              "    </tr>\n",
              "    <tr>\n",
              "      <th>2</th>\n",
              "      <td>Mrs. Melissa Tran</td>\n",
              "      <td>45.0</td>\n",
              "      <td>65.004626</td>\n",
              "      <td>1733 Campbell Points Suite 514\\nMatthewborough...</td>\n",
              "      <td>-41.8038075</td>\n",
              "      <td>-143.697172</td>\n",
              "    </tr>\n",
              "    <tr>\n",
              "      <th>3</th>\n",
              "      <td>Angela Fuentes</td>\n",
              "      <td>90.0</td>\n",
              "      <td>99.596537</td>\n",
              "      <td>USS Bell\\nFPO AP 89739</td>\n",
              "      <td>68.213185</td>\n",
              "      <td>22.303057</td>\n",
              "    </tr>\n",
              "    <tr>\n",
              "      <th>4</th>\n",
              "      <td>Dakota Vance</td>\n",
              "      <td>46.0</td>\n",
              "      <td>80.878601</td>\n",
              "      <td>66903 Herrera Squares Apt. 159\\nClaudiatown, P...</td>\n",
              "      <td>54.686146</td>\n",
              "      <td>-15.800889</td>\n",
              "    </tr>\n",
              "    <tr>\n",
              "      <th>5</th>\n",
              "      <td>Carmen Davis</td>\n",
              "      <td>60.0</td>\n",
              "      <td>84.411979</td>\n",
              "      <td>20262 Montes Court Apt. 404\\nLisatown, AZ 39861</td>\n",
              "      <td>-10.175715</td>\n",
              "      <td>-122.657158</td>\n",
              "    </tr>\n",
              "    <tr>\n",
              "      <th>6</th>\n",
              "      <td>Susan Carpenter</td>\n",
              "      <td>22.0</td>\n",
              "      <td>67.632905</td>\n",
              "      <td>89610 Cody River\\nNorth Shelleyside, TX 80784</td>\n",
              "      <td>29.5869545</td>\n",
              "      <td>160.566948</td>\n",
              "    </tr>\n",
              "    <tr>\n",
              "      <th>7</th>\n",
              "      <td>Danielle Lin</td>\n",
              "      <td>90.0</td>\n",
              "      <td>79.306192</td>\n",
              "      <td>780 Carolyn Common\\nJessicafurt, OK 34378</td>\n",
              "      <td>58.4041915</td>\n",
              "      <td>92.108636</td>\n",
              "    </tr>\n",
              "    <tr>\n",
              "      <th>8</th>\n",
              "      <td>Timothy Rodriguez</td>\n",
              "      <td>67.0</td>\n",
              "      <td>83.982275</td>\n",
              "      <td>2199 Scott Fields Suite 801\\nHenryville, AL 48406</td>\n",
              "      <td>27.7960695</td>\n",
              "      <td>-68.303589</td>\n",
              "    </tr>\n",
              "    <tr>\n",
              "      <th>9</th>\n",
              "      <td>Anthony Greer</td>\n",
              "      <td>21.0</td>\n",
              "      <td>83.485231</td>\n",
              "      <td>5782 Cory Mount Suite 514\\nPort Dale, MT 76769</td>\n",
              "      <td>-10.329071</td>\n",
              "      <td>-164.408883</td>\n",
              "    </tr>\n",
              "    <tr>\n",
              "      <th>10</th>\n",
              "      <td>Jamie Wilson</td>\n",
              "      <td>74.0</td>\n",
              "      <td>69.754598</td>\n",
              "      <td>6277 Michael Throughway\\nNorth Vincentstad, NE...</td>\n",
              "      <td>-89.7366605</td>\n",
              "      <td>30.010665</td>\n",
              "    </tr>\n",
              "    <tr>\n",
              "      <th>11</th>\n",
              "      <td>Keith Mcgrath</td>\n",
              "      <td>41.0</td>\n",
              "      <td>88.659224</td>\n",
              "      <td>Unit 4562 Box 2707\\nDPO AA 30410</td>\n",
              "      <td>-73.818617</td>\n",
              "      <td>-123.312060</td>\n",
              "    </tr>\n",
              "    <tr>\n",
              "      <th>12</th>\n",
              "      <td>Tammy Walsh</td>\n",
              "      <td>21.0</td>\n",
              "      <td>66.696354</td>\n",
              "      <td>1682 Ashley Drive\\nNew Nancy, NH 33661</td>\n",
              "      <td>36.2458415</td>\n",
              "      <td>-21.496736</td>\n",
              "    </tr>\n",
              "    <tr>\n",
              "      <th>13</th>\n",
              "      <td>Kristy Carter</td>\n",
              "      <td>71.0</td>\n",
              "      <td>97.407881</td>\n",
              "      <td>6362 Morgan Ports Apt. 344\\nBrownport, NY 73771</td>\n",
              "      <td>4.491059</td>\n",
              "      <td>139.203365</td>\n",
              "    </tr>\n",
              "    <tr>\n",
              "      <th>14</th>\n",
              "      <td>Robert Yu</td>\n",
              "      <td>42.0</td>\n",
              "      <td>99.928271</td>\n",
              "      <td>07836 Rodriguez Lights\\nSouth Jennifer, AR 50151</td>\n",
              "      <td>-43.583752</td>\n",
              "      <td>82.485135</td>\n",
              "    </tr>\n",
              "    <tr>\n",
              "      <th>15</th>\n",
              "      <td>Bill Torres</td>\n",
              "      <td>97.0</td>\n",
              "      <td>66.767797</td>\n",
              "      <td>Unit 2628 Box 3955\\nDPO AA 96825</td>\n",
              "      <td>-19.633471</td>\n",
              "      <td>4.420950</td>\n",
              "    </tr>\n",
              "    <tr>\n",
              "      <th>16</th>\n",
              "      <td>Dustin Young</td>\n",
              "      <td>70.0</td>\n",
              "      <td>65.489080</td>\n",
              "      <td>USNS Jimenez\\nFPO AP 74245</td>\n",
              "      <td>-79.4839805</td>\n",
              "      <td>-51.312770</td>\n",
              "    </tr>\n",
              "    <tr>\n",
              "      <th>17</th>\n",
              "      <td>Lisa Walker</td>\n",
              "      <td>25.0</td>\n",
              "      <td>60.180592</td>\n",
              "      <td>132 Cardenas Mall\\nElizabethfurt, OR 97692</td>\n",
              "      <td>-32.2142845</td>\n",
              "      <td>-151.591323</td>\n",
              "    </tr>\n",
              "    <tr>\n",
              "      <th>18</th>\n",
              "      <td>Dawn Warner</td>\n",
              "      <td>97.0</td>\n",
              "      <td>73.613201</td>\n",
              "      <td>49069 Long Hills Suite 169\\nPort Gregory, PA 3...</td>\n",
              "      <td>7.0969025</td>\n",
              "      <td>-79.953842</td>\n",
              "    </tr>\n",
              "    <tr>\n",
              "      <th>19</th>\n",
              "      <td>Jennifer Barton</td>\n",
              "      <td>33.0</td>\n",
              "      <td>98.762658</td>\n",
              "      <td>424 Bonnie Shoal\\nDonnafort, GA 25649</td>\n",
              "      <td>-30.971202</td>\n",
              "      <td>46.091725</td>\n",
              "    </tr>\n",
              "    <tr>\n",
              "      <th>20</th>\n",
              "      <td>Jessica Garza</td>\n",
              "      <td>47.0</td>\n",
              "      <td>91.936786</td>\n",
              "      <td>6062 Church Harbors\\nNorth Bryanport, UT 22301</td>\n",
              "      <td>-82.767591</td>\n",
              "      <td>49.525837</td>\n",
              "    </tr>\n",
              "    <tr>\n",
              "      <th>21</th>\n",
              "      <td>Matthew Pruitt</td>\n",
              "      <td>73.0</td>\n",
              "      <td>75.574269</td>\n",
              "      <td>71849 Edwards Causeway Apt. 572\\nPatriciashire...</td>\n",
              "      <td>-3.896913</td>\n",
              "      <td>103.724170</td>\n",
              "    </tr>\n",
              "    <tr>\n",
              "      <th>22</th>\n",
              "      <td>Catherine Snyder</td>\n",
              "      <td>92.0</td>\n",
              "      <td>84.693634</td>\n",
              "      <td>53828 Simmons Street Apt. 005\\nSouth Jessica, ...</td>\n",
              "      <td>41.524740</td>\n",
              "      <td>-63.271579</td>\n",
              "    </tr>\n",
              "    <tr>\n",
              "      <th>23</th>\n",
              "      <td>Jonathan Luna</td>\n",
              "      <td>58.0</td>\n",
              "      <td>78.200182</td>\n",
              "      <td>648 Adam Harbor\\nVeronicaberg, UT 17702</td>\n",
              "      <td>-27.7716895</td>\n",
              "      <td>124.567241</td>\n",
              "    </tr>\n",
              "    <tr>\n",
              "      <th>24</th>\n",
              "      <td>Frank Patton DDS</td>\n",
              "      <td>75.0</td>\n",
              "      <td>82.316966</td>\n",
              "      <td>72024 Shawn Way\\nWendystad, WI 65662</td>\n",
              "      <td>-45.314641</td>\n",
              "      <td>-29.278007</td>\n",
              "    </tr>\n",
              "    <tr>\n",
              "      <th>25</th>\n",
              "      <td>Ashley Cummings</td>\n",
              "      <td>43.0</td>\n",
              "      <td>86.612055</td>\n",
              "      <td>82583 Ward Coves Suite 510\\nHoffmanhaven, VT 8...</td>\n",
              "      <td>79.4200025</td>\n",
              "      <td>146.851717</td>\n",
              "    </tr>\n",
              "    <tr>\n",
              "      <th>26</th>\n",
              "      <td>Joshua Lawrence</td>\n",
              "      <td>35.0</td>\n",
              "      <td>94.452624</td>\n",
              "      <td>68001 Christine Rest\\nBeckhaven, WA 57893</td>\n",
              "      <td>-51.9926205</td>\n",
              "      <td>83.700554</td>\n",
              "    </tr>\n",
              "    <tr>\n",
              "      <th>27</th>\n",
              "      <td>Anna Gibbs</td>\n",
              "      <td>26.0</td>\n",
              "      <td>62.628755</td>\n",
              "      <td>0009 Amy Run Suite 494\\nPort Meganville, MO 14340</td>\n",
              "      <td>-47.126065</td>\n",
              "      <td>93.487065</td>\n",
              "    </tr>\n",
              "    <tr>\n",
              "      <th>28</th>\n",
              "      <td>Ashley Grant</td>\n",
              "      <td>19.0</td>\n",
              "      <td>78.834365</td>\n",
              "      <td>157 Schneider Forks Apt. 528\\nJosephberg, CT 0...</td>\n",
              "      <td>8.427415</td>\n",
              "      <td>120.661791</td>\n",
              "    </tr>\n",
              "    <tr>\n",
              "      <th>29</th>\n",
              "      <td>Bryan Peck</td>\n",
              "      <td>68.0</td>\n",
              "      <td>83.463274</td>\n",
              "      <td>730 Joshua Oval Apt. 699\\nLeonberg, AS 08123</td>\n",
              "      <td>-77.9004455</td>\n",
              "      <td>14.432914</td>\n",
              "    </tr>\n",
              "    <tr>\n",
              "      <th>30</th>\n",
              "      <td>Tristan Cherry</td>\n",
              "      <td>87.0</td>\n",
              "      <td>79.266041</td>\n",
              "      <td>419 Sean Ridge\\nSouth Aaronbury, NE 44147</td>\n",
              "      <td>40.863266</td>\n",
              "      <td>89.114859</td>\n",
              "    </tr>\n",
              "    <tr>\n",
              "      <th>31</th>\n",
              "      <td>Miss Cassidy Campbell</td>\n",
              "      <td>20.0</td>\n",
              "      <td>68.198638</td>\n",
              "      <td>742 Melody Oval\\nLake Justin, IN 41399</td>\n",
              "      <td>-23.9132435</td>\n",
              "      <td>-66.369190</td>\n",
              "    </tr>\n",
              "    <tr>\n",
              "      <th>32</th>\n",
              "      <td>John Martinez</td>\n",
              "      <td>65.0</td>\n",
              "      <td>63.098594</td>\n",
              "      <td>24763 Lance Expressway Suite 156\\nSusanfurt, W...</td>\n",
              "      <td>76.4669685</td>\n",
              "      <td>-142.112908</td>\n",
              "    </tr>\n",
              "    <tr>\n",
              "      <th>33</th>\n",
              "      <td>Jason Blackburn</td>\n",
              "      <td>72.0</td>\n",
              "      <td>66.631014</td>\n",
              "      <td>92539 Michele Ports Apt. 050\\nTrevinoport, AZ ...</td>\n",
              "      <td>70.9976325</td>\n",
              "      <td>-67.149280</td>\n",
              "    </tr>\n",
              "    <tr>\n",
              "      <th>34</th>\n",
              "      <td>Melissa Smith</td>\n",
              "      <td>79.0</td>\n",
              "      <td>97.664944</td>\n",
              "      <td>237 Anthony Walks\\nJohnsonview, MN 76445</td>\n",
              "      <td>-5.6143185</td>\n",
              "      <td>136.204518</td>\n",
              "    </tr>\n",
              "    <tr>\n",
              "      <th>35</th>\n",
              "      <td>Olivia Meyer</td>\n",
              "      <td>26.0</td>\n",
              "      <td>60.278980</td>\n",
              "      <td>81693 Jessica Valleys Apt. 330\\nNew Jennystad,...</td>\n",
              "      <td>-74.775794</td>\n",
              "      <td>-149.606645</td>\n",
              "    </tr>\n",
              "    <tr>\n",
              "      <th>36</th>\n",
              "      <td>Linda Hernandez</td>\n",
              "      <td>64.0</td>\n",
              "      <td>66.599396</td>\n",
              "      <td>81983 Timothy Village Apt. 359\\nEast Angela, V...</td>\n",
              "      <td>-7.6691365</td>\n",
              "      <td>-67.242728</td>\n",
              "    </tr>\n",
              "    <tr>\n",
              "      <th>37</th>\n",
              "      <td>Shawn Thomas</td>\n",
              "      <td>20.0</td>\n",
              "      <td>77.800284</td>\n",
              "      <td>826 Chavez Forks\\nNorth Kenneth, VI 54103</td>\n",
              "      <td>9.326919</td>\n",
              "      <td>102.974864</td>\n",
              "    </tr>\n",
              "    <tr>\n",
              "      <th>38</th>\n",
              "      <td>Daniel Pierce</td>\n",
              "      <td>82.0</td>\n",
              "      <td>66.822580</td>\n",
              "      <td>7290 Darryl Mission\\nChadborough, NY 91297</td>\n",
              "      <td>70.1337425</td>\n",
              "      <td>29.846216</td>\n",
              "    </tr>\n",
              "    <tr>\n",
              "      <th>39</th>\n",
              "      <td>Darrell Stevens</td>\n",
              "      <td>23.0</td>\n",
              "      <td>70.485564</td>\n",
              "      <td>762 Hester Way\\nPort Michael, AK 80219</td>\n",
              "      <td>83.757678</td>\n",
              "      <td>-85.277974</td>\n",
              "    </tr>\n",
              "    <tr>\n",
              "      <th>40</th>\n",
              "      <td>Patricia Smith</td>\n",
              "      <td>76.0</td>\n",
              "      <td>76.326991</td>\n",
              "      <td>142 Dalton Lodge Apt. 699\\nJamesborough, SC 63837</td>\n",
              "      <td>-34.1913725</td>\n",
              "      <td>-80.891959</td>\n",
              "    </tr>\n",
              "    <tr>\n",
              "      <th>41</th>\n",
              "      <td>Kathleen Hansen</td>\n",
              "      <td>50.0</td>\n",
              "      <td>76.125710</td>\n",
              "      <td>1492 Castro Gardens Suite 526\\nCarrmouth, FM 7...</td>\n",
              "      <td>86.928086</td>\n",
              "      <td>-160.143520</td>\n",
              "    </tr>\n",
              "    <tr>\n",
              "      <th>42</th>\n",
              "      <td>Joseph Butler</td>\n",
              "      <td>67.0</td>\n",
              "      <td>66.637309</td>\n",
              "      <td>PSC 2831, Box 4929\\nAPO AA 15310</td>\n",
              "      <td>22.061343</td>\n",
              "      <td>10.694125</td>\n",
              "    </tr>\n",
              "    <tr>\n",
              "      <th>43</th>\n",
              "      <td>William Marquez</td>\n",
              "      <td>77.0</td>\n",
              "      <td>98.072962</td>\n",
              "      <td>98909 Kristen Views Apt. 573\\nWilliamsview, AR...</td>\n",
              "      <td>-33.284348</td>\n",
              "      <td>-26.763243</td>\n",
              "    </tr>\n",
              "    <tr>\n",
              "      <th>44</th>\n",
              "      <td>Jill Jones</td>\n",
              "      <td>90.0</td>\n",
              "      <td>93.024773</td>\n",
              "      <td>7152 Rebecca Court Suite 128\\nNorth Kellyview,...</td>\n",
              "      <td>-49.0992135</td>\n",
              "      <td>-147.827005</td>\n",
              "    </tr>\n",
              "    <tr>\n",
              "      <th>45</th>\n",
              "      <td>Michael Taylor</td>\n",
              "      <td>45.0</td>\n",
              "      <td>68.635802</td>\n",
              "      <td>207 Baker Court Apt. 304\\nWest Markshire, AS 6...</td>\n",
              "      <td>-42.010160</td>\n",
              "      <td>-133.414608</td>\n",
              "    </tr>\n",
              "    <tr>\n",
              "      <th>46</th>\n",
              "      <td>Blake Barr</td>\n",
              "      <td>23.0</td>\n",
              "      <td>75.564741</td>\n",
              "      <td>59128 Santiago Canyon Suite 386\\nMooremouth, I...</td>\n",
              "      <td>-69.3427795</td>\n",
              "      <td>77.466884</td>\n",
              "    </tr>\n",
              "    <tr>\n",
              "      <th>47</th>\n",
              "      <td>Mary Dean</td>\n",
              "      <td>49.0</td>\n",
              "      <td>96.595992</td>\n",
              "      <td>91881 James Route Apt. 799\\nWest Marybury, TN ...</td>\n",
              "      <td>13.7404055</td>\n",
              "      <td>175.072125</td>\n",
              "    </tr>\n",
              "    <tr>\n",
              "      <th>48</th>\n",
              "      <td>Steve Quinn</td>\n",
              "      <td>23.0</td>\n",
              "      <td>86.340016</td>\n",
              "      <td>38759 Richards Drive\\nNorth Susanland, CT 49514</td>\n",
              "      <td>81.819709</td>\n",
              "      <td>90.409098</td>\n",
              "    </tr>\n",
              "    <tr>\n",
              "      <th>49</th>\n",
              "      <td>Jonathan Tyler</td>\n",
              "      <td>85.0</td>\n",
              "      <td>94.851866</td>\n",
              "      <td>6294 Middleton Ridge\\nJosebury, PW 61571</td>\n",
              "      <td>6.5498715</td>\n",
              "      <td>-87.048138</td>\n",
              "    </tr>\n",
              "  </tbody>\n",
              "</table>\n",
              "</div>"
            ],
            "text/plain": [
              "                     name   age     Weight  \\\n",
              "0             Joshua Pena  98.0  81.046001   \n",
              "1     Christopher Johnson  24.0  75.814022   \n",
              "2       Mrs. Melissa Tran  45.0  65.004626   \n",
              "3          Angela Fuentes  90.0  99.596537   \n",
              "4            Dakota Vance  46.0  80.878601   \n",
              "5            Carmen Davis  60.0  84.411979   \n",
              "6         Susan Carpenter  22.0  67.632905   \n",
              "7            Danielle Lin  90.0  79.306192   \n",
              "8       Timothy Rodriguez  67.0  83.982275   \n",
              "9           Anthony Greer  21.0  83.485231   \n",
              "10           Jamie Wilson  74.0  69.754598   \n",
              "11          Keith Mcgrath  41.0  88.659224   \n",
              "12            Tammy Walsh  21.0  66.696354   \n",
              "13          Kristy Carter  71.0  97.407881   \n",
              "14              Robert Yu  42.0  99.928271   \n",
              "15            Bill Torres  97.0  66.767797   \n",
              "16           Dustin Young  70.0  65.489080   \n",
              "17            Lisa Walker  25.0  60.180592   \n",
              "18            Dawn Warner  97.0  73.613201   \n",
              "19        Jennifer Barton  33.0  98.762658   \n",
              "20          Jessica Garza  47.0  91.936786   \n",
              "21         Matthew Pruitt  73.0  75.574269   \n",
              "22       Catherine Snyder  92.0  84.693634   \n",
              "23          Jonathan Luna  58.0  78.200182   \n",
              "24       Frank Patton DDS  75.0  82.316966   \n",
              "25        Ashley Cummings  43.0  86.612055   \n",
              "26        Joshua Lawrence  35.0  94.452624   \n",
              "27             Anna Gibbs  26.0  62.628755   \n",
              "28           Ashley Grant  19.0  78.834365   \n",
              "29             Bryan Peck  68.0  83.463274   \n",
              "30         Tristan Cherry  87.0  79.266041   \n",
              "31  Miss Cassidy Campbell  20.0  68.198638   \n",
              "32          John Martinez  65.0  63.098594   \n",
              "33        Jason Blackburn  72.0  66.631014   \n",
              "34          Melissa Smith  79.0  97.664944   \n",
              "35           Olivia Meyer  26.0  60.278980   \n",
              "36        Linda Hernandez  64.0  66.599396   \n",
              "37           Shawn Thomas  20.0  77.800284   \n",
              "38          Daniel Pierce  82.0  66.822580   \n",
              "39        Darrell Stevens  23.0  70.485564   \n",
              "40         Patricia Smith  76.0  76.326991   \n",
              "41        Kathleen Hansen  50.0  76.125710   \n",
              "42          Joseph Butler  67.0  66.637309   \n",
              "43        William Marquez  77.0  98.072962   \n",
              "44             Jill Jones  90.0  93.024773   \n",
              "45         Michael Taylor  45.0  68.635802   \n",
              "46             Blake Barr  23.0  75.564741   \n",
              "47              Mary Dean  49.0  96.595992   \n",
              "48            Steve Quinn  23.0  86.340016   \n",
              "49         Jonathan Tyler  85.0  94.851866   \n",
              "\n",
              "                                              address     latitude  \\\n",
              "0   346 Chavez Mountains Suite 058\\nBlackwellbury,...   68.3493685   \n",
              "1           436 Adams Views\\nWest Dianafurt, LA 25651   64.3449365   \n",
              "2   1733 Campbell Points Suite 514\\nMatthewborough...  -41.8038075   \n",
              "3                              USS Bell\\nFPO AP 89739    68.213185   \n",
              "4   66903 Herrera Squares Apt. 159\\nClaudiatown, P...    54.686146   \n",
              "5     20262 Montes Court Apt. 404\\nLisatown, AZ 39861   -10.175715   \n",
              "6       89610 Cody River\\nNorth Shelleyside, TX 80784   29.5869545   \n",
              "7           780 Carolyn Common\\nJessicafurt, OK 34378   58.4041915   \n",
              "8   2199 Scott Fields Suite 801\\nHenryville, AL 48406   27.7960695   \n",
              "9      5782 Cory Mount Suite 514\\nPort Dale, MT 76769   -10.329071   \n",
              "10  6277 Michael Throughway\\nNorth Vincentstad, NE...  -89.7366605   \n",
              "11                   Unit 4562 Box 2707\\nDPO AA 30410   -73.818617   \n",
              "12             1682 Ashley Drive\\nNew Nancy, NH 33661   36.2458415   \n",
              "13    6362 Morgan Ports Apt. 344\\nBrownport, NY 73771     4.491059   \n",
              "14   07836 Rodriguez Lights\\nSouth Jennifer, AR 50151   -43.583752   \n",
              "15                   Unit 2628 Box 3955\\nDPO AA 96825   -19.633471   \n",
              "16                         USNS Jimenez\\nFPO AP 74245  -79.4839805   \n",
              "17         132 Cardenas Mall\\nElizabethfurt, OR 97692  -32.2142845   \n",
              "18  49069 Long Hills Suite 169\\nPort Gregory, PA 3...    7.0969025   \n",
              "19              424 Bonnie Shoal\\nDonnafort, GA 25649   -30.971202   \n",
              "20     6062 Church Harbors\\nNorth Bryanport, UT 22301   -82.767591   \n",
              "21  71849 Edwards Causeway Apt. 572\\nPatriciashire...    -3.896913   \n",
              "22  53828 Simmons Street Apt. 005\\nSouth Jessica, ...    41.524740   \n",
              "23            648 Adam Harbor\\nVeronicaberg, UT 17702  -27.7716895   \n",
              "24               72024 Shawn Way\\nWendystad, WI 65662   -45.314641   \n",
              "25  82583 Ward Coves Suite 510\\nHoffmanhaven, VT 8...   79.4200025   \n",
              "26          68001 Christine Rest\\nBeckhaven, WA 57893  -51.9926205   \n",
              "27  0009 Amy Run Suite 494\\nPort Meganville, MO 14340   -47.126065   \n",
              "28  157 Schneider Forks Apt. 528\\nJosephberg, CT 0...     8.427415   \n",
              "29       730 Joshua Oval Apt. 699\\nLeonberg, AS 08123  -77.9004455   \n",
              "30          419 Sean Ridge\\nSouth Aaronbury, NE 44147    40.863266   \n",
              "31             742 Melody Oval\\nLake Justin, IN 41399  -23.9132435   \n",
              "32  24763 Lance Expressway Suite 156\\nSusanfurt, W...   76.4669685   \n",
              "33  92539 Michele Ports Apt. 050\\nTrevinoport, AZ ...   70.9976325   \n",
              "34           237 Anthony Walks\\nJohnsonview, MN 76445   -5.6143185   \n",
              "35  81693 Jessica Valleys Apt. 330\\nNew Jennystad,...   -74.775794   \n",
              "36  81983 Timothy Village Apt. 359\\nEast Angela, V...   -7.6691365   \n",
              "37          826 Chavez Forks\\nNorth Kenneth, VI 54103     9.326919   \n",
              "38         7290 Darryl Mission\\nChadborough, NY 91297   70.1337425   \n",
              "39             762 Hester Way\\nPort Michael, AK 80219    83.757678   \n",
              "40  142 Dalton Lodge Apt. 699\\nJamesborough, SC 63837  -34.1913725   \n",
              "41  1492 Castro Gardens Suite 526\\nCarrmouth, FM 7...    86.928086   \n",
              "42                   PSC 2831, Box 4929\\nAPO AA 15310    22.061343   \n",
              "43  98909 Kristen Views Apt. 573\\nWilliamsview, AR...   -33.284348   \n",
              "44  7152 Rebecca Court Suite 128\\nNorth Kellyview,...  -49.0992135   \n",
              "45  207 Baker Court Apt. 304\\nWest Markshire, AS 6...   -42.010160   \n",
              "46  59128 Santiago Canyon Suite 386\\nMooremouth, I...  -69.3427795   \n",
              "47  91881 James Route Apt. 799\\nWest Marybury, TN ...   13.7404055   \n",
              "48    38759 Richards Drive\\nNorth Susanland, CT 49514    81.819709   \n",
              "49           6294 Middleton Ridge\\nJosebury, PW 61571    6.5498715   \n",
              "\n",
              "      longitude  \n",
              "0     83.570145  \n",
              "1    103.825490  \n",
              "2   -143.697172  \n",
              "3     22.303057  \n",
              "4    -15.800889  \n",
              "5   -122.657158  \n",
              "6    160.566948  \n",
              "7     92.108636  \n",
              "8    -68.303589  \n",
              "9   -164.408883  \n",
              "10    30.010665  \n",
              "11  -123.312060  \n",
              "12   -21.496736  \n",
              "13   139.203365  \n",
              "14    82.485135  \n",
              "15     4.420950  \n",
              "16   -51.312770  \n",
              "17  -151.591323  \n",
              "18   -79.953842  \n",
              "19    46.091725  \n",
              "20    49.525837  \n",
              "21   103.724170  \n",
              "22   -63.271579  \n",
              "23   124.567241  \n",
              "24   -29.278007  \n",
              "25   146.851717  \n",
              "26    83.700554  \n",
              "27    93.487065  \n",
              "28   120.661791  \n",
              "29    14.432914  \n",
              "30    89.114859  \n",
              "31   -66.369190  \n",
              "32  -142.112908  \n",
              "33   -67.149280  \n",
              "34   136.204518  \n",
              "35  -149.606645  \n",
              "36   -67.242728  \n",
              "37   102.974864  \n",
              "38    29.846216  \n",
              "39   -85.277974  \n",
              "40   -80.891959  \n",
              "41  -160.143520  \n",
              "42    10.694125  \n",
              "43   -26.763243  \n",
              "44  -147.827005  \n",
              "45  -133.414608  \n",
              "46    77.466884  \n",
              "47   175.072125  \n",
              "48    90.409098  \n",
              "49   -87.048138  "
            ]
          },
          "execution_count": 6,
          "metadata": {},
          "output_type": "execute_result"
        }
      ],
      "source": [
        "from random import randint\n",
        "import pandas as pd\n",
        "import random\n",
        "\n",
        "fake = Faker()\n",
        "\n",
        "def input_data(n_rows):\n",
        "\n",
        "    # pandas dataframe\n",
        "    data = pd.DataFrame()\n",
        "    for i in range(0, n_rows):\n",
        "        data.loc[i,'name']= fake.name()\n",
        "        data.loc[i,'age']= fake.random_int(18, 100)\n",
        "        data.loc[i,'Weight']= random.uniform(60, 100)\n",
        "        data.loc[i,'address']= fake.address()\n",
        "        data.loc[i,'latitude']= str(fake.latitude())\n",
        "        data.loc[i,'longitude']= str(fake.longitude())\n",
        "    return data\n",
        "\n",
        "\n",
        "input_data(50)"
      ]
    },
    {
      "cell_type": "markdown",
      "metadata": {
        "id": "G8wFFbqDEkJn"
      },
      "source": [
        "### Challenge 9:\n",
        "Update the  example above so that you:\n",
        "- Generate a `height` feature following a gaussian distribution of with mu=180 cm and a std_deviation=15.5 cm.\n",
        "- Generate a `bmi` feature where bmi = Weight / (height (in meter) **2)."
      ]
    },
    {
      "cell_type": "code",
      "execution_count": 37,
      "metadata": {
        "id": "jWlh8FjvEkJn"
      },
      "outputs": [],
      "source": [
        "#Your Solution"
      ]
    }
  ],
  "metadata": {
    "colab": {
      "provenance": []
    },
    "kernelspec": {
      "display_name": "ModSim_env",
      "language": "python",
      "name": "python3"
    },
    "language_info": {
      "codemirror_mode": {
        "name": "ipython",
        "version": 3
      },
      "file_extension": ".py",
      "mimetype": "text/x-python",
      "name": "python",
      "nbconvert_exporter": "python",
      "pygments_lexer": "ipython3",
      "version": "3.10.16"
    }
  },
  "nbformat": 4,
  "nbformat_minor": 0
}
